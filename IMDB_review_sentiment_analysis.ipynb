{
  "cells": [
    {
      "cell_type": "markdown",
      "metadata": {
        "id": "view-in-github",
        "colab_type": "text"
      },
      "source": [
        "<a href=\"https://colab.research.google.com/github/debabratabepari/Sentiment-Analysis-of-Movie-reviews/blob/main/IMDB_review_sentiment_analysis.ipynb\" target=\"_parent\"><img src=\"https://colab.research.google.com/assets/colab-badge.svg\" alt=\"Open In Colab\"/></a>"
      ]
    },
    {
      "cell_type": "code",
      "execution_count": null,
      "id": "814b0ee5",
      "metadata": {
        "id": "814b0ee5"
      },
      "outputs": [],
      "source": [
        "import pandas as pd"
      ]
    },
    {
      "cell_type": "code",
      "execution_count": null,
      "id": "e305c77a",
      "metadata": {
        "id": "e305c77a"
      },
      "outputs": [],
      "source": [
        "# loading the dataset\n",
        "df = pd.read_csv(\"IMDB Dataset.csv\")"
      ]
    },
    {
      "cell_type": "code",
      "execution_count": null,
      "id": "2819b3e5",
      "metadata": {
        "colab": {
          "base_uri": "https://localhost:8080/",
          "height": 206
        },
        "id": "2819b3e5",
        "outputId": "faf5b324-acaf-4365-8883-56aef2cb7240"
      },
      "outputs": [
        {
          "output_type": "execute_result",
          "data": {
            "text/plain": [
              "                                              review sentiment\n",
              "0  One of the other reviewers has mentioned that ...  positive\n",
              "1  A wonderful little production. <br /><br />The...  positive\n",
              "2  I thought this was a wonderful way to spend ti...  positive\n",
              "3  Basically there's a family where a little boy ...  negative\n",
              "4  Petter Mattei's \"Love in the Time of Money\" is...  positive"
            ],
            "text/html": [
              "\n",
              "  <div id=\"df-912e4c7b-a2e2-4929-a4d7-20478959ed6e\" class=\"colab-df-container\">\n",
              "    <div>\n",
              "<style scoped>\n",
              "    .dataframe tbody tr th:only-of-type {\n",
              "        vertical-align: middle;\n",
              "    }\n",
              "\n",
              "    .dataframe tbody tr th {\n",
              "        vertical-align: top;\n",
              "    }\n",
              "\n",
              "    .dataframe thead th {\n",
              "        text-align: right;\n",
              "    }\n",
              "</style>\n",
              "<table border=\"1\" class=\"dataframe\">\n",
              "  <thead>\n",
              "    <tr style=\"text-align: right;\">\n",
              "      <th></th>\n",
              "      <th>review</th>\n",
              "      <th>sentiment</th>\n",
              "    </tr>\n",
              "  </thead>\n",
              "  <tbody>\n",
              "    <tr>\n",
              "      <th>0</th>\n",
              "      <td>One of the other reviewers has mentioned that ...</td>\n",
              "      <td>positive</td>\n",
              "    </tr>\n",
              "    <tr>\n",
              "      <th>1</th>\n",
              "      <td>A wonderful little production. &lt;br /&gt;&lt;br /&gt;The...</td>\n",
              "      <td>positive</td>\n",
              "    </tr>\n",
              "    <tr>\n",
              "      <th>2</th>\n",
              "      <td>I thought this was a wonderful way to spend ti...</td>\n",
              "      <td>positive</td>\n",
              "    </tr>\n",
              "    <tr>\n",
              "      <th>3</th>\n",
              "      <td>Basically there's a family where a little boy ...</td>\n",
              "      <td>negative</td>\n",
              "    </tr>\n",
              "    <tr>\n",
              "      <th>4</th>\n",
              "      <td>Petter Mattei's \"Love in the Time of Money\" is...</td>\n",
              "      <td>positive</td>\n",
              "    </tr>\n",
              "  </tbody>\n",
              "</table>\n",
              "</div>\n",
              "    <div class=\"colab-df-buttons\">\n",
              "\n",
              "  <div class=\"colab-df-container\">\n",
              "    <button class=\"colab-df-convert\" onclick=\"convertToInteractive('df-912e4c7b-a2e2-4929-a4d7-20478959ed6e')\"\n",
              "            title=\"Convert this dataframe to an interactive table.\"\n",
              "            style=\"display:none;\">\n",
              "\n",
              "  <svg xmlns=\"http://www.w3.org/2000/svg\" height=\"24px\" viewBox=\"0 -960 960 960\">\n",
              "    <path d=\"M120-120v-720h720v720H120Zm60-500h600v-160H180v160Zm220 220h160v-160H400v160Zm0 220h160v-160H400v160ZM180-400h160v-160H180v160Zm440 0h160v-160H620v160ZM180-180h160v-160H180v160Zm440 0h160v-160H620v160Z\"/>\n",
              "  </svg>\n",
              "    </button>\n",
              "\n",
              "  <style>\n",
              "    .colab-df-container {\n",
              "      display:flex;\n",
              "      gap: 12px;\n",
              "    }\n",
              "\n",
              "    .colab-df-convert {\n",
              "      background-color: #E8F0FE;\n",
              "      border: none;\n",
              "      border-radius: 50%;\n",
              "      cursor: pointer;\n",
              "      display: none;\n",
              "      fill: #1967D2;\n",
              "      height: 32px;\n",
              "      padding: 0 0 0 0;\n",
              "      width: 32px;\n",
              "    }\n",
              "\n",
              "    .colab-df-convert:hover {\n",
              "      background-color: #E2EBFA;\n",
              "      box-shadow: 0px 1px 2px rgba(60, 64, 67, 0.3), 0px 1px 3px 1px rgba(60, 64, 67, 0.15);\n",
              "      fill: #174EA6;\n",
              "    }\n",
              "\n",
              "    .colab-df-buttons div {\n",
              "      margin-bottom: 4px;\n",
              "    }\n",
              "\n",
              "    [theme=dark] .colab-df-convert {\n",
              "      background-color: #3B4455;\n",
              "      fill: #D2E3FC;\n",
              "    }\n",
              "\n",
              "    [theme=dark] .colab-df-convert:hover {\n",
              "      background-color: #434B5C;\n",
              "      box-shadow: 0px 1px 3px 1px rgba(0, 0, 0, 0.15);\n",
              "      filter: drop-shadow(0px 1px 2px rgba(0, 0, 0, 0.3));\n",
              "      fill: #FFFFFF;\n",
              "    }\n",
              "  </style>\n",
              "\n",
              "    <script>\n",
              "      const buttonEl =\n",
              "        document.querySelector('#df-912e4c7b-a2e2-4929-a4d7-20478959ed6e button.colab-df-convert');\n",
              "      buttonEl.style.display =\n",
              "        google.colab.kernel.accessAllowed ? 'block' : 'none';\n",
              "\n",
              "      async function convertToInteractive(key) {\n",
              "        const element = document.querySelector('#df-912e4c7b-a2e2-4929-a4d7-20478959ed6e');\n",
              "        const dataTable =\n",
              "          await google.colab.kernel.invokeFunction('convertToInteractive',\n",
              "                                                    [key], {});\n",
              "        if (!dataTable) return;\n",
              "\n",
              "        const docLinkHtml = 'Like what you see? Visit the ' +\n",
              "          '<a target=\"_blank\" href=https://colab.research.google.com/notebooks/data_table.ipynb>data table notebook</a>'\n",
              "          + ' to learn more about interactive tables.';\n",
              "        element.innerHTML = '';\n",
              "        dataTable['output_type'] = 'display_data';\n",
              "        await google.colab.output.renderOutput(dataTable, element);\n",
              "        const docLink = document.createElement('div');\n",
              "        docLink.innerHTML = docLinkHtml;\n",
              "        element.appendChild(docLink);\n",
              "      }\n",
              "    </script>\n",
              "  </div>\n",
              "\n",
              "\n",
              "<div id=\"df-fdd491b4-4fdc-437a-9eda-08f8447f6f94\">\n",
              "  <button class=\"colab-df-quickchart\" onclick=\"quickchart('df-fdd491b4-4fdc-437a-9eda-08f8447f6f94')\"\n",
              "            title=\"Suggest charts\"\n",
              "            style=\"display:none;\">\n",
              "\n",
              "<svg xmlns=\"http://www.w3.org/2000/svg\" height=\"24px\"viewBox=\"0 0 24 24\"\n",
              "     width=\"24px\">\n",
              "    <g>\n",
              "        <path d=\"M19 3H5c-1.1 0-2 .9-2 2v14c0 1.1.9 2 2 2h14c1.1 0 2-.9 2-2V5c0-1.1-.9-2-2-2zM9 17H7v-7h2v7zm4 0h-2V7h2v10zm4 0h-2v-4h2v4z\"/>\n",
              "    </g>\n",
              "</svg>\n",
              "  </button>\n",
              "\n",
              "<style>\n",
              "  .colab-df-quickchart {\n",
              "      --bg-color: #E8F0FE;\n",
              "      --fill-color: #1967D2;\n",
              "      --hover-bg-color: #E2EBFA;\n",
              "      --hover-fill-color: #174EA6;\n",
              "      --disabled-fill-color: #AAA;\n",
              "      --disabled-bg-color: #DDD;\n",
              "  }\n",
              "\n",
              "  [theme=dark] .colab-df-quickchart {\n",
              "      --bg-color: #3B4455;\n",
              "      --fill-color: #D2E3FC;\n",
              "      --hover-bg-color: #434B5C;\n",
              "      --hover-fill-color: #FFFFFF;\n",
              "      --disabled-bg-color: #3B4455;\n",
              "      --disabled-fill-color: #666;\n",
              "  }\n",
              "\n",
              "  .colab-df-quickchart {\n",
              "    background-color: var(--bg-color);\n",
              "    border: none;\n",
              "    border-radius: 50%;\n",
              "    cursor: pointer;\n",
              "    display: none;\n",
              "    fill: var(--fill-color);\n",
              "    height: 32px;\n",
              "    padding: 0;\n",
              "    width: 32px;\n",
              "  }\n",
              "\n",
              "  .colab-df-quickchart:hover {\n",
              "    background-color: var(--hover-bg-color);\n",
              "    box-shadow: 0 1px 2px rgba(60, 64, 67, 0.3), 0 1px 3px 1px rgba(60, 64, 67, 0.15);\n",
              "    fill: var(--button-hover-fill-color);\n",
              "  }\n",
              "\n",
              "  .colab-df-quickchart-complete:disabled,\n",
              "  .colab-df-quickchart-complete:disabled:hover {\n",
              "    background-color: var(--disabled-bg-color);\n",
              "    fill: var(--disabled-fill-color);\n",
              "    box-shadow: none;\n",
              "  }\n",
              "\n",
              "  .colab-df-spinner {\n",
              "    border: 2px solid var(--fill-color);\n",
              "    border-color: transparent;\n",
              "    border-bottom-color: var(--fill-color);\n",
              "    animation:\n",
              "      spin 1s steps(1) infinite;\n",
              "  }\n",
              "\n",
              "  @keyframes spin {\n",
              "    0% {\n",
              "      border-color: transparent;\n",
              "      border-bottom-color: var(--fill-color);\n",
              "      border-left-color: var(--fill-color);\n",
              "    }\n",
              "    20% {\n",
              "      border-color: transparent;\n",
              "      border-left-color: var(--fill-color);\n",
              "      border-top-color: var(--fill-color);\n",
              "    }\n",
              "    30% {\n",
              "      border-color: transparent;\n",
              "      border-left-color: var(--fill-color);\n",
              "      border-top-color: var(--fill-color);\n",
              "      border-right-color: var(--fill-color);\n",
              "    }\n",
              "    40% {\n",
              "      border-color: transparent;\n",
              "      border-right-color: var(--fill-color);\n",
              "      border-top-color: var(--fill-color);\n",
              "    }\n",
              "    60% {\n",
              "      border-color: transparent;\n",
              "      border-right-color: var(--fill-color);\n",
              "    }\n",
              "    80% {\n",
              "      border-color: transparent;\n",
              "      border-right-color: var(--fill-color);\n",
              "      border-bottom-color: var(--fill-color);\n",
              "    }\n",
              "    90% {\n",
              "      border-color: transparent;\n",
              "      border-bottom-color: var(--fill-color);\n",
              "    }\n",
              "  }\n",
              "</style>\n",
              "\n",
              "  <script>\n",
              "    async function quickchart(key) {\n",
              "      const quickchartButtonEl =\n",
              "        document.querySelector('#' + key + ' button');\n",
              "      quickchartButtonEl.disabled = true;  // To prevent multiple clicks.\n",
              "      quickchartButtonEl.classList.add('colab-df-spinner');\n",
              "      try {\n",
              "        const charts = await google.colab.kernel.invokeFunction(\n",
              "            'suggestCharts', [key], {});\n",
              "      } catch (error) {\n",
              "        console.error('Error during call to suggestCharts:', error);\n",
              "      }\n",
              "      quickchartButtonEl.classList.remove('colab-df-spinner');\n",
              "      quickchartButtonEl.classList.add('colab-df-quickchart-complete');\n",
              "    }\n",
              "    (() => {\n",
              "      let quickchartButtonEl =\n",
              "        document.querySelector('#df-fdd491b4-4fdc-437a-9eda-08f8447f6f94 button');\n",
              "      quickchartButtonEl.style.display =\n",
              "        google.colab.kernel.accessAllowed ? 'block' : 'none';\n",
              "    })();\n",
              "  </script>\n",
              "</div>\n",
              "\n",
              "    </div>\n",
              "  </div>\n"
            ],
            "application/vnd.google.colaboratory.intrinsic+json": {
              "type": "dataframe",
              "variable_name": "df",
              "summary": "{\n  \"name\": \"df\",\n  \"rows\": 50000,\n  \"fields\": [\n    {\n      \"column\": \"review\",\n      \"properties\": {\n        \"dtype\": \"string\",\n        \"num_unique_values\": 49582,\n        \"samples\": [\n          \"\\\"Soul Plane\\\" is a horrible attempt at comedy that only should appeal people with thick skulls, bloodshot eyes and furry pawns. <br /><br />The plot is not only incoherent but also non-existent, acting is mostly sub sub-par with a gang of highly moronic and dreadful characters thrown in for bad measure, jokes are often spotted miles ahead and almost never even a bit amusing. This movie lacks any structure and is full of racial stereotypes that must have seemed old even in the fifties, the only thing it really has going for it is some pretty ladies, but really, if you want that you can rent something from the \\\"Adult\\\" section. OK?<br /><br />I can hardly see anything here to recommend since you'll probably have a lot a better and productive time chasing rats with a sledgehammer or inventing waterproof teabags or whatever.<br /><br />2/10\",\n          \"Guest from the Future tells a fascinating story of time travel, friendship, battle of good and evil -- all with a small budget, child actors, and few special effects. Something for Spielberg and Lucas to learn from. ;) A sixth-grader Kolya \\\"Nick\\\" Gerasimov finds a time machine in the basement of a decrepit building and travels 100 years into the future. He discovers a near-perfect, utopian society where robots play guitars and write poetry, everyone is kind to each other and people enjoy everything technology has to offer. Alice is the daughter of a prominent scientist who invented a device called Mielophone that allows to read minds of humans and animals. The device can be put to both good and bad use, depending on whose hands it falls into. When two evil space pirates from Saturn who want to rule the universe attempt to steal Mielophone, it falls into the hands of 20th century school boy Nick. With the pirates hot on his tracks, he travels back to his time, followed by the pirates, and Alice. Chaos, confusion and funny situations follow as the luckless pirates try to blend in with the earthlings. Alice enrolls in the same school Nick goes to and demonstrates superhuman abilities in PE class. The catch is, Alice doesn't know what Nick looks like, while the pirates do. Also, the pirates are able to change their appearance and turn literally into anyone. (Hmm, I wonder if this is where James Cameron got the idea for Terminator...) Who gets to Nick -- and Mielophone -- first? Excellent plot, non-stop adventures, and great soundtrack. I wish Hollywood made kid movies like this one...\",\n          \"\\\"National Treasure\\\" (2004) is a thoroughly misguided hodge-podge of plot entanglements that borrow from nearly every cloak and dagger government conspiracy clich\\u00e9 that has ever been written. The film stars Nicholas Cage as Benjamin Franklin Gates (how precious is that, I ask you?); a seemingly normal fellow who, for no other reason than being of a lineage of like-minded misguided fortune hunters, decides to steal a 'national treasure' that has been hidden by the United States founding fathers. After a bit of subtext and background that plays laughably (unintentionally) like Indiana Jones meets The Patriot, the film degenerates into one misguided whimsy after another \\u0096 attempting to create a 'Stanley Goodspeed' regurgitation of Nicholas Cage and launch the whole convoluted mess forward with a series of high octane, but disconnected misadventures.<br /><br />The relevancy and logic to having George Washington and his motley crew of patriots burying a king's ransom someplace on native soil, and then, going through the meticulous plan of leaving clues scattered throughout U.S. currency art work, is something that director Jon Turteltaub never quite gets around to explaining. Couldn't Washington found better usage for such wealth during the start up of the country? Hence, we are left with a mystery built on top of an enigma that is already on shaky ground by the time Ben appoints himself the new custodian of this untold wealth. Ben's intentions are noble \\u0096 if confusing. He's set on protecting the treasure. For who and when?\\u0085your guess is as good as mine.<br /><br />But there are a few problems with Ben's crusade. First up, his friend, Ian Holmes (Sean Bean) decides that he can't wait for Ben to make up his mind about stealing the Declaration of Independence from the National Archives (oh, yeah \\u0096 brilliant idea!). Presumably, the back of that famous document holds the secret answer to the ultimate fortune. So Ian tries to kill Ben. The assassination attempt is, of course, unsuccessful, if overly melodramatic. It also affords Ben the opportunity to pick up, and pick on, the very sultry curator of the archives, Abigail Chase (Diane Kruger). She thinks Ben is clearly a nut \\u0096 at least at the beginning. But true to action/romance form, Abby's resolve melts quicker than you can say, \\\"is that the Hope Diamond?\\\" The film moves into full X-File-ish mode, as the FBI, mistakenly believing that Ben is behind the theft, retaliate in various benign ways that lead to a multi-layering of action sequences reminiscent of Mission Impossible meets The Fugitive. Honestly, don't those guys ever get 'intelligence' information that is correct? In the final analysis, \\\"National Treasure\\\" isn't great film making, so much as it's a patchwork rehash of tired old bits from other movies, woven together from scraps, the likes of which would make IL' Betsy Ross blush.<br /><br />The Buena Vista DVD delivers a far more generous treatment than this film is deserving of. The anamorphic widescreen picture exhibits a very smooth and finely detailed image with very rich colors, natural flesh tones, solid blacks and clean whites. The stylized image is also free of blemishes and digital enhancements. The audio is 5.1 and delivers a nice sonic boom to your side and rear speakers with intensity and realism. Extras include a host of promotional junket material that is rather deep and over the top in its explanation of how and why this film was made. If only, as an audience, we had had more clarification as to why Ben and co. were chasing after an illusive treasure, this might have been one good flick. Extras conclude with the theatrical trailer, audio commentary and deleted scenes. Not for the faint-hearted \\u0096 just the thick-headed.\"\n        ],\n        \"semantic_type\": \"\",\n        \"description\": \"\"\n      }\n    },\n    {\n      \"column\": \"sentiment\",\n      \"properties\": {\n        \"dtype\": \"category\",\n        \"num_unique_values\": 2,\n        \"samples\": [\n          \"negative\",\n          \"positive\"\n        ],\n        \"semantic_type\": \"\",\n        \"description\": \"\"\n      }\n    }\n  ]\n}"
            }
          },
          "metadata": {},
          "execution_count": 3
        }
      ],
      "source": [
        "df.head()"
      ]
    },
    {
      "cell_type": "code",
      "execution_count": null,
      "id": "9117dd49",
      "metadata": {
        "colab": {
          "base_uri": "https://localhost:8080/"
        },
        "id": "9117dd49",
        "outputId": "2775648a-f20a-4d7f-ed82-90beb433d689"
      },
      "outputs": [
        {
          "output_type": "execute_result",
          "data": {
            "text/plain": [
              "review       0\n",
              "sentiment    0\n",
              "dtype: int64"
            ]
          },
          "metadata": {},
          "execution_count": 4
        }
      ],
      "source": [
        "# missing value checking\n",
        "df.isnull().sum()"
      ]
    },
    {
      "cell_type": "code",
      "execution_count": null,
      "id": "93eb0ed4",
      "metadata": {
        "colab": {
          "base_uri": "https://localhost:8080/"
        },
        "id": "93eb0ed4",
        "outputId": "e5d8b4fc-52b0-45fc-835e-64ce029b24e3"
      },
      "outputs": [
        {
          "output_type": "execute_result",
          "data": {
            "text/plain": [
              "array(['positive', 'negative'], dtype=object)"
            ]
          },
          "metadata": {},
          "execution_count": 5
        }
      ],
      "source": [
        "df[\"sentiment\"].unique()"
      ]
    },
    {
      "cell_type": "code",
      "execution_count": null,
      "id": "a6580779",
      "metadata": {
        "colab": {
          "base_uri": "https://localhost:8080/",
          "height": 206
        },
        "id": "a6580779",
        "outputId": "64c3cd23-4944-4d82-c919-ba2482290e0b"
      },
      "outputs": [
        {
          "output_type": "execute_result",
          "data": {
            "text/plain": [
              "                                              review\n",
              "0  One of the other reviewers has mentioned that ...\n",
              "1  A wonderful little production. <br /><br />The...\n",
              "2  I thought this was a wonderful way to spend ti...\n",
              "3  Basically there's a family where a little boy ...\n",
              "4  Petter Mattei's \"Love in the Time of Money\" is..."
            ],
            "text/html": [
              "\n",
              "  <div id=\"df-c9341154-8a86-43d8-a46d-b81ea9a6bb86\" class=\"colab-df-container\">\n",
              "    <div>\n",
              "<style scoped>\n",
              "    .dataframe tbody tr th:only-of-type {\n",
              "        vertical-align: middle;\n",
              "    }\n",
              "\n",
              "    .dataframe tbody tr th {\n",
              "        vertical-align: top;\n",
              "    }\n",
              "\n",
              "    .dataframe thead th {\n",
              "        text-align: right;\n",
              "    }\n",
              "</style>\n",
              "<table border=\"1\" class=\"dataframe\">\n",
              "  <thead>\n",
              "    <tr style=\"text-align: right;\">\n",
              "      <th></th>\n",
              "      <th>review</th>\n",
              "    </tr>\n",
              "  </thead>\n",
              "  <tbody>\n",
              "    <tr>\n",
              "      <th>0</th>\n",
              "      <td>One of the other reviewers has mentioned that ...</td>\n",
              "    </tr>\n",
              "    <tr>\n",
              "      <th>1</th>\n",
              "      <td>A wonderful little production. &lt;br /&gt;&lt;br /&gt;The...</td>\n",
              "    </tr>\n",
              "    <tr>\n",
              "      <th>2</th>\n",
              "      <td>I thought this was a wonderful way to spend ti...</td>\n",
              "    </tr>\n",
              "    <tr>\n",
              "      <th>3</th>\n",
              "      <td>Basically there's a family where a little boy ...</td>\n",
              "    </tr>\n",
              "    <tr>\n",
              "      <th>4</th>\n",
              "      <td>Petter Mattei's \"Love in the Time of Money\" is...</td>\n",
              "    </tr>\n",
              "  </tbody>\n",
              "</table>\n",
              "</div>\n",
              "    <div class=\"colab-df-buttons\">\n",
              "\n",
              "  <div class=\"colab-df-container\">\n",
              "    <button class=\"colab-df-convert\" onclick=\"convertToInteractive('df-c9341154-8a86-43d8-a46d-b81ea9a6bb86')\"\n",
              "            title=\"Convert this dataframe to an interactive table.\"\n",
              "            style=\"display:none;\">\n",
              "\n",
              "  <svg xmlns=\"http://www.w3.org/2000/svg\" height=\"24px\" viewBox=\"0 -960 960 960\">\n",
              "    <path d=\"M120-120v-720h720v720H120Zm60-500h600v-160H180v160Zm220 220h160v-160H400v160Zm0 220h160v-160H400v160ZM180-400h160v-160H180v160Zm440 0h160v-160H620v160ZM180-180h160v-160H180v160Zm440 0h160v-160H620v160Z\"/>\n",
              "  </svg>\n",
              "    </button>\n",
              "\n",
              "  <style>\n",
              "    .colab-df-container {\n",
              "      display:flex;\n",
              "      gap: 12px;\n",
              "    }\n",
              "\n",
              "    .colab-df-convert {\n",
              "      background-color: #E8F0FE;\n",
              "      border: none;\n",
              "      border-radius: 50%;\n",
              "      cursor: pointer;\n",
              "      display: none;\n",
              "      fill: #1967D2;\n",
              "      height: 32px;\n",
              "      padding: 0 0 0 0;\n",
              "      width: 32px;\n",
              "    }\n",
              "\n",
              "    .colab-df-convert:hover {\n",
              "      background-color: #E2EBFA;\n",
              "      box-shadow: 0px 1px 2px rgba(60, 64, 67, 0.3), 0px 1px 3px 1px rgba(60, 64, 67, 0.15);\n",
              "      fill: #174EA6;\n",
              "    }\n",
              "\n",
              "    .colab-df-buttons div {\n",
              "      margin-bottom: 4px;\n",
              "    }\n",
              "\n",
              "    [theme=dark] .colab-df-convert {\n",
              "      background-color: #3B4455;\n",
              "      fill: #D2E3FC;\n",
              "    }\n",
              "\n",
              "    [theme=dark] .colab-df-convert:hover {\n",
              "      background-color: #434B5C;\n",
              "      box-shadow: 0px 1px 3px 1px rgba(0, 0, 0, 0.15);\n",
              "      filter: drop-shadow(0px 1px 2px rgba(0, 0, 0, 0.3));\n",
              "      fill: #FFFFFF;\n",
              "    }\n",
              "  </style>\n",
              "\n",
              "    <script>\n",
              "      const buttonEl =\n",
              "        document.querySelector('#df-c9341154-8a86-43d8-a46d-b81ea9a6bb86 button.colab-df-convert');\n",
              "      buttonEl.style.display =\n",
              "        google.colab.kernel.accessAllowed ? 'block' : 'none';\n",
              "\n",
              "      async function convertToInteractive(key) {\n",
              "        const element = document.querySelector('#df-c9341154-8a86-43d8-a46d-b81ea9a6bb86');\n",
              "        const dataTable =\n",
              "          await google.colab.kernel.invokeFunction('convertToInteractive',\n",
              "                                                    [key], {});\n",
              "        if (!dataTable) return;\n",
              "\n",
              "        const docLinkHtml = 'Like what you see? Visit the ' +\n",
              "          '<a target=\"_blank\" href=https://colab.research.google.com/notebooks/data_table.ipynb>data table notebook</a>'\n",
              "          + ' to learn more about interactive tables.';\n",
              "        element.innerHTML = '';\n",
              "        dataTable['output_type'] = 'display_data';\n",
              "        await google.colab.output.renderOutput(dataTable, element);\n",
              "        const docLink = document.createElement('div');\n",
              "        docLink.innerHTML = docLinkHtml;\n",
              "        element.appendChild(docLink);\n",
              "      }\n",
              "    </script>\n",
              "  </div>\n",
              "\n",
              "\n",
              "<div id=\"df-8b364dc1-3a37-40a4-ba4f-dccdbb1d0073\">\n",
              "  <button class=\"colab-df-quickchart\" onclick=\"quickchart('df-8b364dc1-3a37-40a4-ba4f-dccdbb1d0073')\"\n",
              "            title=\"Suggest charts\"\n",
              "            style=\"display:none;\">\n",
              "\n",
              "<svg xmlns=\"http://www.w3.org/2000/svg\" height=\"24px\"viewBox=\"0 0 24 24\"\n",
              "     width=\"24px\">\n",
              "    <g>\n",
              "        <path d=\"M19 3H5c-1.1 0-2 .9-2 2v14c0 1.1.9 2 2 2h14c1.1 0 2-.9 2-2V5c0-1.1-.9-2-2-2zM9 17H7v-7h2v7zm4 0h-2V7h2v10zm4 0h-2v-4h2v4z\"/>\n",
              "    </g>\n",
              "</svg>\n",
              "  </button>\n",
              "\n",
              "<style>\n",
              "  .colab-df-quickchart {\n",
              "      --bg-color: #E8F0FE;\n",
              "      --fill-color: #1967D2;\n",
              "      --hover-bg-color: #E2EBFA;\n",
              "      --hover-fill-color: #174EA6;\n",
              "      --disabled-fill-color: #AAA;\n",
              "      --disabled-bg-color: #DDD;\n",
              "  }\n",
              "\n",
              "  [theme=dark] .colab-df-quickchart {\n",
              "      --bg-color: #3B4455;\n",
              "      --fill-color: #D2E3FC;\n",
              "      --hover-bg-color: #434B5C;\n",
              "      --hover-fill-color: #FFFFFF;\n",
              "      --disabled-bg-color: #3B4455;\n",
              "      --disabled-fill-color: #666;\n",
              "  }\n",
              "\n",
              "  .colab-df-quickchart {\n",
              "    background-color: var(--bg-color);\n",
              "    border: none;\n",
              "    border-radius: 50%;\n",
              "    cursor: pointer;\n",
              "    display: none;\n",
              "    fill: var(--fill-color);\n",
              "    height: 32px;\n",
              "    padding: 0;\n",
              "    width: 32px;\n",
              "  }\n",
              "\n",
              "  .colab-df-quickchart:hover {\n",
              "    background-color: var(--hover-bg-color);\n",
              "    box-shadow: 0 1px 2px rgba(60, 64, 67, 0.3), 0 1px 3px 1px rgba(60, 64, 67, 0.15);\n",
              "    fill: var(--button-hover-fill-color);\n",
              "  }\n",
              "\n",
              "  .colab-df-quickchart-complete:disabled,\n",
              "  .colab-df-quickchart-complete:disabled:hover {\n",
              "    background-color: var(--disabled-bg-color);\n",
              "    fill: var(--disabled-fill-color);\n",
              "    box-shadow: none;\n",
              "  }\n",
              "\n",
              "  .colab-df-spinner {\n",
              "    border: 2px solid var(--fill-color);\n",
              "    border-color: transparent;\n",
              "    border-bottom-color: var(--fill-color);\n",
              "    animation:\n",
              "      spin 1s steps(1) infinite;\n",
              "  }\n",
              "\n",
              "  @keyframes spin {\n",
              "    0% {\n",
              "      border-color: transparent;\n",
              "      border-bottom-color: var(--fill-color);\n",
              "      border-left-color: var(--fill-color);\n",
              "    }\n",
              "    20% {\n",
              "      border-color: transparent;\n",
              "      border-left-color: var(--fill-color);\n",
              "      border-top-color: var(--fill-color);\n",
              "    }\n",
              "    30% {\n",
              "      border-color: transparent;\n",
              "      border-left-color: var(--fill-color);\n",
              "      border-top-color: var(--fill-color);\n",
              "      border-right-color: var(--fill-color);\n",
              "    }\n",
              "    40% {\n",
              "      border-color: transparent;\n",
              "      border-right-color: var(--fill-color);\n",
              "      border-top-color: var(--fill-color);\n",
              "    }\n",
              "    60% {\n",
              "      border-color: transparent;\n",
              "      border-right-color: var(--fill-color);\n",
              "    }\n",
              "    80% {\n",
              "      border-color: transparent;\n",
              "      border-right-color: var(--fill-color);\n",
              "      border-bottom-color: var(--fill-color);\n",
              "    }\n",
              "    90% {\n",
              "      border-color: transparent;\n",
              "      border-bottom-color: var(--fill-color);\n",
              "    }\n",
              "  }\n",
              "</style>\n",
              "\n",
              "  <script>\n",
              "    async function quickchart(key) {\n",
              "      const quickchartButtonEl =\n",
              "        document.querySelector('#' + key + ' button');\n",
              "      quickchartButtonEl.disabled = true;  // To prevent multiple clicks.\n",
              "      quickchartButtonEl.classList.add('colab-df-spinner');\n",
              "      try {\n",
              "        const charts = await google.colab.kernel.invokeFunction(\n",
              "            'suggestCharts', [key], {});\n",
              "      } catch (error) {\n",
              "        console.error('Error during call to suggestCharts:', error);\n",
              "      }\n",
              "      quickchartButtonEl.classList.remove('colab-df-spinner');\n",
              "      quickchartButtonEl.classList.add('colab-df-quickchart-complete');\n",
              "    }\n",
              "    (() => {\n",
              "      let quickchartButtonEl =\n",
              "        document.querySelector('#df-8b364dc1-3a37-40a4-ba4f-dccdbb1d0073 button');\n",
              "      quickchartButtonEl.style.display =\n",
              "        google.colab.kernel.accessAllowed ? 'block' : 'none';\n",
              "    })();\n",
              "  </script>\n",
              "</div>\n",
              "\n",
              "    </div>\n",
              "  </div>\n"
            ],
            "application/vnd.google.colaboratory.intrinsic+json": {
              "type": "dataframe",
              "variable_name": "x",
              "summary": "{\n  \"name\": \"x\",\n  \"rows\": 50000,\n  \"fields\": [\n    {\n      \"column\": \"review\",\n      \"properties\": {\n        \"dtype\": \"string\",\n        \"num_unique_values\": 49582,\n        \"samples\": [\n          \"\\\"Soul Plane\\\" is a horrible attempt at comedy that only should appeal people with thick skulls, bloodshot eyes and furry pawns. <br /><br />The plot is not only incoherent but also non-existent, acting is mostly sub sub-par with a gang of highly moronic and dreadful characters thrown in for bad measure, jokes are often spotted miles ahead and almost never even a bit amusing. This movie lacks any structure and is full of racial stereotypes that must have seemed old even in the fifties, the only thing it really has going for it is some pretty ladies, but really, if you want that you can rent something from the \\\"Adult\\\" section. OK?<br /><br />I can hardly see anything here to recommend since you'll probably have a lot a better and productive time chasing rats with a sledgehammer or inventing waterproof teabags or whatever.<br /><br />2/10\",\n          \"Guest from the Future tells a fascinating story of time travel, friendship, battle of good and evil -- all with a small budget, child actors, and few special effects. Something for Spielberg and Lucas to learn from. ;) A sixth-grader Kolya \\\"Nick\\\" Gerasimov finds a time machine in the basement of a decrepit building and travels 100 years into the future. He discovers a near-perfect, utopian society where robots play guitars and write poetry, everyone is kind to each other and people enjoy everything technology has to offer. Alice is the daughter of a prominent scientist who invented a device called Mielophone that allows to read minds of humans and animals. The device can be put to both good and bad use, depending on whose hands it falls into. When two evil space pirates from Saturn who want to rule the universe attempt to steal Mielophone, it falls into the hands of 20th century school boy Nick. With the pirates hot on his tracks, he travels back to his time, followed by the pirates, and Alice. Chaos, confusion and funny situations follow as the luckless pirates try to blend in with the earthlings. Alice enrolls in the same school Nick goes to and demonstrates superhuman abilities in PE class. The catch is, Alice doesn't know what Nick looks like, while the pirates do. Also, the pirates are able to change their appearance and turn literally into anyone. (Hmm, I wonder if this is where James Cameron got the idea for Terminator...) Who gets to Nick -- and Mielophone -- first? Excellent plot, non-stop adventures, and great soundtrack. I wish Hollywood made kid movies like this one...\",\n          \"\\\"National Treasure\\\" (2004) is a thoroughly misguided hodge-podge of plot entanglements that borrow from nearly every cloak and dagger government conspiracy clich\\u00e9 that has ever been written. The film stars Nicholas Cage as Benjamin Franklin Gates (how precious is that, I ask you?); a seemingly normal fellow who, for no other reason than being of a lineage of like-minded misguided fortune hunters, decides to steal a 'national treasure' that has been hidden by the United States founding fathers. After a bit of subtext and background that plays laughably (unintentionally) like Indiana Jones meets The Patriot, the film degenerates into one misguided whimsy after another \\u0096 attempting to create a 'Stanley Goodspeed' regurgitation of Nicholas Cage and launch the whole convoluted mess forward with a series of high octane, but disconnected misadventures.<br /><br />The relevancy and logic to having George Washington and his motley crew of patriots burying a king's ransom someplace on native soil, and then, going through the meticulous plan of leaving clues scattered throughout U.S. currency art work, is something that director Jon Turteltaub never quite gets around to explaining. Couldn't Washington found better usage for such wealth during the start up of the country? Hence, we are left with a mystery built on top of an enigma that is already on shaky ground by the time Ben appoints himself the new custodian of this untold wealth. Ben's intentions are noble \\u0096 if confusing. He's set on protecting the treasure. For who and when?\\u0085your guess is as good as mine.<br /><br />But there are a few problems with Ben's crusade. First up, his friend, Ian Holmes (Sean Bean) decides that he can't wait for Ben to make up his mind about stealing the Declaration of Independence from the National Archives (oh, yeah \\u0096 brilliant idea!). Presumably, the back of that famous document holds the secret answer to the ultimate fortune. So Ian tries to kill Ben. The assassination attempt is, of course, unsuccessful, if overly melodramatic. It also affords Ben the opportunity to pick up, and pick on, the very sultry curator of the archives, Abigail Chase (Diane Kruger). She thinks Ben is clearly a nut \\u0096 at least at the beginning. But true to action/romance form, Abby's resolve melts quicker than you can say, \\\"is that the Hope Diamond?\\\" The film moves into full X-File-ish mode, as the FBI, mistakenly believing that Ben is behind the theft, retaliate in various benign ways that lead to a multi-layering of action sequences reminiscent of Mission Impossible meets The Fugitive. Honestly, don't those guys ever get 'intelligence' information that is correct? In the final analysis, \\\"National Treasure\\\" isn't great film making, so much as it's a patchwork rehash of tired old bits from other movies, woven together from scraps, the likes of which would make IL' Betsy Ross blush.<br /><br />The Buena Vista DVD delivers a far more generous treatment than this film is deserving of. The anamorphic widescreen picture exhibits a very smooth and finely detailed image with very rich colors, natural flesh tones, solid blacks and clean whites. The stylized image is also free of blemishes and digital enhancements. The audio is 5.1 and delivers a nice sonic boom to your side and rear speakers with intensity and realism. Extras include a host of promotional junket material that is rather deep and over the top in its explanation of how and why this film was made. If only, as an audience, we had had more clarification as to why Ben and co. were chasing after an illusive treasure, this might have been one good flick. Extras conclude with the theatrical trailer, audio commentary and deleted scenes. Not for the faint-hearted \\u0096 just the thick-headed.\"\n        ],\n        \"semantic_type\": \"\",\n        \"description\": \"\"\n      }\n    }\n  ]\n}"
            }
          },
          "metadata": {},
          "execution_count": 6
        }
      ],
      "source": [
        "x = df.drop(\"sentiment\", axis=1)\n",
        "x.head()"
      ]
    },
    {
      "cell_type": "code",
      "execution_count": null,
      "id": "fe64ffd4",
      "metadata": {
        "id": "fe64ffd4"
      },
      "outputs": [],
      "source": [
        "y= df[\"sentiment\"]"
      ]
    },
    {
      "cell_type": "code",
      "execution_count": null,
      "id": "8a5dbfa7",
      "metadata": {
        "colab": {
          "base_uri": "https://localhost:8080/"
        },
        "id": "8a5dbfa7",
        "outputId": "0536f74a-966a-47b8-d84d-0296837d23fd"
      },
      "outputs": [
        {
          "output_type": "execute_result",
          "data": {
            "text/plain": [
              "0    positive\n",
              "1    positive\n",
              "2    positive\n",
              "3    negative\n",
              "4    positive\n",
              "Name: sentiment, dtype: object"
            ]
          },
          "metadata": {},
          "execution_count": 8
        }
      ],
      "source": [
        "y.head()"
      ]
    },
    {
      "cell_type": "code",
      "execution_count": null,
      "id": "c4141e1e",
      "metadata": {
        "colab": {
          "base_uri": "https://localhost:8080/"
        },
        "id": "c4141e1e",
        "outputId": "8c30e043-043a-4d2f-fbe4-5218cf27b16a"
      },
      "outputs": [
        {
          "output_type": "execute_result",
          "data": {
            "text/plain": [
              "(50000,)"
            ]
          },
          "metadata": {},
          "execution_count": 9
        }
      ],
      "source": [
        "y.shape"
      ]
    },
    {
      "cell_type": "code",
      "execution_count": null,
      "id": "5fee08b3",
      "metadata": {
        "colab": {
          "base_uri": "https://localhost:8080/"
        },
        "id": "5fee08b3",
        "outputId": "12d19453-b3e6-45e2-c0ed-df3d5e8e38f1"
      },
      "outputs": [
        {
          "output_type": "execute_result",
          "data": {
            "text/plain": [
              "array([1, 1, 1, ..., 0, 0, 0])"
            ]
          },
          "metadata": {},
          "execution_count": 10
        }
      ],
      "source": [
        "from sklearn.preprocessing import LabelEncoder\n",
        "y=LabelEncoder().fit_transform(y)\n",
        "y"
      ]
    },
    {
      "cell_type": "code",
      "execution_count": null,
      "id": "884f43a2",
      "metadata": {
        "colab": {
          "base_uri": "https://localhost:8080/"
        },
        "id": "884f43a2",
        "outputId": "b69014a9-9d94-4d2c-bb8b-53e524cb4ea4"
      },
      "outputs": [
        {
          "output_type": "execute_result",
          "data": {
            "text/plain": [
              "numpy.ndarray"
            ]
          },
          "metadata": {},
          "execution_count": 11
        }
      ],
      "source": [
        "type(y)"
      ]
    },
    {
      "cell_type": "code",
      "execution_count": null,
      "id": "3cfa1dc7",
      "metadata": {
        "id": "3cfa1dc7"
      },
      "outputs": [],
      "source": [
        "from sklearn.model_selection import train_test_split\n",
        "x_train, x_test, y_train, y_test = train_test_split(x, y, test_size=0.2, random_state=42)"
      ]
    },
    {
      "cell_type": "code",
      "execution_count": null,
      "id": "cae08ad9",
      "metadata": {
        "colab": {
          "base_uri": "https://localhost:8080/"
        },
        "id": "cae08ad9",
        "outputId": "3ce5926b-c20f-4f41-d2b5-eb39de20629e"
      },
      "outputs": [
        {
          "output_type": "execute_result",
          "data": {
            "text/plain": [
              "(10000,)"
            ]
          },
          "metadata": {},
          "execution_count": 13
        }
      ],
      "source": [
        "y_test.shape"
      ]
    },
    {
      "cell_type": "code",
      "execution_count": null,
      "id": "c83e7ce3",
      "metadata": {
        "id": "c83e7ce3"
      },
      "outputs": [],
      "source": [
        "# x_val, x_test, y_val, y_test = train_test_split(x_test_val, y_test_val, test_size= 0.5, random_state=42)\n",
        "# type(x_val)\n",
        "# y_val"
      ]
    },
    {
      "cell_type": "code",
      "execution_count": null,
      "id": "358b3079",
      "metadata": {
        "id": "358b3079"
      },
      "outputs": [],
      "source": [
        "# !pip install nltk"
      ]
    },
    {
      "cell_type": "code",
      "execution_count": null,
      "id": "d6e9e96d",
      "metadata": {
        "colab": {
          "base_uri": "https://localhost:8080/"
        },
        "id": "d6e9e96d",
        "outputId": "6d894f16-c16d-41f8-fac1-fe2206a9f145"
      },
      "outputs": [
        {
          "output_type": "stream",
          "name": "stderr",
          "text": [
            "[nltk_data] Downloading package stopwords to /root/nltk_data...\n",
            "[nltk_data]   Unzipping corpora/stopwords.zip.\n"
          ]
        },
        {
          "output_type": "execute_result",
          "data": {
            "text/plain": [
              "True"
            ]
          },
          "metadata": {},
          "execution_count": 16
        }
      ],
      "source": [
        "import nltk\n",
        "import re\n",
        "from nltk.stem import WordNetLemmatizer\n",
        "from nltk.corpus import stopwords\n",
        "nltk.download(\"stopwords\")"
      ]
    },
    {
      "cell_type": "code",
      "execution_count": null,
      "id": "a4f13801",
      "metadata": {
        "colab": {
          "base_uri": "https://localhost:8080/"
        },
        "id": "a4f13801",
        "outputId": "8985ecee-7883-4a05-81f4-f63d40db8307"
      },
      "outputs": [
        {
          "output_type": "stream",
          "name": "stderr",
          "text": [
            "[nltk_data] Downloading package wordnet to /root/nltk_data...\n"
          ]
        },
        {
          "output_type": "execute_result",
          "data": {
            "text/plain": [
              "True"
            ]
          },
          "metadata": {},
          "execution_count": 17
        }
      ],
      "source": [
        "nltk.download(\"wordnet\")"
      ]
    },
    {
      "cell_type": "code",
      "execution_count": null,
      "id": "c36537fa",
      "metadata": {
        "id": "c36537fa"
      },
      "outputs": [],
      "source": [
        "# corpus creating by only having a-z elements, lowering, and using lemmatization also used stopwords\n",
        "def corpus(data):\n",
        "    c=[]\n",
        "    for i in range(len(data)):\n",
        "        temp = re.sub(\"[^a-zA-Z]\",\" \",data[\"review\"][i])\n",
        "        temp = temp.lower()\n",
        "        temp = temp.split()\n",
        "        temp = [WordNetLemmatizer().lemmatize(word) for word in temp if not word in stopwords.words(\"english\")]\n",
        "        temp = \" \".join(temp)\n",
        "        c.append(temp)\n",
        "    return c;"
      ]
    },
    {
      "cell_type": "code",
      "execution_count": null,
      "id": "8629328d",
      "metadata": {
        "id": "8629328d"
      },
      "outputs": [],
      "source": [
        "# len(corpus(x_train))"
      ]
    },
    {
      "cell_type": "code",
      "execution_count": null,
      "id": "4e6d5585",
      "metadata": {
        "id": "4e6d5585"
      },
      "outputs": [],
      "source": [
        "from nltk import sent_tokenize\n",
        "from nltk import word_tokenize\n",
        "from gensim.utils import simple_preprocess\n"
      ]
    },
    {
      "cell_type": "code",
      "execution_count": null,
      "id": "B3wSsHTxVn7l",
      "metadata": {
        "colab": {
          "base_uri": "https://localhost:8080/"
        },
        "id": "B3wSsHTxVn7l",
        "outputId": "40ebb625-9998-44b0-b530-93a770ca8162"
      },
      "outputs": [
        {
          "output_type": "stream",
          "name": "stderr",
          "text": [
            "[nltk_data] Downloading package punkt to /root/nltk_data...\n",
            "[nltk_data]   Unzipping tokenizers/punkt.zip.\n"
          ]
        },
        {
          "output_type": "execute_result",
          "data": {
            "text/plain": [
              "True"
            ]
          },
          "metadata": {},
          "execution_count": 21
        }
      ],
      "source": [
        "nltk.download(\"punkt\")"
      ]
    },
    {
      "cell_type": "code",
      "execution_count": null,
      "id": "T4Z0sT_oPhNT",
      "metadata": {
        "id": "T4Z0sT_oPhNT"
      },
      "outputs": [],
      "source": [
        "# Tokenization\n",
        "\n",
        "def token(data):\n",
        "  words=[]\n",
        "  for sent in corpus(data):\n",
        "    sent_token = sent_tokenize(sent)\n",
        "    for sent in sent_token:\n",
        "      words.append(simple_preprocess(sent))\n",
        "\n",
        "  return words;"
      ]
    },
    {
      "cell_type": "code",
      "execution_count": null,
      "id": "ry_vxoAIRKgW",
      "metadata": {
        "id": "ry_vxoAIRKgW"
      },
      "outputs": [],
      "source": [
        "# len(token(x_train))"
      ]
    },
    {
      "cell_type": "code",
      "execution_count": null,
      "id": "cul5f4O9ROeK",
      "metadata": {
        "id": "cul5f4O9ROeK"
      },
      "outputs": [],
      "source": [
        "# Word2vec model\n",
        "\n",
        "from gensim.models import Word2Vec\n",
        "def w2v(data):\n",
        "  return Word2Vec(token(data), vector_size= 300, window=5, min_count=2)"
      ]
    },
    {
      "cell_type": "code",
      "execution_count": null,
      "id": "2fd4ac52",
      "metadata": {
        "id": "2fd4ac52"
      },
      "outputs": [],
      "source": [
        "# reset indexing after splitting\n",
        "\n",
        "x_train.reset_index(inplace=True)"
      ]
    },
    {
      "cell_type": "code",
      "execution_count": null,
      "id": "3138d0ac",
      "metadata": {
        "colab": {
          "base_uri": "https://localhost:8080/",
          "height": 206
        },
        "id": "3138d0ac",
        "outputId": "7766bea0-cc11-4cb6-e3d2-002f157aaf3e"
      },
      "outputs": [
        {
          "output_type": "execute_result",
          "data": {
            "text/plain": [
              "   index                                             review\n",
              "0  39087  That's what I kept asking myself during the ma...\n",
              "1  30893  I did not watch the entire movie. I could not ...\n",
              "2  45278  A touching love story reminiscent of In the M...\n",
              "3  16398  This latter-day Fulci schlocker is a totally a...\n",
              "4  13653  First of all, I firmly believe that Norwegian ..."
            ],
            "text/html": [
              "\n",
              "  <div id=\"df-2502738c-b2e8-440c-9c4a-3a5373810366\" class=\"colab-df-container\">\n",
              "    <div>\n",
              "<style scoped>\n",
              "    .dataframe tbody tr th:only-of-type {\n",
              "        vertical-align: middle;\n",
              "    }\n",
              "\n",
              "    .dataframe tbody tr th {\n",
              "        vertical-align: top;\n",
              "    }\n",
              "\n",
              "    .dataframe thead th {\n",
              "        text-align: right;\n",
              "    }\n",
              "</style>\n",
              "<table border=\"1\" class=\"dataframe\">\n",
              "  <thead>\n",
              "    <tr style=\"text-align: right;\">\n",
              "      <th></th>\n",
              "      <th>index</th>\n",
              "      <th>review</th>\n",
              "    </tr>\n",
              "  </thead>\n",
              "  <tbody>\n",
              "    <tr>\n",
              "      <th>0</th>\n",
              "      <td>39087</td>\n",
              "      <td>That's what I kept asking myself during the ma...</td>\n",
              "    </tr>\n",
              "    <tr>\n",
              "      <th>1</th>\n",
              "      <td>30893</td>\n",
              "      <td>I did not watch the entire movie. I could not ...</td>\n",
              "    </tr>\n",
              "    <tr>\n",
              "      <th>2</th>\n",
              "      <td>45278</td>\n",
              "      <td>A touching love story reminiscent of In the M...</td>\n",
              "    </tr>\n",
              "    <tr>\n",
              "      <th>3</th>\n",
              "      <td>16398</td>\n",
              "      <td>This latter-day Fulci schlocker is a totally a...</td>\n",
              "    </tr>\n",
              "    <tr>\n",
              "      <th>4</th>\n",
              "      <td>13653</td>\n",
              "      <td>First of all, I firmly believe that Norwegian ...</td>\n",
              "    </tr>\n",
              "  </tbody>\n",
              "</table>\n",
              "</div>\n",
              "    <div class=\"colab-df-buttons\">\n",
              "\n",
              "  <div class=\"colab-df-container\">\n",
              "    <button class=\"colab-df-convert\" onclick=\"convertToInteractive('df-2502738c-b2e8-440c-9c4a-3a5373810366')\"\n",
              "            title=\"Convert this dataframe to an interactive table.\"\n",
              "            style=\"display:none;\">\n",
              "\n",
              "  <svg xmlns=\"http://www.w3.org/2000/svg\" height=\"24px\" viewBox=\"0 -960 960 960\">\n",
              "    <path d=\"M120-120v-720h720v720H120Zm60-500h600v-160H180v160Zm220 220h160v-160H400v160Zm0 220h160v-160H400v160ZM180-400h160v-160H180v160Zm440 0h160v-160H620v160ZM180-180h160v-160H180v160Zm440 0h160v-160H620v160Z\"/>\n",
              "  </svg>\n",
              "    </button>\n",
              "\n",
              "  <style>\n",
              "    .colab-df-container {\n",
              "      display:flex;\n",
              "      gap: 12px;\n",
              "    }\n",
              "\n",
              "    .colab-df-convert {\n",
              "      background-color: #E8F0FE;\n",
              "      border: none;\n",
              "      border-radius: 50%;\n",
              "      cursor: pointer;\n",
              "      display: none;\n",
              "      fill: #1967D2;\n",
              "      height: 32px;\n",
              "      padding: 0 0 0 0;\n",
              "      width: 32px;\n",
              "    }\n",
              "\n",
              "    .colab-df-convert:hover {\n",
              "      background-color: #E2EBFA;\n",
              "      box-shadow: 0px 1px 2px rgba(60, 64, 67, 0.3), 0px 1px 3px 1px rgba(60, 64, 67, 0.15);\n",
              "      fill: #174EA6;\n",
              "    }\n",
              "\n",
              "    .colab-df-buttons div {\n",
              "      margin-bottom: 4px;\n",
              "    }\n",
              "\n",
              "    [theme=dark] .colab-df-convert {\n",
              "      background-color: #3B4455;\n",
              "      fill: #D2E3FC;\n",
              "    }\n",
              "\n",
              "    [theme=dark] .colab-df-convert:hover {\n",
              "      background-color: #434B5C;\n",
              "      box-shadow: 0px 1px 3px 1px rgba(0, 0, 0, 0.15);\n",
              "      filter: drop-shadow(0px 1px 2px rgba(0, 0, 0, 0.3));\n",
              "      fill: #FFFFFF;\n",
              "    }\n",
              "  </style>\n",
              "\n",
              "    <script>\n",
              "      const buttonEl =\n",
              "        document.querySelector('#df-2502738c-b2e8-440c-9c4a-3a5373810366 button.colab-df-convert');\n",
              "      buttonEl.style.display =\n",
              "        google.colab.kernel.accessAllowed ? 'block' : 'none';\n",
              "\n",
              "      async function convertToInteractive(key) {\n",
              "        const element = document.querySelector('#df-2502738c-b2e8-440c-9c4a-3a5373810366');\n",
              "        const dataTable =\n",
              "          await google.colab.kernel.invokeFunction('convertToInteractive',\n",
              "                                                    [key], {});\n",
              "        if (!dataTable) return;\n",
              "\n",
              "        const docLinkHtml = 'Like what you see? Visit the ' +\n",
              "          '<a target=\"_blank\" href=https://colab.research.google.com/notebooks/data_table.ipynb>data table notebook</a>'\n",
              "          + ' to learn more about interactive tables.';\n",
              "        element.innerHTML = '';\n",
              "        dataTable['output_type'] = 'display_data';\n",
              "        await google.colab.output.renderOutput(dataTable, element);\n",
              "        const docLink = document.createElement('div');\n",
              "        docLink.innerHTML = docLinkHtml;\n",
              "        element.appendChild(docLink);\n",
              "      }\n",
              "    </script>\n",
              "  </div>\n",
              "\n",
              "\n",
              "<div id=\"df-6ff08895-628e-4fd9-82c2-746bc9f8d02f\">\n",
              "  <button class=\"colab-df-quickchart\" onclick=\"quickchart('df-6ff08895-628e-4fd9-82c2-746bc9f8d02f')\"\n",
              "            title=\"Suggest charts\"\n",
              "            style=\"display:none;\">\n",
              "\n",
              "<svg xmlns=\"http://www.w3.org/2000/svg\" height=\"24px\"viewBox=\"0 0 24 24\"\n",
              "     width=\"24px\">\n",
              "    <g>\n",
              "        <path d=\"M19 3H5c-1.1 0-2 .9-2 2v14c0 1.1.9 2 2 2h14c1.1 0 2-.9 2-2V5c0-1.1-.9-2-2-2zM9 17H7v-7h2v7zm4 0h-2V7h2v10zm4 0h-2v-4h2v4z\"/>\n",
              "    </g>\n",
              "</svg>\n",
              "  </button>\n",
              "\n",
              "<style>\n",
              "  .colab-df-quickchart {\n",
              "      --bg-color: #E8F0FE;\n",
              "      --fill-color: #1967D2;\n",
              "      --hover-bg-color: #E2EBFA;\n",
              "      --hover-fill-color: #174EA6;\n",
              "      --disabled-fill-color: #AAA;\n",
              "      --disabled-bg-color: #DDD;\n",
              "  }\n",
              "\n",
              "  [theme=dark] .colab-df-quickchart {\n",
              "      --bg-color: #3B4455;\n",
              "      --fill-color: #D2E3FC;\n",
              "      --hover-bg-color: #434B5C;\n",
              "      --hover-fill-color: #FFFFFF;\n",
              "      --disabled-bg-color: #3B4455;\n",
              "      --disabled-fill-color: #666;\n",
              "  }\n",
              "\n",
              "  .colab-df-quickchart {\n",
              "    background-color: var(--bg-color);\n",
              "    border: none;\n",
              "    border-radius: 50%;\n",
              "    cursor: pointer;\n",
              "    display: none;\n",
              "    fill: var(--fill-color);\n",
              "    height: 32px;\n",
              "    padding: 0;\n",
              "    width: 32px;\n",
              "  }\n",
              "\n",
              "  .colab-df-quickchart:hover {\n",
              "    background-color: var(--hover-bg-color);\n",
              "    box-shadow: 0 1px 2px rgba(60, 64, 67, 0.3), 0 1px 3px 1px rgba(60, 64, 67, 0.15);\n",
              "    fill: var(--button-hover-fill-color);\n",
              "  }\n",
              "\n",
              "  .colab-df-quickchart-complete:disabled,\n",
              "  .colab-df-quickchart-complete:disabled:hover {\n",
              "    background-color: var(--disabled-bg-color);\n",
              "    fill: var(--disabled-fill-color);\n",
              "    box-shadow: none;\n",
              "  }\n",
              "\n",
              "  .colab-df-spinner {\n",
              "    border: 2px solid var(--fill-color);\n",
              "    border-color: transparent;\n",
              "    border-bottom-color: var(--fill-color);\n",
              "    animation:\n",
              "      spin 1s steps(1) infinite;\n",
              "  }\n",
              "\n",
              "  @keyframes spin {\n",
              "    0% {\n",
              "      border-color: transparent;\n",
              "      border-bottom-color: var(--fill-color);\n",
              "      border-left-color: var(--fill-color);\n",
              "    }\n",
              "    20% {\n",
              "      border-color: transparent;\n",
              "      border-left-color: var(--fill-color);\n",
              "      border-top-color: var(--fill-color);\n",
              "    }\n",
              "    30% {\n",
              "      border-color: transparent;\n",
              "      border-left-color: var(--fill-color);\n",
              "      border-top-color: var(--fill-color);\n",
              "      border-right-color: var(--fill-color);\n",
              "    }\n",
              "    40% {\n",
              "      border-color: transparent;\n",
              "      border-right-color: var(--fill-color);\n",
              "      border-top-color: var(--fill-color);\n",
              "    }\n",
              "    60% {\n",
              "      border-color: transparent;\n",
              "      border-right-color: var(--fill-color);\n",
              "    }\n",
              "    80% {\n",
              "      border-color: transparent;\n",
              "      border-right-color: var(--fill-color);\n",
              "      border-bottom-color: var(--fill-color);\n",
              "    }\n",
              "    90% {\n",
              "      border-color: transparent;\n",
              "      border-bottom-color: var(--fill-color);\n",
              "    }\n",
              "  }\n",
              "</style>\n",
              "\n",
              "  <script>\n",
              "    async function quickchart(key) {\n",
              "      const quickchartButtonEl =\n",
              "        document.querySelector('#' + key + ' button');\n",
              "      quickchartButtonEl.disabled = true;  // To prevent multiple clicks.\n",
              "      quickchartButtonEl.classList.add('colab-df-spinner');\n",
              "      try {\n",
              "        const charts = await google.colab.kernel.invokeFunction(\n",
              "            'suggestCharts', [key], {});\n",
              "      } catch (error) {\n",
              "        console.error('Error during call to suggestCharts:', error);\n",
              "      }\n",
              "      quickchartButtonEl.classList.remove('colab-df-spinner');\n",
              "      quickchartButtonEl.classList.add('colab-df-quickchart-complete');\n",
              "    }\n",
              "    (() => {\n",
              "      let quickchartButtonEl =\n",
              "        document.querySelector('#df-6ff08895-628e-4fd9-82c2-746bc9f8d02f button');\n",
              "      quickchartButtonEl.style.display =\n",
              "        google.colab.kernel.accessAllowed ? 'block' : 'none';\n",
              "    })();\n",
              "  </script>\n",
              "</div>\n",
              "\n",
              "    </div>\n",
              "  </div>\n"
            ],
            "application/vnd.google.colaboratory.intrinsic+json": {
              "type": "dataframe",
              "variable_name": "x_train",
              "summary": "{\n  \"name\": \"x_train\",\n  \"rows\": 40000,\n  \"fields\": [\n    {\n      \"column\": \"index\",\n      \"properties\": {\n        \"dtype\": \"number\",\n        \"std\": 14441,\n        \"min\": 0,\n        \"max\": 49999,\n        \"num_unique_values\": 40000,\n        \"samples\": [\n          30825,\n          42564,\n          16498\n        ],\n        \"semantic_type\": \"\",\n        \"description\": \"\"\n      }\n    },\n    {\n      \"column\": \"review\",\n      \"properties\": {\n        \"dtype\": \"string\",\n        \"num_unique_values\": 39743,\n        \"samples\": [\n          \"For me this is a good series. I am kind of disappointed that Ana Lucia and Libby died but more upset that Micheal lied to everyone about who killed them. And if any one can answer this what was that guys name who was supposedly \\\"Henry Gale\\\" he was like the leader of the others (or was that Ms. Clue??) anyway if you know his name cool. Well trying to think of what can possibly happen next after they finally didn't press the button. Does that mess up the whole DARMA project thing and i personally thought it was cool how they had that key thing underground that Desmond used to shut off the magnet thing, yeah and what was the whole point of that? I am just glad they didn't press the button finally, but what happens to the people in the hatch? Like Mr. Echo, John, Charlie and well Desmond probably died but what about the others? I think they survived, I forget? well this is just my little thing on what i thought about this season finale!!!\",\n          \"I am not saying that Night of the Twisters was horrible, but it was far from great. Mediocre at absolute best. I seems though that every time one type of movie is released, a second must be around the same time. (Think about Armageddon and Deep Impact, Volcano and Dante's Peak) Night of the Twisters is really just Twister except worse and with mundane special effects.<br /><br />I have nothing against the actors who starred in it, even if they weren't great, it was the movie itself, the directing, the special effects, the whole storyline was just too strange to interpret. A series of tornadoes strike a town and basically the movie is about people trying to find family and friends and deal with the damage.<br /><br />I really don't know why it seems as though duplicates of disaster movies are released almost in sync with each other, but this one would have been better with Bill Paxton and Helen Hunt.\",\n          \"What makes this low budget production one of my favorite movies? Not kidding, i was watching it already 10 times or so and did not get tired. Is it the tender melancholia throughout the whole thing? Is it the similarity to classics like \\\"Niagara\\\"? I was thinking a long time about that. And figured it out: I guess it is: there is no hero, there are only people. Some try to be good. Some gave up trying to be good. Some are hopeless cases but carry still the spunk of being human inside. It is the story of a catastrophic night in a motel at the end of the world. One way the catastrophe is nothing but the end of a chain of coincidences. The other way this night reveals the logical consequents of this peoples lives because they are in a certain constellation cut off the rest of the world. It has something of a Dostoevsky tale.\"\n        ],\n        \"semantic_type\": \"\",\n        \"description\": \"\"\n      }\n    }\n  ]\n}"
            }
          },
          "metadata": {},
          "execution_count": 26
        }
      ],
      "source": [
        "x_train.head()"
      ]
    },
    {
      "cell_type": "code",
      "execution_count": null,
      "id": "S_XmRK5vF3kZ",
      "metadata": {
        "id": "S_XmRK5vF3kZ"
      },
      "outputs": [],
      "source": [
        "# training Word2vec model with x_train dataset\n",
        "\n",
        "w2v_model = w2v(x_train)"
      ]
    },
    {
      "cell_type": "code",
      "execution_count": null,
      "id": "Ddx7wURMABkn",
      "metadata": {
        "colab": {
          "base_uri": "https://localhost:8080/"
        },
        "id": "Ddx7wURMABkn",
        "outputId": "e7257e08-7c01-4ae5-94f2-10ddb6d86c57"
      },
      "outputs": [
        {
          "output_type": "execute_result",
          "data": {
            "text/plain": [
              "['br',\n",
              " 'movie',\n",
              " 'film',\n",
              " 'one',\n",
              " 'like',\n",
              " 'time',\n",
              " 'good',\n",
              " 'character',\n",
              " 'story',\n",
              " 'even',\n",
              " 'would',\n",
              " 'get',\n",
              " 'make',\n",
              " 'see',\n",
              " 'really',\n",
              " 'well',\n",
              " 'scene',\n",
              " 'much',\n",
              " 'bad',\n",
              " 'people',\n",
              " 'great',\n",
              " 'also',\n",
              " 'first',\n",
              " 'show',\n",
              " 'way',\n",
              " 'thing',\n",
              " 'made',\n",
              " 'could',\n",
              " 'life',\n",
              " 'think',\n",
              " 'go',\n",
              " 'know',\n",
              " 'watch',\n",
              " 'love',\n",
              " 'plot',\n",
              " 'seen',\n",
              " 'two',\n",
              " 'actor',\n",
              " 'many',\n",
              " 'year',\n",
              " 'end',\n",
              " 'say',\n",
              " 'never',\n",
              " 'acting',\n",
              " 'look',\n",
              " 'best',\n",
              " 'little',\n",
              " 'ever',\n",
              " 'man',\n",
              " 'better',\n",
              " 'take',\n",
              " 'come',\n",
              " 'work',\n",
              " 'still',\n",
              " 'part',\n",
              " 'something',\n",
              " 'find',\n",
              " 'director',\n",
              " 'back',\n",
              " 'give',\n",
              " 'want',\n",
              " 'lot',\n",
              " 'real',\n",
              " 'watching',\n",
              " 'guy',\n",
              " 'performance',\n",
              " 'woman',\n",
              " 'though',\n",
              " 'old',\n",
              " 'play',\n",
              " 'funny',\n",
              " 'another',\n",
              " 'actually',\n",
              " 'going',\n",
              " 'nothing',\n",
              " 'role',\n",
              " 'new',\n",
              " 'every',\n",
              " 'girl',\n",
              " 'day',\n",
              " 'world',\n",
              " 'point',\n",
              " 'cast',\n",
              " 'horror',\n",
              " 'thought',\n",
              " 'minute',\n",
              " 'fact',\n",
              " 'feel',\n",
              " 'quite',\n",
              " 'comedy',\n",
              " 'pretty',\n",
              " 'action',\n",
              " 'around',\n",
              " 'star',\n",
              " 'seems',\n",
              " 'young',\n",
              " 'got',\n",
              " 'however',\n",
              " 'big',\n",
              " 'long',\n",
              " 'enough',\n",
              " 'right',\n",
              " 'line',\n",
              " 'fan',\n",
              " 'friend',\n",
              " 'may',\n",
              " 'series',\n",
              " 'must',\n",
              " 'bit',\n",
              " 'without',\n",
              " 'original',\n",
              " 'music',\n",
              " 'set',\n",
              " 'family',\n",
              " 'saw',\n",
              " 'always',\n",
              " 'almost',\n",
              " 'script',\n",
              " 'whole',\n",
              " 'least',\n",
              " 'done',\n",
              " 'interesting',\n",
              " 'kid',\n",
              " 'try',\n",
              " 'far',\n",
              " 'shot',\n",
              " 'effect',\n",
              " 'making',\n",
              " 'kind',\n",
              " 'anything',\n",
              " 'might',\n",
              " 'last',\n",
              " 'since',\n",
              " 'reason',\n",
              " 'tv',\n",
              " 'start',\n",
              " 'book',\n",
              " 'probably',\n",
              " 'put',\n",
              " 'place',\n",
              " 'child',\n",
              " 'away',\n",
              " 'worst',\n",
              " 'fun',\n",
              " 'yet',\n",
              " 'moment',\n",
              " 'anyone',\n",
              " 'let',\n",
              " 'hard',\n",
              " 'sure',\n",
              " 'audience',\n",
              " 'rather',\n",
              " 'american',\n",
              " 'found',\n",
              " 'need',\n",
              " 'played',\n",
              " 'screen',\n",
              " 'idea',\n",
              " 'dvd',\n",
              " 'turn',\n",
              " 'tell',\n",
              " 'episode',\n",
              " 'war',\n",
              " 'although',\n",
              " 'looking',\n",
              " 'believe',\n",
              " 'ending',\n",
              " 'especially',\n",
              " 'trying',\n",
              " 'course',\n",
              " 'mean',\n",
              " 'everything',\n",
              " 'job',\n",
              " 'maybe',\n",
              " 'worth',\n",
              " 'three',\n",
              " 'different',\n",
              " 'main',\n",
              " 'someone',\n",
              " 'problem',\n",
              " 'sense',\n",
              " 'boy',\n",
              " 'night',\n",
              " 'watched',\n",
              " 'second',\n",
              " 'everyone',\n",
              " 'money',\n",
              " 'true',\n",
              " 'version',\n",
              " 'keep',\n",
              " 'together',\n",
              " 'special',\n",
              " 'high',\n",
              " 'help',\n",
              " 'house',\n",
              " 'mind',\n",
              " 'death',\n",
              " 'hour',\n",
              " 'instead',\n",
              " 'half',\n",
              " 'later',\n",
              " 'black',\n",
              " 'said',\n",
              " 'wife',\n",
              " 'laugh',\n",
              " 'short',\n",
              " 'left',\n",
              " 'john',\n",
              " 'le',\n",
              " 'seem',\n",
              " 'beautiful',\n",
              " 'seeing',\n",
              " 'excellent',\n",
              " 'sound',\n",
              " 'lead',\n",
              " 'name',\n",
              " 'father',\n",
              " 'classic',\n",
              " 'budget',\n",
              " 'eye',\n",
              " 'production',\n",
              " 'face',\n",
              " 'else',\n",
              " 'read',\n",
              " 'viewer',\n",
              " 'top',\n",
              " 'piece',\n",
              " 'nice',\n",
              " 'used',\n",
              " 'home',\n",
              " 'poor',\n",
              " 'simply',\n",
              " 'men',\n",
              " 'human',\n",
              " 'completely',\n",
              " 'camera',\n",
              " 'head',\n",
              " 'song',\n",
              " 'along',\n",
              " 'video',\n",
              " 'dead',\n",
              " 'either',\n",
              " 'picture',\n",
              " 'boring',\n",
              " 'hand',\n",
              " 'word',\n",
              " 'couple',\n",
              " 'school',\n",
              " 'hollywood',\n",
              " 'low',\n",
              " 'wrong',\n",
              " 'enjoy',\n",
              " 'given',\n",
              " 'rest',\n",
              " 'use',\n",
              " 'full',\n",
              " 'next',\n",
              " 'stupid',\n",
              " 'kill',\n",
              " 'truly',\n",
              " 'writer',\n",
              " 'hope',\n",
              " 'game',\n",
              " 'person',\n",
              " 'run',\n",
              " 'sex',\n",
              " 'recommend',\n",
              " 'style',\n",
              " 'mr',\n",
              " 'awful',\n",
              " 'mother',\n",
              " 'title',\n",
              " 'case',\n",
              " 'sort',\n",
              " 'terrible',\n",
              " 'came',\n",
              " 'dialogue',\n",
              " 'perhaps',\n",
              " 'understand',\n",
              " 'act',\n",
              " 'flick',\n",
              " 'wonderful',\n",
              " 'remember',\n",
              " 'getting',\n",
              " 'care',\n",
              " 'joke',\n",
              " 'attempt',\n",
              " 'small',\n",
              " 'review',\n",
              " 'others',\n",
              " 'early',\n",
              " 'brother',\n",
              " 'fall',\n",
              " 'written',\n",
              " 'playing',\n",
              " 'definitely',\n",
              " 'perfect',\n",
              " 'art',\n",
              " 'sequence',\n",
              " 'often',\n",
              " 'killer',\n",
              " 'drama',\n",
              " 'quality',\n",
              " 'actress',\n",
              " 'example',\n",
              " 'finally',\n",
              " 'oh',\n",
              " 'cinema',\n",
              " 'live',\n",
              " 'went',\n",
              " 'certainly',\n",
              " 'feeling',\n",
              " 'liked',\n",
              " 'absolutely',\n",
              " 'yes',\n",
              " 'loved',\n",
              " 'lost',\n",
              " 'worse',\n",
              " 'entertaining',\n",
              " 'matter',\n",
              " 'side',\n",
              " 'direction',\n",
              " 'waste',\n",
              " 'become',\n",
              " 'car',\n",
              " 'several',\n",
              " 'based',\n",
              " 'son',\n",
              " 'white',\n",
              " 'overall',\n",
              " 'called',\n",
              " 'supposed',\n",
              " 'entire',\n",
              " 'heart',\n",
              " 'felt',\n",
              " 'feature',\n",
              " 'lack',\n",
              " 'beginning',\n",
              " 'comment',\n",
              " 'totally',\n",
              " 'begin',\n",
              " 'dark',\n",
              " 'favorite',\n",
              " 'hero',\n",
              " 'evil',\n",
              " 'type',\n",
              " 'humor',\n",
              " 'fight',\n",
              " 'wanted',\n",
              " 'murder',\n",
              " 'seemed',\n",
              " 'change',\n",
              " 'number',\n",
              " 'final',\n",
              " 'already',\n",
              " 'despite',\n",
              " 'voice',\n",
              " 'throughout',\n",
              " 'guess',\n",
              " 'becomes',\n",
              " 'genre',\n",
              " 'relationship',\n",
              " 'cut',\n",
              " 'history',\n",
              " 'michael',\n",
              " 'meet',\n",
              " 'stop',\n",
              " 'unfortunately',\n",
              " 'writing',\n",
              " 'hit',\n",
              " 'daughter',\n",
              " 'able',\n",
              " 'age',\n",
              " 'today',\n",
              " 'fine',\n",
              " 'town',\n",
              " 'experience',\n",
              " 'god',\n",
              " 'group',\n",
              " 'city',\n",
              " 'close',\n",
              " 'horrible',\n",
              " 'amazing',\n",
              " 'talent',\n",
              " 'move',\n",
              " 'call',\n",
              " 'enjoyed',\n",
              " 'etc',\n",
              " 'power',\n",
              " 'past',\n",
              " 'behind',\n",
              " 'credit',\n",
              " 'brilliant',\n",
              " 'gave',\n",
              " 'add',\n",
              " 'event',\n",
              " 'directed',\n",
              " 'expect',\n",
              " 'save',\n",
              " 'situation',\n",
              " 'robert',\n",
              " 'wonder',\n",
              " 'stuff',\n",
              " 'theme',\n",
              " 'body',\n",
              " 'late',\n",
              " 'score',\n",
              " 'stand',\n",
              " 'level',\n",
              " 'killed',\n",
              " 'soon',\n",
              " 'light',\n",
              " 'obviously',\n",
              " 'chance',\n",
              " 'decent',\n",
              " 'question',\n",
              " 'thinking',\n",
              " 'highly',\n",
              " 'view',\n",
              " 'sometimes',\n",
              " 'self',\n",
              " 'heard',\n",
              " 'anyway',\n",
              " 'blood',\n",
              " 'known',\n",
              " 'happens',\n",
              " 'except',\n",
              " 'rating',\n",
              " 'element',\n",
              " 'country',\n",
              " 'took',\n",
              " 'order',\n",
              " 'career',\n",
              " 'documentary',\n",
              " 'talk',\n",
              " 'husband',\n",
              " 'coming',\n",
              " 'wish',\n",
              " 'leave',\n",
              " 'novel',\n",
              " 'slow',\n",
              " 'told',\n",
              " 'interest',\n",
              " 'strong',\n",
              " 'monster',\n",
              " 'ok',\n",
              " 'happen',\n",
              " 'including',\n",
              " 'violence',\n",
              " 'crap',\n",
              " 'extremely',\n",
              " 'police',\n",
              " 'sister',\n",
              " 'involved',\n",
              " 'hell',\n",
              " 'cannot',\n",
              " 'effort',\n",
              " 'obvious',\n",
              " 'living',\n",
              " 'particularly',\n",
              " 'opinion',\n",
              " 'looked',\n",
              " 'thriller',\n",
              " 'musical',\n",
              " 'reality',\n",
              " 'cool',\n",
              " 'please',\n",
              " 'gore',\n",
              " 'shown',\n",
              " 'complete',\n",
              " 'twist',\n",
              " 'sequel',\n",
              " 'female',\n",
              " 'ago',\n",
              " 'david',\n",
              " 'happened',\n",
              " 'simple',\n",
              " 'deal',\n",
              " 'hilarious',\n",
              " 'james',\n",
              " 'english',\n",
              " 'room',\n",
              " 'zombie',\n",
              " 'taken',\n",
              " 'released',\n",
              " 'serious',\n",
              " 'theater',\n",
              " 'lady',\n",
              " 'opening',\n",
              " 'miss',\n",
              " 'dream',\n",
              " 'value',\n",
              " 'cop',\n",
              " 'spoiler',\n",
              " 'possible',\n",
              " 'seriously',\n",
              " 'usually',\n",
              " 'across',\n",
              " 'none',\n",
              " 'cinematography',\n",
              " 'dialog',\n",
              " 'saying',\n",
              " 'alone',\n",
              " 'class',\n",
              " 'sad',\n",
              " 'exactly',\n",
              " 'huge',\n",
              " 'dog',\n",
              " 'running',\n",
              " 'annoying',\n",
              " 'open',\n",
              " 'scary',\n",
              " 'stay',\n",
              " 'taking',\n",
              " 'whose',\n",
              " 'started',\n",
              " 'tale',\n",
              " 'ridiculous',\n",
              " 'major',\n",
              " 'producer',\n",
              " 'middle',\n",
              " 'four',\n",
              " 'important',\n",
              " 'turned',\n",
              " 'jack',\n",
              " 'beyond',\n",
              " 'team',\n",
              " 'somewhat',\n",
              " 'talking',\n",
              " 'silly',\n",
              " 'message',\n",
              " 'local',\n",
              " 'happy',\n",
              " 'rock',\n",
              " 'attention',\n",
              " 'subject',\n",
              " 'strange',\n",
              " 'return',\n",
              " 'comic',\n",
              " 'parent',\n",
              " 'single',\n",
              " 'hate',\n",
              " 'upon',\n",
              " 'usual',\n",
              " 'knew',\n",
              " 'mostly',\n",
              " 'modern',\n",
              " 'crime',\n",
              " 'disappointed',\n",
              " 'apparently',\n",
              " 'surprise',\n",
              " 'clich',\n",
              " 'basically',\n",
              " 'figure',\n",
              " 'member',\n",
              " 'due',\n",
              " 'street',\n",
              " 'king',\n",
              " 'season',\n",
              " 'space',\n",
              " 'release',\n",
              " 'non',\n",
              " 'image',\n",
              " 'television',\n",
              " 'british',\n",
              " 'result',\n",
              " 'state',\n",
              " 'five',\n",
              " 'mention',\n",
              " 'western',\n",
              " 'cheap',\n",
              " 'gun',\n",
              " 'ten',\n",
              " 'earth',\n",
              " 'drug',\n",
              " 'oscar',\n",
              " 'clearly',\n",
              " 'hold',\n",
              " 'filmmaker',\n",
              " 'fast',\n",
              " 'george',\n",
              " 'moving',\n",
              " 'soundtrack',\n",
              " 'straight',\n",
              " 'predictable',\n",
              " 'entertainment',\n",
              " 'break',\n",
              " 'future',\n",
              " 'killing',\n",
              " 'villain',\n",
              " 'mystery',\n",
              " 'die',\n",
              " 'appears',\n",
              " 'aspect',\n",
              " 'whether',\n",
              " 'enjoyable',\n",
              " 'form',\n",
              " 'easily',\n",
              " 'supporting',\n",
              " 'doctor',\n",
              " 'doubt',\n",
              " 'viewing',\n",
              " 'french',\n",
              " 'buy',\n",
              " 'adult',\n",
              " 'near',\n",
              " 'romantic',\n",
              " 'giving',\n",
              " 'working',\n",
              " 'within',\n",
              " 'tried',\n",
              " 'suspense',\n",
              " 'dull',\n",
              " 'filmed',\n",
              " 'similar',\n",
              " 'peter',\n",
              " 'setting',\n",
              " 'emotion',\n",
              " 'note',\n",
              " 'clear',\n",
              " 'force',\n",
              " 'bring',\n",
              " 'storyline',\n",
              " 'showing',\n",
              " 'standard',\n",
              " 'bunch',\n",
              " 'soldier',\n",
              " 'present',\n",
              " 'easy',\n",
              " 'alien',\n",
              " 'surprised',\n",
              " 'certain',\n",
              " 'student',\n",
              " 'dance',\n",
              " 'th',\n",
              " 'check',\n",
              " 'sorry',\n",
              " 'general',\n",
              " 'named',\n",
              " 'among',\n",
              " 'period',\n",
              " 'realistic',\n",
              " 'editing',\n",
              " 'detail',\n",
              " 'using',\n",
              " 'victim',\n",
              " 'material',\n",
              " 'typical',\n",
              " 'avoid',\n",
              " 'cartoon',\n",
              " 'nearly',\n",
              " 'water',\n",
              " 'dr',\n",
              " 'rent',\n",
              " 'famous',\n",
              " 'battle',\n",
              " 'greatest',\n",
              " 'animation',\n",
              " 'mark',\n",
              " 'richard',\n",
              " 'kept',\n",
              " 'gone',\n",
              " 'issue',\n",
              " 'okay',\n",
              " 'follow',\n",
              " 'red',\n",
              " 'brought',\n",
              " 'male',\n",
              " 'actual',\n",
              " 'truth',\n",
              " 'premise',\n",
              " 'wait',\n",
              " 'romance',\n",
              " 'fantastic',\n",
              " 'box',\n",
              " 'imagine',\n",
              " 'learn',\n",
              " 'copy',\n",
              " 'vampire',\n",
              " 'tom',\n",
              " 'weak',\n",
              " 'background',\n",
              " 'paul',\n",
              " 'believable',\n",
              " 'imdb',\n",
              " 'somehow',\n",
              " 'america',\n",
              " 'fi',\n",
              " 'masterpiece',\n",
              " 'offer',\n",
              " 'deep',\n",
              " 'forget',\n",
              " 'fit',\n",
              " 'cover',\n",
              " 'atmosphere',\n",
              " 'third',\n",
              " 'average',\n",
              " 'society',\n",
              " 'particular',\n",
              " 'sci',\n",
              " 'cause',\n",
              " 'crew',\n",
              " 'hear',\n",
              " 'secret',\n",
              " 'gay',\n",
              " 'stage',\n",
              " 'baby',\n",
              " 'sit',\n",
              " 'shame',\n",
              " 'whatever',\n",
              " 'week',\n",
              " 'rate',\n",
              " 'studio',\n",
              " 'york',\n",
              " 'escape',\n",
              " 'poorly',\n",
              " 'lame',\n",
              " 'pay',\n",
              " 'free',\n",
              " 'walk',\n",
              " 'party',\n",
              " 'acted',\n",
              " 'eventually',\n",
              " 'fire',\n",
              " 'decided',\n",
              " 'indeed',\n",
              " 'expected',\n",
              " 'lee',\n",
              " 'de',\n",
              " 'adventure',\n",
              " 'forced',\n",
              " 'hot',\n",
              " 'emotional',\n",
              " 'leaf',\n",
              " 'german',\n",
              " 'choice',\n",
              " 'girlfriend',\n",
              " 'nature',\n",
              " 'focus',\n",
              " 'reading',\n",
              " 'memorable',\n",
              " 'location',\n",
              " 'air',\n",
              " 'screenplay',\n",
              " 'plus',\n",
              " 'sexual',\n",
              " 'wood',\n",
              " 'needed',\n",
              " 'difficult',\n",
              " 'accent',\n",
              " 'beauty',\n",
              " 'match',\n",
              " 'cheesy',\n",
              " 'write',\n",
              " 'footage',\n",
              " 'forward',\n",
              " 'island',\n",
              " 'superb',\n",
              " 'unless',\n",
              " 'lover',\n",
              " 'animal',\n",
              " 'became',\n",
              " 'development',\n",
              " 'possibly',\n",
              " 'bill',\n",
              " 'otherwise',\n",
              " 'touch',\n",
              " 'interested',\n",
              " 'maker',\n",
              " 'badly',\n",
              " 'plan',\n",
              " 'earlier',\n",
              " 'inside',\n",
              " 'fantasy',\n",
              " 'quickly',\n",
              " 'teen',\n",
              " 'incredibly',\n",
              " 'weird',\n",
              " 'towards',\n",
              " 'company',\n",
              " 'japanese',\n",
              " 'fear',\n",
              " 'pick',\n",
              " 'dumb',\n",
              " 'personal',\n",
              " 'following',\n",
              " 'shoot',\n",
              " 'joe',\n",
              " 'unique',\n",
              " 'front',\n",
              " 'powerful',\n",
              " 'list',\n",
              " 'previous',\n",
              " 'directing',\n",
              " 'term',\n",
              " 'mess',\n",
              " 'cry',\n",
              " 'total',\n",
              " 'remake',\n",
              " 'disney',\n",
              " 'business',\n",
              " 'perfectly',\n",
              " 'realize',\n",
              " 'worked',\n",
              " 'ask',\n",
              " 'win',\n",
              " 'band',\n",
              " 'cat',\n",
              " 'amount',\n",
              " 'project',\n",
              " 'award',\n",
              " 'older',\n",
              " 'costume',\n",
              " 'crazy',\n",
              " 'appear',\n",
              " 'memory',\n",
              " 'creature',\n",
              " 'master',\n",
              " 'brain',\n",
              " 'century',\n",
              " 'portrayed',\n",
              " 'era',\n",
              " 'rich',\n",
              " 'various',\n",
              " 'outside',\n",
              " 'creepy',\n",
              " 'plenty',\n",
              " 'portrayal',\n",
              " 'ghost',\n",
              " 'trouble',\n",
              " 'spent',\n",
              " 'success',\n",
              " 'telling',\n",
              " 'dramatic',\n",
              " 'brings',\n",
              " 'admit',\n",
              " 'co',\n",
              " 'law',\n",
              " 'blue',\n",
              " 'deserves',\n",
              " 'fairly',\n",
              " 'train',\n",
              " 'plain',\n",
              " 'meant',\n",
              " 'political',\n",
              " 'wasted',\n",
              " 'apart',\n",
              " 'create',\n",
              " 'spirit',\n",
              " 'appearance',\n",
              " 'agree',\n",
              " 'store',\n",
              " 'office',\n",
              " 'fails',\n",
              " 'odd',\n",
              " 'expecting',\n",
              " 'missing',\n",
              " 'attack',\n",
              " 'leading',\n",
              " 'mistake',\n",
              " 'potential',\n",
              " 'italian',\n",
              " 'drive',\n",
              " 'chase',\n",
              " 'william',\n",
              " 'manages',\n",
              " 'concept',\n",
              " 'player',\n",
              " 'produced',\n",
              " 'caught',\n",
              " 'talented',\n",
              " 'ability',\n",
              " 'soul',\n",
              " 'hole',\n",
              " 'flat',\n",
              " 'language',\n",
              " 'hardly',\n",
              " 'fighting',\n",
              " 'extra',\n",
              " 'channel',\n",
              " 'cute',\n",
              " 'la',\n",
              " 'laughing',\n",
              " 'large',\n",
              " 'depth',\n",
              " 'clever',\n",
              " 'door',\n",
              " 'unlike',\n",
              " 'scott',\n",
              " 'stick',\n",
              " 'recently',\n",
              " 'throw',\n",
              " 'public',\n",
              " 'missed',\n",
              " 'culture',\n",
              " 'indian',\n",
              " 'pace',\n",
              " 'created',\n",
              " 'pull',\n",
              " 'nudity',\n",
              " 'ended',\n",
              " 'casting',\n",
              " 'control',\n",
              " 'color',\n",
              " 'respect',\n",
              " 'wrote',\n",
              " 'sadly',\n",
              " 'filled',\n",
              " 'pure',\n",
              " 'slightly',\n",
              " 'hair',\n",
              " 'married',\n",
              " 'tension',\n",
              " 'million',\n",
              " 'speak',\n",
              " 'us',\n",
              " 'mentioned',\n",
              " 'science',\n",
              " 'cold',\n",
              " 'incredible',\n",
              " 'answer',\n",
              " 'died',\n",
              " 'familiar',\n",
              " 'sweet',\n",
              " 'dancing',\n",
              " 'visual',\n",
              " 'purpose',\n",
              " 'meaning',\n",
              " 'gang',\n",
              " 'intelligent',\n",
              " 'popular',\n",
              " 'positive',\n",
              " 'waiting',\n",
              " 'decides',\n",
              " 'considering',\n",
              " 'convincing',\n",
              " 'slasher',\n",
              " 'building',\n",
              " 'college',\n",
              " 'track',\n",
              " 'anti',\n",
              " 'former',\n",
              " 'basic',\n",
              " 'catch',\n",
              " 'sick',\n",
              " 'van',\n",
              " 'critic',\n",
              " 'social',\n",
              " 'younger',\n",
              " 'follows',\n",
              " 'alive',\n",
              " 'entirely',\n",
              " 'yeah',\n",
              " 'land',\n",
              " 'exciting',\n",
              " 'suddenly',\n",
              " 'camp',\n",
              " 'post',\n",
              " 'mad',\n",
              " 'appreciate',\n",
              " 'lie',\n",
              " 'biggest',\n",
              " 'common',\n",
              " 'belief',\n",
              " 'genius',\n",
              " 'fake',\n",
              " 'computer',\n",
              " 'successful',\n",
              " 'road',\n",
              " 'flaw',\n",
              " 'compared',\n",
              " 'jane',\n",
              " 'violent',\n",
              " 'neither',\n",
              " 'spot',\n",
              " 'honest',\n",
              " 'longer',\n",
              " 'pointless',\n",
              " 'tone',\n",
              " 'recommended',\n",
              " 'conclusion',\n",
              " 'teenager',\n",
              " 'spend',\n",
              " 'aside',\n",
              " 'bored',\n",
              " 'amusing',\n",
              " 'shooting',\n",
              " 'bizarre',\n",
              " 'carry',\n",
              " 'taste',\n",
              " 'date',\n",
              " 'ride',\n",
              " 'adaptation',\n",
              " 'bother',\n",
              " 'ultimately',\n",
              " 'edge',\n",
              " 'suck',\n",
              " 'trip',\n",
              " 'christmas',\n",
              " 'awesome',\n",
              " ...]"
            ]
          },
          "metadata": {},
          "execution_count": 28
        }
      ],
      "source": [
        "# Vocabulary\n",
        "\n",
        "w2v_model.wv.index_to_key"
      ]
    },
    {
      "cell_type": "code",
      "execution_count": null,
      "id": "yh38vTL-AXZ8",
      "metadata": {
        "colab": {
          "base_uri": "https://localhost:8080/"
        },
        "id": "yh38vTL-AXZ8",
        "outputId": "676dd9d4-d422-47d4-ff79-c6305266ce26"
      },
      "outputs": [
        {
          "output_type": "execute_result",
          "data": {
            "text/plain": [
              "50288"
            ]
          },
          "metadata": {},
          "execution_count": 29
        }
      ],
      "source": [
        "# vocabulary size\n",
        "\n",
        "l = len(w2v_model.wv.index_to_key)\n",
        "l"
      ]
    },
    {
      "cell_type": "code",
      "execution_count": null,
      "id": "I-sYitA5ED_p",
      "metadata": {
        "colab": {
          "base_uri": "https://localhost:8080/"
        },
        "id": "I-sYitA5ED_p",
        "outputId": "1beb5103-efa9-47c2-cbac-fa0da2420252"
      },
      "outputs": [
        {
          "output_type": "execute_result",
          "data": {
            "text/plain": [
              "40000"
            ]
          },
          "metadata": {},
          "execution_count": 30
        }
      ],
      "source": [
        "# corpus count\n",
        "w2v_model.corpus_count"
      ]
    },
    {
      "cell_type": "code",
      "execution_count": null,
      "id": "HptHMYQOFDl9",
      "metadata": {
        "colab": {
          "base_uri": "https://localhost:8080/"
        },
        "id": "HptHMYQOFDl9",
        "outputId": "bc7cd487-45c3-43c7-c6eb-4e96b9f0c10c"
      },
      "outputs": [
        {
          "output_type": "execute_result",
          "data": {
            "text/plain": [
              "[('road', 0.7785979509353638),\n",
              " ('vacation', 0.7339382767677307),\n",
              " ('ride', 0.6714776158332825),\n",
              " ('spring', 0.663937509059906),\n",
              " ('camping', 0.6632187962532043),\n",
              " ('holiday', 0.6569988131523132),\n",
              " ('remote', 0.6442333459854126),\n",
              " ('cabin', 0.6398431658744812),\n",
              " ('arrive', 0.6257714629173279),\n",
              " ('destination', 0.6228728890419006)]"
            ]
          },
          "metadata": {},
          "execution_count": 31
        }
      ],
      "source": [
        "# Similar words\n",
        "\n",
        "w2v_model.wv.similar_by_word('trip')"
      ]
    },
    {
      "cell_type": "code",
      "execution_count": null,
      "id": "SlvcE-0WJnyV",
      "metadata": {
        "colab": {
          "base_uri": "https://localhost:8080/"
        },
        "id": "SlvcE-0WJnyV",
        "outputId": "8aee155f-8291-49ed-d821-93611c224574"
      },
      "outputs": [
        {
          "output_type": "execute_result",
          "data": {
            "text/plain": [
              "(300,)"
            ]
          },
          "metadata": {},
          "execution_count": 32
        }
      ],
      "source": [
        "w2v_model.wv['trip'].shape"
      ]
    },
    {
      "cell_type": "code",
      "execution_count": null,
      "id": "rXMl_r4yGl7o",
      "metadata": {
        "id": "rXMl_r4yGl7o"
      },
      "outputs": [],
      "source": [
        "# Average Word2vec function\n",
        "\n",
        "import numpy as np\n",
        "\n",
        "def avg_w2v(doc):\n",
        "\n",
        "  return np.mean([w2v_model.wv[word] for word in doc if word in w2v_model.wv.index_to_key],axis=0)\n"
      ]
    },
    {
      "cell_type": "code",
      "execution_count": null,
      "id": "RWaULWkufGUH",
      "metadata": {
        "id": "RWaULWkufGUH"
      },
      "outputs": [],
      "source": [
        "from tqdm import tqdm"
      ]
    },
    {
      "cell_type": "code",
      "execution_count": null,
      "id": "gJkhFcNsKxZ7",
      "metadata": {
        "id": "gJkhFcNsKxZ7"
      },
      "outputs": [],
      "source": [
        "# Implementation of average Word2vec\n",
        "\n",
        "def imp_avg_w2v(data):\n",
        "  l=[]\n",
        "  words=token(data)\n",
        "  # model_wv=w2v(data)\n",
        "  for i in tqdm(range(len(words))):\n",
        "    l.append(avg_w2v(words[i]))\n",
        "  return l"
      ]
    },
    {
      "cell_type": "code",
      "execution_count": null,
      "id": "CxG3AgKMagW3",
      "metadata": {
        "id": "CxG3AgKMagW3"
      },
      "outputs": [],
      "source": [
        "# Data preparation function: includes all the previous preprocessing steps and returns us prepared data\n",
        "\n",
        "def data_prep(data):\n",
        "\n",
        "  data.reset_index(inplace=True)\n",
        "  prep_data = imp_avg_w2v(data)\n",
        "  # x_train_new\n",
        "  prep_data = np.array(prep_data)\n",
        "  prep_data = prep_data.reshape(len(prep_data),1,300)\n",
        "\n",
        "  return prep_data;\n"
      ]
    },
    {
      "cell_type": "code",
      "execution_count": null,
      "id": "M7io2mr3fmYA",
      "metadata": {
        "id": "M7io2mr3fmYA"
      },
      "outputs": [],
      "source": [
        "# checking nan values\n",
        "\n",
        "# import math\n",
        "# sum(math.isnan(x) for x in l if isinstance(x, float))"
      ]
    },
    {
      "cell_type": "code",
      "execution_count": null,
      "id": "UqihJ8K4qyYZ",
      "metadata": {
        "id": "UqihJ8K4qyYZ"
      },
      "outputs": [],
      "source": [
        "from keras.models import Sequential\n",
        "from keras.layers import Dense, LSTM, Dropout, Flatten, InputLayer\n",
        "from keras.regularizers import l2"
      ]
    },
    {
      "cell_type": "code",
      "execution_count": null,
      "id": "_o8itLDEqglM",
      "metadata": {
        "id": "_o8itLDEqglM"
      },
      "outputs": [],
      "source": [
        "# Model Building\n",
        "\n",
        "def build_model(input_shape):\n",
        "    model = Sequential()\n",
        "    model.add(InputLayer(input_shape=input_shape))\n",
        "    model.add(LSTM(128, recurrent_dropout=0.2, kernel_regularizer=l2(0.001)))\n",
        "    model.add(Dropout(0.2))\n",
        "    model.add(Flatten())\n",
        "    model.add(Dense(64, activation='relu'))\n",
        "    model.add(Dropout(0.2))\n",
        "    model.add(Dense(1, activation='sigmoid'))\n",
        "\n",
        "    model.compile(optimizer='adam', loss='binary_crossentropy', metrics=['accuracy'])\n",
        "    return model\n",
        "\n"
      ]
    },
    {
      "cell_type": "code",
      "execution_count": null,
      "id": "izb3UaLRmtbS",
      "metadata": {
        "colab": {
          "base_uri": "https://localhost:8080/",
          "height": 376
        },
        "id": "izb3UaLRmtbS",
        "outputId": "8c5f81c9-bc0b-405e-d422-9861ad539036"
      },
      "outputs": [
        {
          "output_type": "stream",
          "name": "stderr",
          "text": [
            "/usr/local/lib/python3.10/dist-packages/keras/src/layers/core/input_layer.py:26: UserWarning: Argument `input_shape` is deprecated. Use `shape` instead.\n",
            "  warnings.warn(\n"
          ]
        },
        {
          "output_type": "display_data",
          "data": {
            "text/plain": [
              "\u001b[1mModel: \"sequential\"\u001b[0m\n"
            ],
            "text/html": [
              "<pre style=\"white-space:pre;overflow-x:auto;line-height:normal;font-family:Menlo,'DejaVu Sans Mono',consolas,'Courier New',monospace\"><span style=\"font-weight: bold\">Model: \"sequential\"</span>\n",
              "</pre>\n"
            ]
          },
          "metadata": {}
        },
        {
          "output_type": "display_data",
          "data": {
            "text/plain": [
              "┏━━━━━━━━━━━━━━━━━━━━━━━━━━━━━━━━━━━━━━┳━━━━━━━━━━━━━━━━━━━━━━━━━━━━━┳━━━━━━━━━━━━━━━━━┓\n",
              "┃\u001b[1m \u001b[0m\u001b[1mLayer (type)                        \u001b[0m\u001b[1m \u001b[0m┃\u001b[1m \u001b[0m\u001b[1mOutput Shape               \u001b[0m\u001b[1m \u001b[0m┃\u001b[1m \u001b[0m\u001b[1m        Param #\u001b[0m\u001b[1m \u001b[0m┃\n",
              "┡━━━━━━━━━━━━━━━━━━━━━━━━━━━━━━━━━━━━━━╇━━━━━━━━━━━━━━━━━━━━━━━━━━━━━╇━━━━━━━━━━━━━━━━━┩\n",
              "│ lstm (\u001b[38;5;33mLSTM\u001b[0m)                          │ (\u001b[38;5;45mNone\u001b[0m, \u001b[38;5;34m128\u001b[0m)                 │         \u001b[38;5;34m219,648\u001b[0m │\n",
              "├──────────────────────────────────────┼─────────────────────────────┼─────────────────┤\n",
              "│ dropout (\u001b[38;5;33mDropout\u001b[0m)                    │ (\u001b[38;5;45mNone\u001b[0m, \u001b[38;5;34m128\u001b[0m)                 │               \u001b[38;5;34m0\u001b[0m │\n",
              "├──────────────────────────────────────┼─────────────────────────────┼─────────────────┤\n",
              "│ flatten (\u001b[38;5;33mFlatten\u001b[0m)                    │ (\u001b[38;5;45mNone\u001b[0m, \u001b[38;5;34m128\u001b[0m)                 │               \u001b[38;5;34m0\u001b[0m │\n",
              "├──────────────────────────────────────┼─────────────────────────────┼─────────────────┤\n",
              "│ dense (\u001b[38;5;33mDense\u001b[0m)                        │ (\u001b[38;5;45mNone\u001b[0m, \u001b[38;5;34m64\u001b[0m)                  │           \u001b[38;5;34m8,256\u001b[0m │\n",
              "├──────────────────────────────────────┼─────────────────────────────┼─────────────────┤\n",
              "│ dropout_1 (\u001b[38;5;33mDropout\u001b[0m)                  │ (\u001b[38;5;45mNone\u001b[0m, \u001b[38;5;34m64\u001b[0m)                  │               \u001b[38;5;34m0\u001b[0m │\n",
              "├──────────────────────────────────────┼─────────────────────────────┼─────────────────┤\n",
              "│ dense_1 (\u001b[38;5;33mDense\u001b[0m)                      │ (\u001b[38;5;45mNone\u001b[0m, \u001b[38;5;34m1\u001b[0m)                   │              \u001b[38;5;34m65\u001b[0m │\n",
              "└──────────────────────────────────────┴─────────────────────────────┴─────────────────┘\n"
            ],
            "text/html": [
              "<pre style=\"white-space:pre;overflow-x:auto;line-height:normal;font-family:Menlo,'DejaVu Sans Mono',consolas,'Courier New',monospace\">┏━━━━━━━━━━━━━━━━━━━━━━━━━━━━━━━━━━━━━━┳━━━━━━━━━━━━━━━━━━━━━━━━━━━━━┳━━━━━━━━━━━━━━━━━┓\n",
              "┃<span style=\"font-weight: bold\"> Layer (type)                         </span>┃<span style=\"font-weight: bold\"> Output Shape                </span>┃<span style=\"font-weight: bold\">         Param # </span>┃\n",
              "┡━━━━━━━━━━━━━━━━━━━━━━━━━━━━━━━━━━━━━━╇━━━━━━━━━━━━━━━━━━━━━━━━━━━━━╇━━━━━━━━━━━━━━━━━┩\n",
              "│ lstm (<span style=\"color: #0087ff; text-decoration-color: #0087ff\">LSTM</span>)                          │ (<span style=\"color: #00d7ff; text-decoration-color: #00d7ff\">None</span>, <span style=\"color: #00af00; text-decoration-color: #00af00\">128</span>)                 │         <span style=\"color: #00af00; text-decoration-color: #00af00\">219,648</span> │\n",
              "├──────────────────────────────────────┼─────────────────────────────┼─────────────────┤\n",
              "│ dropout (<span style=\"color: #0087ff; text-decoration-color: #0087ff\">Dropout</span>)                    │ (<span style=\"color: #00d7ff; text-decoration-color: #00d7ff\">None</span>, <span style=\"color: #00af00; text-decoration-color: #00af00\">128</span>)                 │               <span style=\"color: #00af00; text-decoration-color: #00af00\">0</span> │\n",
              "├──────────────────────────────────────┼─────────────────────────────┼─────────────────┤\n",
              "│ flatten (<span style=\"color: #0087ff; text-decoration-color: #0087ff\">Flatten</span>)                    │ (<span style=\"color: #00d7ff; text-decoration-color: #00d7ff\">None</span>, <span style=\"color: #00af00; text-decoration-color: #00af00\">128</span>)                 │               <span style=\"color: #00af00; text-decoration-color: #00af00\">0</span> │\n",
              "├──────────────────────────────────────┼─────────────────────────────┼─────────────────┤\n",
              "│ dense (<span style=\"color: #0087ff; text-decoration-color: #0087ff\">Dense</span>)                        │ (<span style=\"color: #00d7ff; text-decoration-color: #00d7ff\">None</span>, <span style=\"color: #00af00; text-decoration-color: #00af00\">64</span>)                  │           <span style=\"color: #00af00; text-decoration-color: #00af00\">8,256</span> │\n",
              "├──────────────────────────────────────┼─────────────────────────────┼─────────────────┤\n",
              "│ dropout_1 (<span style=\"color: #0087ff; text-decoration-color: #0087ff\">Dropout</span>)                  │ (<span style=\"color: #00d7ff; text-decoration-color: #00d7ff\">None</span>, <span style=\"color: #00af00; text-decoration-color: #00af00\">64</span>)                  │               <span style=\"color: #00af00; text-decoration-color: #00af00\">0</span> │\n",
              "├──────────────────────────────────────┼─────────────────────────────┼─────────────────┤\n",
              "│ dense_1 (<span style=\"color: #0087ff; text-decoration-color: #0087ff\">Dense</span>)                      │ (<span style=\"color: #00d7ff; text-decoration-color: #00d7ff\">None</span>, <span style=\"color: #00af00; text-decoration-color: #00af00\">1</span>)                   │              <span style=\"color: #00af00; text-decoration-color: #00af00\">65</span> │\n",
              "└──────────────────────────────────────┴─────────────────────────────┴─────────────────┘\n",
              "</pre>\n"
            ]
          },
          "metadata": {}
        },
        {
          "output_type": "display_data",
          "data": {
            "text/plain": [
              "\u001b[1m Total params: \u001b[0m\u001b[38;5;34m227,969\u001b[0m (890.50 KB)\n"
            ],
            "text/html": [
              "<pre style=\"white-space:pre;overflow-x:auto;line-height:normal;font-family:Menlo,'DejaVu Sans Mono',consolas,'Courier New',monospace\"><span style=\"font-weight: bold\"> Total params: </span><span style=\"color: #00af00; text-decoration-color: #00af00\">227,969</span> (890.50 KB)\n",
              "</pre>\n"
            ]
          },
          "metadata": {}
        },
        {
          "output_type": "display_data",
          "data": {
            "text/plain": [
              "\u001b[1m Trainable params: \u001b[0m\u001b[38;5;34m227,969\u001b[0m (890.50 KB)\n"
            ],
            "text/html": [
              "<pre style=\"white-space:pre;overflow-x:auto;line-height:normal;font-family:Menlo,'DejaVu Sans Mono',consolas,'Courier New',monospace\"><span style=\"font-weight: bold\"> Trainable params: </span><span style=\"color: #00af00; text-decoration-color: #00af00\">227,969</span> (890.50 KB)\n",
              "</pre>\n"
            ]
          },
          "metadata": {}
        },
        {
          "output_type": "display_data",
          "data": {
            "text/plain": [
              "\u001b[1m Non-trainable params: \u001b[0m\u001b[38;5;34m0\u001b[0m (0.00 B)\n"
            ],
            "text/html": [
              "<pre style=\"white-space:pre;overflow-x:auto;line-height:normal;font-family:Menlo,'DejaVu Sans Mono',consolas,'Courier New',monospace\"><span style=\"font-weight: bold\"> Non-trainable params: </span><span style=\"color: #00af00; text-decoration-color: #00af00\">0</span> (0.00 B)\n",
              "</pre>\n"
            ]
          },
          "metadata": {}
        }
      ],
      "source": [
        "model = build_model((1, 300))  # Adjust input shape based on your vector size\n",
        "model.summary()"
      ]
    },
    {
      "cell_type": "code",
      "execution_count": null,
      "id": "ASTYeWIF3hAH",
      "metadata": {
        "colab": {
          "base_uri": "https://localhost:8080/"
        },
        "id": "ASTYeWIF3hAH",
        "outputId": "b2412d79-e511-4e06-ec78-5b2980ff0450"
      },
      "outputs": [
        {
          "output_type": "stream",
          "name": "stderr",
          "text": [
            "100%|██████████| 40000/40000 [05:47<00:00, 115.15it/s]\n"
          ]
        },
        {
          "output_type": "execute_result",
          "data": {
            "text/plain": [
              "array([[[ 0.1852539 ,  0.0604672 , -0.07064303, ...,  0.19262727,\n",
              "          0.01292579, -0.21246773]],\n",
              "\n",
              "       [[ 0.18605606,  0.08435641,  0.10736632, ...,  0.3311025 ,\n",
              "         -0.00729592, -0.3729048 ]],\n",
              "\n",
              "       [[ 0.5861918 ,  0.17508496, -0.03305424, ...,  0.39839327,\n",
              "          0.23002006, -0.29958957]],\n",
              "\n",
              "       ...,\n",
              "\n",
              "       [[-0.09973919, -0.16756661, -0.02200313, ...,  0.05365353,\n",
              "         -0.27365616, -0.45074248]],\n",
              "\n",
              "       [[ 0.09998778,  0.11912252, -0.00162374, ...,  0.10472238,\n",
              "          0.13887142, -0.49494407]],\n",
              "\n",
              "       [[ 0.28617367, -0.18415736,  0.00520344, ...,  0.34078267,\n",
              "         -0.11674249, -0.26631823]]], dtype=float32)"
            ]
          },
          "metadata": {},
          "execution_count": 41
        }
      ],
      "source": [
        "x_train_new = data_prep(x_train)\n",
        "x_train_new"
      ]
    },
    {
      "cell_type": "code",
      "execution_count": null,
      "id": "6SIsaHBMrhSK",
      "metadata": {
        "id": "6SIsaHBMrhSK"
      },
      "outputs": [],
      "source": [
        "import tensorflow as tf\n",
        "\n",
        "# Early Stopping criterion settings\n",
        "\n",
        "early_stopping = tf.keras.callbacks.EarlyStopping(\n",
        "    monitor=\"val_loss\",\n",
        "    min_delta=0.0001,\n",
        "    patience=20,\n",
        "    verbose=1,\n",
        "    mode=\"auto\",\n",
        "    baseline=None,\n",
        "    restore_best_weights=False,\n",
        "    start_from_epoch=0,\n",
        ")"
      ]
    },
    {
      "cell_type": "code",
      "execution_count": null,
      "id": "E57guLhM04VE",
      "metadata": {
        "id": "E57guLhM04VE",
        "colab": {
          "base_uri": "https://localhost:8080/"
        },
        "outputId": "133b5cea-951d-4cd5-c85a-0148abc9feca"
      },
      "outputs": [
        {
          "output_type": "stream",
          "name": "stdout",
          "text": [
            "Epoch 1/1000\n",
            "\u001b[1m1000/1000\u001b[0m \u001b[32m━━━━━━━━━━━━━━━━━━━━\u001b[0m\u001b[37m\u001b[0m \u001b[1m11s\u001b[0m 6ms/step - accuracy: 0.7971 - loss: 0.5199 - val_accuracy: 0.8589 - val_loss: 0.3593\n",
            "Epoch 2/1000\n",
            "\u001b[1m1000/1000\u001b[0m \u001b[32m━━━━━━━━━━━━━━━━━━━━\u001b[0m\u001b[37m\u001b[0m \u001b[1m5s\u001b[0m 5ms/step - accuracy: 0.8446 - loss: 0.3835 - val_accuracy: 0.8514 - val_loss: 0.3631\n",
            "Epoch 3/1000\n",
            "\u001b[1m1000/1000\u001b[0m \u001b[32m━━━━━━━━━━━━━━━━━━━━\u001b[0m\u001b[37m\u001b[0m \u001b[1m6s\u001b[0m 6ms/step - accuracy: 0.8525 - loss: 0.3691 - val_accuracy: 0.8590 - val_loss: 0.3459\n",
            "Epoch 4/1000\n",
            "\u001b[1m1000/1000\u001b[0m \u001b[32m━━━━━━━━━━━━━━━━━━━━\u001b[0m\u001b[37m\u001b[0m \u001b[1m9s\u001b[0m 5ms/step - accuracy: 0.8500 - loss: 0.3652 - val_accuracy: 0.8602 - val_loss: 0.3452\n",
            "Epoch 5/1000\n",
            "\u001b[1m1000/1000\u001b[0m \u001b[32m━━━━━━━━━━━━━━━━━━━━\u001b[0m\u001b[37m\u001b[0m \u001b[1m6s\u001b[0m 6ms/step - accuracy: 0.8522 - loss: 0.3564 - val_accuracy: 0.8625 - val_loss: 0.3384\n",
            "Epoch 6/1000\n",
            "\u001b[1m1000/1000\u001b[0m \u001b[32m━━━━━━━━━━━━━━━━━━━━\u001b[0m\u001b[37m\u001b[0m \u001b[1m9s\u001b[0m 5ms/step - accuracy: 0.8547 - loss: 0.3540 - val_accuracy: 0.8572 - val_loss: 0.3496\n",
            "Epoch 7/1000\n",
            "\u001b[1m1000/1000\u001b[0m \u001b[32m━━━━━━━━━━━━━━━━━━━━\u001b[0m\u001b[37m\u001b[0m \u001b[1m6s\u001b[0m 6ms/step - accuracy: 0.8505 - loss: 0.3612 - val_accuracy: 0.8650 - val_loss: 0.3360\n",
            "Epoch 8/1000\n",
            "\u001b[1m1000/1000\u001b[0m \u001b[32m━━━━━━━━━━━━━━━━━━━━\u001b[0m\u001b[37m\u001b[0m \u001b[1m10s\u001b[0m 6ms/step - accuracy: 0.8569 - loss: 0.3541 - val_accuracy: 0.8595 - val_loss: 0.3392\n",
            "Epoch 9/1000\n",
            "\u001b[1m1000/1000\u001b[0m \u001b[32m━━━━━━━━━━━━━━━━━━━━\u001b[0m\u001b[37m\u001b[0m \u001b[1m9s\u001b[0m 5ms/step - accuracy: 0.8552 - loss: 0.3543 - val_accuracy: 0.8609 - val_loss: 0.3415\n",
            "Epoch 10/1000\n",
            "\u001b[1m1000/1000\u001b[0m \u001b[32m━━━━━━━━━━━━━━━━━━━━\u001b[0m\u001b[37m\u001b[0m \u001b[1m6s\u001b[0m 6ms/step - accuracy: 0.8570 - loss: 0.3556 - val_accuracy: 0.8600 - val_loss: 0.3359\n",
            "Epoch 11/1000\n",
            "\u001b[1m1000/1000\u001b[0m \u001b[32m━━━━━━━━━━━━━━━━━━━━\u001b[0m\u001b[37m\u001b[0m \u001b[1m9s\u001b[0m 5ms/step - accuracy: 0.8583 - loss: 0.3489 - val_accuracy: 0.8580 - val_loss: 0.3434\n",
            "Epoch 12/1000\n",
            "\u001b[1m1000/1000\u001b[0m \u001b[32m━━━━━━━━━━━━━━━━━━━━\u001b[0m\u001b[37m\u001b[0m \u001b[1m10s\u001b[0m 5ms/step - accuracy: 0.8550 - loss: 0.3539 - val_accuracy: 0.8627 - val_loss: 0.3328\n",
            "Epoch 13/1000\n",
            "\u001b[1m1000/1000\u001b[0m \u001b[32m━━━━━━━━━━━━━━━━━━━━\u001b[0m\u001b[37m\u001b[0m \u001b[1m6s\u001b[0m 6ms/step - accuracy: 0.8570 - loss: 0.3520 - val_accuracy: 0.8611 - val_loss: 0.3335\n",
            "Epoch 14/1000\n",
            "\u001b[1m1000/1000\u001b[0m \u001b[32m━━━━━━━━━━━━━━━━━━━━\u001b[0m\u001b[37m\u001b[0m \u001b[1m5s\u001b[0m 5ms/step - accuracy: 0.8573 - loss: 0.3493 - val_accuracy: 0.8640 - val_loss: 0.3309\n",
            "Epoch 15/1000\n",
            "\u001b[1m1000/1000\u001b[0m \u001b[32m━━━━━━━━━━━━━━━━━━━━\u001b[0m\u001b[37m\u001b[0m \u001b[1m6s\u001b[0m 6ms/step - accuracy: 0.8554 - loss: 0.3544 - val_accuracy: 0.8615 - val_loss: 0.3374\n",
            "Epoch 16/1000\n",
            "\u001b[1m1000/1000\u001b[0m \u001b[32m━━━━━━━━━━━━━━━━━━━━\u001b[0m\u001b[37m\u001b[0m \u001b[1m9s\u001b[0m 5ms/step - accuracy: 0.8599 - loss: 0.3406 - val_accuracy: 0.8669 - val_loss: 0.3302\n",
            "Epoch 17/1000\n",
            "\u001b[1m1000/1000\u001b[0m \u001b[32m━━━━━━━━━━━━━━━━━━━━\u001b[0m\u001b[37m\u001b[0m \u001b[1m6s\u001b[0m 6ms/step - accuracy: 0.8573 - loss: 0.3523 - val_accuracy: 0.8410 - val_loss: 0.3717\n",
            "Epoch 18/1000\n",
            "\u001b[1m1000/1000\u001b[0m \u001b[32m━━━━━━━━━━━━━━━━━━━━\u001b[0m\u001b[37m\u001b[0m \u001b[1m5s\u001b[0m 5ms/step - accuracy: 0.8564 - loss: 0.3509 - val_accuracy: 0.8664 - val_loss: 0.3298\n",
            "Epoch 19/1000\n",
            "\u001b[1m1000/1000\u001b[0m \u001b[32m━━━━━━━━━━━━━━━━━━━━\u001b[0m\u001b[37m\u001b[0m \u001b[1m5s\u001b[0m 5ms/step - accuracy: 0.8544 - loss: 0.3535 - val_accuracy: 0.8645 - val_loss: 0.3306\n",
            "Epoch 20/1000\n",
            "\u001b[1m1000/1000\u001b[0m \u001b[32m━━━━━━━━━━━━━━━━━━━━\u001b[0m\u001b[37m\u001b[0m \u001b[1m6s\u001b[0m 6ms/step - accuracy: 0.8564 - loss: 0.3493 - val_accuracy: 0.8610 - val_loss: 0.3354\n",
            "Epoch 21/1000\n",
            "\u001b[1m1000/1000\u001b[0m \u001b[32m━━━━━━━━━━━━━━━━━━━━\u001b[0m\u001b[37m\u001b[0m \u001b[1m5s\u001b[0m 5ms/step - accuracy: 0.8607 - loss: 0.3426 - val_accuracy: 0.8576 - val_loss: 0.3454\n",
            "Epoch 22/1000\n",
            "\u001b[1m1000/1000\u001b[0m \u001b[32m━━━━━━━━━━━━━━━━━━━━\u001b[0m\u001b[37m\u001b[0m \u001b[1m6s\u001b[0m 6ms/step - accuracy: 0.8580 - loss: 0.3466 - val_accuracy: 0.8637 - val_loss: 0.3297\n",
            "Epoch 23/1000\n",
            "\u001b[1m1000/1000\u001b[0m \u001b[32m━━━━━━━━━━━━━━━━━━━━\u001b[0m\u001b[37m\u001b[0m \u001b[1m9s\u001b[0m 5ms/step - accuracy: 0.8552 - loss: 0.3533 - val_accuracy: 0.8611 - val_loss: 0.3357\n",
            "Epoch 24/1000\n",
            "\u001b[1m1000/1000\u001b[0m \u001b[32m━━━━━━━━━━━━━━━━━━━━\u001b[0m\u001b[37m\u001b[0m \u001b[1m6s\u001b[0m 6ms/step - accuracy: 0.8565 - loss: 0.3477 - val_accuracy: 0.8571 - val_loss: 0.3472\n",
            "Epoch 25/1000\n",
            "\u001b[1m1000/1000\u001b[0m \u001b[32m━━━━━━━━━━━━━━━━━━━━\u001b[0m\u001b[37m\u001b[0m \u001b[1m5s\u001b[0m 5ms/step - accuracy: 0.8591 - loss: 0.3455 - val_accuracy: 0.8585 - val_loss: 0.3399\n",
            "Epoch 26/1000\n",
            "\u001b[1m1000/1000\u001b[0m \u001b[32m━━━━━━━━━━━━━━━━━━━━\u001b[0m\u001b[37m\u001b[0m \u001b[1m6s\u001b[0m 6ms/step - accuracy: 0.8538 - loss: 0.3497 - val_accuracy: 0.8574 - val_loss: 0.3434\n",
            "Epoch 27/1000\n",
            "\u001b[1m1000/1000\u001b[0m \u001b[32m━━━━━━━━━━━━━━━━━━━━\u001b[0m\u001b[37m\u001b[0m \u001b[1m5s\u001b[0m 5ms/step - accuracy: 0.8551 - loss: 0.3533 - val_accuracy: 0.8589 - val_loss: 0.3338\n",
            "Epoch 28/1000\n",
            "\u001b[1m1000/1000\u001b[0m \u001b[32m━━━━━━━━━━━━━━━━━━━━\u001b[0m\u001b[37m\u001b[0m \u001b[1m6s\u001b[0m 6ms/step - accuracy: 0.8617 - loss: 0.3408 - val_accuracy: 0.8643 - val_loss: 0.3301\n",
            "Epoch 29/1000\n",
            "\u001b[1m1000/1000\u001b[0m \u001b[32m━━━━━━━━━━━━━━━━━━━━\u001b[0m\u001b[37m\u001b[0m \u001b[1m9s\u001b[0m 5ms/step - accuracy: 0.8583 - loss: 0.3450 - val_accuracy: 0.8651 - val_loss: 0.3294\n",
            "Epoch 30/1000\n",
            "\u001b[1m1000/1000\u001b[0m \u001b[32m━━━━━━━━━━━━━━━━━━━━\u001b[0m\u001b[37m\u001b[0m \u001b[1m6s\u001b[0m 6ms/step - accuracy: 0.8598 - loss: 0.3464 - val_accuracy: 0.8577 - val_loss: 0.3385\n",
            "Epoch 31/1000\n",
            "\u001b[1m1000/1000\u001b[0m \u001b[32m━━━━━━━━━━━━━━━━━━━━\u001b[0m\u001b[37m\u001b[0m \u001b[1m9s\u001b[0m 5ms/step - accuracy: 0.8589 - loss: 0.3429 - val_accuracy: 0.8644 - val_loss: 0.3322\n",
            "Epoch 32/1000\n",
            "\u001b[1m1000/1000\u001b[0m \u001b[32m━━━━━━━━━━━━━━━━━━━━\u001b[0m\u001b[37m\u001b[0m \u001b[1m6s\u001b[0m 6ms/step - accuracy: 0.8581 - loss: 0.3453 - val_accuracy: 0.8625 - val_loss: 0.3330\n",
            "Epoch 33/1000\n",
            "\u001b[1m1000/1000\u001b[0m \u001b[32m━━━━━━━━━━━━━━━━━━━━\u001b[0m\u001b[37m\u001b[0m \u001b[1m11s\u001b[0m 6ms/step - accuracy: 0.8637 - loss: 0.3390 - val_accuracy: 0.8499 - val_loss: 0.3575\n",
            "Epoch 34/1000\n",
            "\u001b[1m1000/1000\u001b[0m \u001b[32m━━━━━━━━━━━━━━━━━━━━\u001b[0m\u001b[37m\u001b[0m \u001b[1m9s\u001b[0m 5ms/step - accuracy: 0.8588 - loss: 0.3477 - val_accuracy: 0.8679 - val_loss: 0.3263\n",
            "Epoch 35/1000\n",
            "\u001b[1m1000/1000\u001b[0m \u001b[32m━━━━━━━━━━━━━━━━━━━━\u001b[0m\u001b[37m\u001b[0m \u001b[1m6s\u001b[0m 6ms/step - accuracy: 0.8594 - loss: 0.3440 - val_accuracy: 0.8587 - val_loss: 0.3383\n",
            "Epoch 36/1000\n",
            "\u001b[1m1000/1000\u001b[0m \u001b[32m━━━━━━━━━━━━━━━━━━━━\u001b[0m\u001b[37m\u001b[0m \u001b[1m9s\u001b[0m 5ms/step - accuracy: 0.8560 - loss: 0.3457 - val_accuracy: 0.8646 - val_loss: 0.3332\n",
            "Epoch 37/1000\n",
            "\u001b[1m1000/1000\u001b[0m \u001b[32m━━━━━━━━━━━━━━━━━━━━\u001b[0m\u001b[37m\u001b[0m \u001b[1m10s\u001b[0m 5ms/step - accuracy: 0.8585 - loss: 0.3452 - val_accuracy: 0.8666 - val_loss: 0.3288\n",
            "Epoch 38/1000\n",
            "\u001b[1m1000/1000\u001b[0m \u001b[32m━━━━━━━━━━━━━━━━━━━━\u001b[0m\u001b[37m\u001b[0m \u001b[1m6s\u001b[0m 6ms/step - accuracy: 0.8607 - loss: 0.3460 - val_accuracy: 0.8652 - val_loss: 0.3289\n",
            "Epoch 39/1000\n",
            "\u001b[1m1000/1000\u001b[0m \u001b[32m━━━━━━━━━━━━━━━━━━━━\u001b[0m\u001b[37m\u001b[0m \u001b[1m9s\u001b[0m 5ms/step - accuracy: 0.8592 - loss: 0.3436 - val_accuracy: 0.8621 - val_loss: 0.3340\n",
            "Epoch 40/1000\n",
            "\u001b[1m1000/1000\u001b[0m \u001b[32m━━━━━━━━━━━━━━━━━━━━\u001b[0m\u001b[37m\u001b[0m \u001b[1m6s\u001b[0m 6ms/step - accuracy: 0.8586 - loss: 0.3399 - val_accuracy: 0.8639 - val_loss: 0.3376\n",
            "Epoch 41/1000\n",
            "\u001b[1m1000/1000\u001b[0m \u001b[32m━━━━━━━━━━━━━━━━━━━━\u001b[0m\u001b[37m\u001b[0m \u001b[1m10s\u001b[0m 6ms/step - accuracy: 0.8593 - loss: 0.3453 - val_accuracy: 0.8587 - val_loss: 0.3406\n",
            "Epoch 42/1000\n",
            "\u001b[1m1000/1000\u001b[0m \u001b[32m━━━━━━━━━━━━━━━━━━━━\u001b[0m\u001b[37m\u001b[0m \u001b[1m5s\u001b[0m 5ms/step - accuracy: 0.8578 - loss: 0.3509 - val_accuracy: 0.8652 - val_loss: 0.3299\n",
            "Epoch 43/1000\n",
            "\u001b[1m1000/1000\u001b[0m \u001b[32m━━━━━━━━━━━━━━━━━━━━\u001b[0m\u001b[37m\u001b[0m \u001b[1m5s\u001b[0m 5ms/step - accuracy: 0.8577 - loss: 0.3463 - val_accuracy: 0.8584 - val_loss: 0.3375\n",
            "Epoch 44/1000\n",
            "\u001b[1m1000/1000\u001b[0m \u001b[32m━━━━━━━━━━━━━━━━━━━━\u001b[0m\u001b[37m\u001b[0m \u001b[1m6s\u001b[0m 6ms/step - accuracy: 0.8633 - loss: 0.3382 - val_accuracy: 0.8420 - val_loss: 0.3681\n",
            "Epoch 45/1000\n",
            "\u001b[1m1000/1000\u001b[0m \u001b[32m━━━━━━━━━━━━━━━━━━━━\u001b[0m\u001b[37m\u001b[0m \u001b[1m5s\u001b[0m 5ms/step - accuracy: 0.8569 - loss: 0.3482 - val_accuracy: 0.8671 - val_loss: 0.3301\n",
            "Epoch 46/1000\n",
            "\u001b[1m1000/1000\u001b[0m \u001b[32m━━━━━━━━━━━━━━━━━━━━\u001b[0m\u001b[37m\u001b[0m \u001b[1m7s\u001b[0m 6ms/step - accuracy: 0.8582 - loss: 0.3472 - val_accuracy: 0.8660 - val_loss: 0.3293\n",
            "Epoch 47/1000\n",
            "\u001b[1m1000/1000\u001b[0m \u001b[32m━━━━━━━━━━━━━━━━━━━━\u001b[0m\u001b[37m\u001b[0m \u001b[1m5s\u001b[0m 5ms/step - accuracy: 0.8604 - loss: 0.3446 - val_accuracy: 0.8606 - val_loss: 0.3388\n",
            "Epoch 48/1000\n",
            "\u001b[1m1000/1000\u001b[0m \u001b[32m━━━━━━━━━━━━━━━━━━━━\u001b[0m\u001b[37m\u001b[0m \u001b[1m5s\u001b[0m 5ms/step - accuracy: 0.8593 - loss: 0.3443 - val_accuracy: 0.8593 - val_loss: 0.3384\n",
            "Epoch 49/1000\n",
            "\u001b[1m1000/1000\u001b[0m \u001b[32m━━━━━━━━━━━━━━━━━━━━\u001b[0m\u001b[37m\u001b[0m \u001b[1m6s\u001b[0m 6ms/step - accuracy: 0.8595 - loss: 0.3452 - val_accuracy: 0.8658 - val_loss: 0.3267\n",
            "Epoch 50/1000\n",
            "\u001b[1m1000/1000\u001b[0m \u001b[32m━━━━━━━━━━━━━━━━━━━━\u001b[0m\u001b[37m\u001b[0m \u001b[1m11s\u001b[0m 6ms/step - accuracy: 0.8552 - loss: 0.3453 - val_accuracy: 0.8566 - val_loss: 0.3386\n",
            "Epoch 51/1000\n",
            "\u001b[1m1000/1000\u001b[0m \u001b[32m━━━━━━━━━━━━━━━━━━━━\u001b[0m\u001b[37m\u001b[0m \u001b[1m5s\u001b[0m 5ms/step - accuracy: 0.8612 - loss: 0.3428 - val_accuracy: 0.8610 - val_loss: 0.3379\n",
            "Epoch 52/1000\n",
            "\u001b[1m1000/1000\u001b[0m \u001b[32m━━━━━━━━━━━━━━━━━━━━\u001b[0m\u001b[37m\u001b[0m \u001b[1m5s\u001b[0m 5ms/step - accuracy: 0.8563 - loss: 0.3500 - val_accuracy: 0.8539 - val_loss: 0.3440\n",
            "Epoch 53/1000\n",
            "\u001b[1m1000/1000\u001b[0m \u001b[32m━━━━━━━━━━━━━━━━━━━━\u001b[0m\u001b[37m\u001b[0m \u001b[1m10s\u001b[0m 5ms/step - accuracy: 0.8581 - loss: 0.3453 - val_accuracy: 0.8629 - val_loss: 0.3337\n",
            "Epoch 54/1000\n",
            "\u001b[1m1000/1000\u001b[0m \u001b[32m━━━━━━━━━━━━━━━━━━━━\u001b[0m\u001b[37m\u001b[0m \u001b[1m6s\u001b[0m 6ms/step - accuracy: 0.8599 - loss: 0.3450 - val_accuracy: 0.8651 - val_loss: 0.3360\n",
            "Epoch 54: early stopping\n"
          ]
        }
      ],
      "source": [
        "# Training the model\n",
        "\n",
        "model_lstm = model.fit(x_train_new, y_train, epochs= 1000, batch_size=32, validation_split=0.2, callbacks= early_stopping)\n"
      ]
    },
    {
      "cell_type": "code",
      "execution_count": null,
      "id": "HE_0yyhvBK0O",
      "metadata": {
        "id": "HE_0yyhvBK0O",
        "colab": {
          "base_uri": "https://localhost:8080/"
        },
        "outputId": "7da095d7-1b43-4062-bf1f-a9b63fc5a740"
      },
      "outputs": [
        {
          "output_type": "execute_result",
          "data": {
            "text/plain": [
              "dict_keys(['accuracy', 'loss', 'val_accuracy', 'val_loss'])"
            ]
          },
          "metadata": {},
          "execution_count": 44
        }
      ],
      "source": [
        "model_lstm.history.keys()"
      ]
    },
    {
      "cell_type": "code",
      "execution_count": null,
      "id": "Y9Viey84Fiq6",
      "metadata": {
        "id": "Y9Viey84Fiq6",
        "colab": {
          "base_uri": "https://localhost:8080/"
        },
        "outputId": "d88739f6-6299-4bc3-d4b3-15551a01462f"
      },
      "outputs": [
        {
          "output_type": "stream",
          "name": "stderr",
          "text": [
            "100%|██████████| 10000/10000 [01:33<00:00, 106.49it/s]\n"
          ]
        },
        {
          "output_type": "execute_result",
          "data": {
            "text/plain": [
              "array([[[ 0.00102467, -0.06026659,  0.053477  , ...,  0.01009761,\n",
              "          0.03741162, -0.25951934]],\n",
              "\n",
              "       [[ 0.1514381 ,  0.1689404 ,  0.00445862, ...,  0.06814071,\n",
              "          0.03083657, -0.2925622 ]],\n",
              "\n",
              "       [[ 0.12821864, -0.01698362, -0.12321559, ...,  0.24279091,\n",
              "         -0.16904618, -0.45118427]],\n",
              "\n",
              "       ...,\n",
              "\n",
              "       [[ 0.21050651,  0.07546856, -0.05874044, ...,  0.14073895,\n",
              "         -0.08912188, -0.32418674]],\n",
              "\n",
              "       [[ 0.3316544 , -0.04805043, -0.07938778, ...,  0.28076804,\n",
              "         -0.18214272, -0.28224155]],\n",
              "\n",
              "       [[ 0.17771815, -0.07124047, -0.1558065 , ...,  0.18217312,\n",
              "         -0.52205336, -0.5345968 ]]], dtype=float32)"
            ]
          },
          "metadata": {},
          "execution_count": 45
        }
      ],
      "source": [
        "x_test_new = data_prep(x_test)\n",
        "x_test_new"
      ]
    },
    {
      "cell_type": "code",
      "execution_count": null,
      "id": "HOOY3MyXqh5F",
      "metadata": {
        "id": "HOOY3MyXqh5F",
        "colab": {
          "base_uri": "https://localhost:8080/"
        },
        "outputId": "9f330ad8-4a1a-42ad-a608-069726651299"
      },
      "outputs": [
        {
          "output_type": "stream",
          "name": "stdout",
          "text": [
            "\u001b[1m313/313\u001b[0m \u001b[32m━━━━━━━━━━━━━━━━━━━━\u001b[0m\u001b[37m\u001b[0m \u001b[1m1s\u001b[0m 2ms/step - accuracy: 0.8603 - loss: 0.3381\n"
          ]
        },
        {
          "output_type": "execute_result",
          "data": {
            "text/plain": [
              "[0.3401641249656677, 0.861299991607666]"
            ]
          },
          "metadata": {},
          "execution_count": 46
        }
      ],
      "source": [
        "# model evaluation\n",
        "model.evaluate(x_test_new, y_test)"
      ]
    },
    {
      "cell_type": "code",
      "execution_count": null,
      "id": "wUMEwzyAE6wQ",
      "metadata": {
        "id": "wUMEwzyAE6wQ",
        "colab": {
          "base_uri": "https://localhost:8080/"
        },
        "outputId": "83c55dfe-bc2d-4190-8564-37e565e3335e"
      },
      "outputs": [
        {
          "output_type": "stream",
          "name": "stdout",
          "text": [
            "\u001b[1m313/313\u001b[0m \u001b[32m━━━━━━━━━━━━━━━━━━━━\u001b[0m\u001b[37m\u001b[0m \u001b[1m1s\u001b[0m 2ms/step\n"
          ]
        },
        {
          "output_type": "execute_result",
          "data": {
            "text/plain": [
              "array([[0.06709533],\n",
              "       [0.9085361 ],\n",
              "       [0.0588253 ],\n",
              "       ...,\n",
              "       [0.70465416],\n",
              "       [0.05951207],\n",
              "       [0.69237113]], dtype=float32)"
            ]
          },
          "metadata": {},
          "execution_count": 47
        }
      ],
      "source": [
        "# model prediction in terms of probability\n",
        "\n",
        "y_prob = model.predict(x_test_new)\n",
        "y_prob"
      ]
    },
    {
      "cell_type": "code",
      "execution_count": null,
      "id": "OJxjL3IUMqHd",
      "metadata": {
        "id": "OJxjL3IUMqHd",
        "colab": {
          "base_uri": "https://localhost:8080/",
          "height": 542
        },
        "outputId": "49fa9f95-8528-45af-dfb9-b83876bd3505"
      },
      "outputs": [
        {
          "output_type": "display_data",
          "data": {
            "text/html": [
              "<html>\n",
              "<head><meta charset=\"utf-8\" /></head>\n",
              "<body>\n",
              "    <div>            <script src=\"https://cdnjs.cloudflare.com/ajax/libs/mathjax/2.7.5/MathJax.js?config=TeX-AMS-MML_SVG\"></script><script type=\"text/javascript\">if (window.MathJax && window.MathJax.Hub && window.MathJax.Hub.Config) {window.MathJax.Hub.Config({SVG: {font: \"STIX-Web\"}});}</script>                <script type=\"text/javascript\">window.PlotlyConfig = {MathJaxConfig: 'local'};</script>\n",
              "        <script charset=\"utf-8\" src=\"https://cdn.plot.ly/plotly-2.24.1.min.js\"></script>                <div id=\"358978ca-af6e-4a8f-822c-2c2d69f2f609\" class=\"plotly-graph-div\" style=\"height:525px; width:100%;\"></div>            <script type=\"text/javascript\">                                    window.PLOTLYENV=window.PLOTLYENV || {};                                    if (document.getElementById(\"358978ca-af6e-4a8f-822c-2c2d69f2f609\")) {                    Plotly.newPlot(                        \"358978ca-af6e-4a8f-822c-2c2d69f2f609\",                        [{\"mode\":\"lines\",\"name\":\"ROC curve (area = 0.94)\",\"x\":[0.0,0.0,0.0,0.0,0.0,0.0,0.0,0.00020157226365652087,0.00020157226365652087,0.00020157226365652087,0.00020157226365652087,0.0006047167909695626,0.0006047167909695626,0.0008062890546260835,0.0008062890546260835,0.0010078613182826044,0.0010078613182826044,0.0012094335819391251,0.0012094335819391251,0.001612578109252167,0.001612578109252167,0.0018141503729086877,0.0018141503729086877,0.0018141503729086877,0.0018141503729086877,0.0018141503729086877,0.0020157226365652087,0.0020157226365652087,0.0022172949002217295,0.0022172949002217295,0.0022172949002217295,0.0022172949002217295,0.0024188671638782503,0.0024188671638782503,0.002620439427534771,0.002620439427534771,0.0028220116911912923,0.0028220116911912923,0.003023583954847813,0.003023583954847813,0.003225156218504334,0.003225156218504334,0.0034267284821608546,0.0034267284821608546,0.0036283007458173754,0.0036283007458173754,0.003829873009473896,0.003829873009473896,0.004031445273130417,0.004031445273130417,0.004233017536786938,0.004233017536786938,0.004434589800443459,0.004434589800443459,0.00463616206409998,0.00463616206409998,0.0048377343277565005,0.0048377343277565005,0.005039306591413021,0.005039306591413021,0.005240878855069542,0.005240878855069542,0.0056440233823825845,0.0056440233823825845,0.005845595646039105,0.005845595646039105,0.006047167909695626,0.006047167909695626,0.006248740173352147,0.006248740173352147,0.006450312437008668,0.006450312437008668,0.006853456964321709,0.006853456964321709,0.00705502922797823,0.00705502922797823,0.007256601491634751,0.007256601491634751,0.007458173755291272,0.007458173755291272,0.007659746018947792,0.007659746018947792,0.007861318282604314,0.007861318282604314,0.008062890546260835,0.008062890546260835,0.008264462809917356,0.008264462809917356,0.008264462809917356,0.008264462809917356,0.008466035073573876,0.008466035073573876,0.008869179600886918,0.008869179600886918,0.009070751864543439,0.009070751864543439,0.00927232412819996,0.00927232412819996,0.009675468655513001,0.009675468655513001,0.009877040919169522,0.009877040919169522,0.010078613182826043,0.010078613182826043,0.010280185446482563,0.010280185446482563,0.010481757710139084,0.010481757710139084,0.010683329973795605,0.010683329973795605,0.010884902237452126,0.010884902237452126,0.011086474501108648,0.011086474501108648,0.011288046764765169,0.011288046764765169,0.01148961902842169,0.01148961902842169,0.01169119129207821,0.01169119129207821,0.011892763555734731,0.011892763555734731,0.012094335819391252,0.012094335819391252,0.012295908083047773,0.012295908083047773,0.012497480346704294,0.012497480346704294,0.012699052610360815,0.012699052610360815,0.013102197137673856,0.013102197137673856,0.013303769401330377,0.013303769401330377,0.013505341664986898,0.013505341664986898,0.013706913928643418,0.013706913928643418,0.01390848619229994,0.01390848619229994,0.01411005845595646,0.01411005845595646,0.01431163071961298,0.01431163071961298,0.014513202983269502,0.014513202983269502,0.014714775246926022,0.014714775246926022,0.014916347510582543,0.014916347510582543,0.015117919774239064,0.015117919774239064,0.015319492037895585,0.015319492037895585,0.015521064301552107,0.015521064301552107,0.015722636565208628,0.015722636565208628,0.01592420882886515,0.01592420882886515,0.01612578109252167,0.01612578109252167,0.01652892561983471,0.01652892561983471,0.016730497883491232,0.016730497883491232,0.016932070147147753,0.016932070147147753,0.017133642410804274,0.017133642410804274,0.017335214674460794,0.017335214674460794,0.017536786938117315,0.017536786938117315,0.017738359201773836,0.017738359201773836,0.017939931465430357,0.017939931465430357,0.018141503729086877,0.018141503729086877,0.01854464825639992,0.01854464825639992,0.01874622052005644,0.01874622052005644,0.01894779278371296,0.01894779278371296,0.01914936504736948,0.01914936504736948,0.019350937311026002,0.019350937311026002,0.019552509574682523,0.019552509574682523,0.019754081838339044,0.019754081838339044,0.019955654101995565,0.019955654101995565,0.020157226365652085,0.020157226365652085,0.020358798629308606,0.020358798629308606,0.020560370892965127,0.020560370892965127,0.020761943156621648,0.020761943156621648,0.02096351542027817,0.02096351542027817,0.02116508768393469,0.02116508768393469,0.02136665994759121,0.02136665994759121,0.02156823221124773,0.02156823221124773,0.021971376738560772,0.021971376738560772,0.022172949002217297,0.022172949002217297,0.022374521265873817,0.022374521265873817,0.022576093529530338,0.022576093529530338,0.022576093529530338,0.022576093529530338,0.02277766579318686,0.02277766579318686,0.02297923805684338,0.02297923805684338,0.0231808103204999,0.0231808103204999,0.02338238258415642,0.02338238258415642,0.023583954847812942,0.023583954847812942,0.023785527111469463,0.023785527111469463,0.023987099375125984,0.023987099375125984,0.024390243902439025,0.024390243902439025,0.024591816166095546,0.024591816166095546,0.024793388429752067,0.024793388429752067,0.024994960693408588,0.024994960693408588,0.02519653295706511,0.02519653295706511,0.02539810522072163,0.02539810522072163,0.02559967748437815,0.02559967748437815,0.02580124974803467,0.02580124974803467,0.026204394275347712,0.026204394275347712,0.026405966539004233,0.026405966539004233,0.026809111066317275,0.026809111066317275,0.027010683329973795,0.027010683329973795,0.027212255593630316,0.027212255593630316,0.027413827857286837,0.027413827857286837,0.0280185446482564,0.0280185446482564,0.02822011691191292,0.02822011691191292,0.02842168917556944,0.02842168917556944,0.02862326143922596,0.02862326143922596,0.028824833702882482,0.028824833702882482,0.029026405966539003,0.029026405966539003,0.029227978230195524,0.029227978230195524,0.029429550493852045,0.029429550493852045,0.029631122757508566,0.029631122757508566,0.029832695021165086,0.029832695021165086,0.030034267284821607,0.030034267284821607,0.03043741181213465,0.03043741181213465,0.03063898407579117,0.03063898407579117,0.03084055633944769,0.03084055633944769,0.031042128603104215,0.031042128603104215,0.031243700866760735,0.031243700866760735,0.031445273130417256,0.031445273130417256,0.03164684539407377,0.03164684539407377,0.0318484176577303,0.0318484176577303,0.032049989921386815,0.032049989921386815,0.03225156218504334,0.03225156218504334,0.03245313444869986,0.03245313444869986,0.03265470671235638,0.03265470671235638,0.0328562789760129,0.0328562789760129,0.03305785123966942,0.03305785123966942,0.03325942350332594,0.03325942350332594,0.033460995766982464,0.033460995766982464,0.03366256803063898,0.03366256803063898,0.033864140294295506,0.033864140294295506,0.03406571255795202,0.03406571255795202,0.03426728482160855,0.03426728482160855,0.034468857085265064,0.034468857085265064,0.03467042934892159,0.03467042934892159,0.034872001612578106,0.034872001612578106,0.03507357387623463,0.03507357387623463,0.03527514613989115,0.03527514613989115,0.035678290667204196,0.035678290667204196,0.03587986293086071,0.03587986293086071,0.03608143519451724,0.03608143519451724,0.03648457972183028,0.03648457972183028,0.036686151985486797,0.036686151985486797,0.03688772424914332,0.03688772424914332,0.03708929651279984,0.03708929651279984,0.03729086877645636,0.03729086877645636,0.03749244104011288,0.03749244104011288,0.037694013303769404,0.037694013303769404,0.03789558556742592,0.03789558556742592,0.03829873009473896,0.03829873009473896,0.03850030235839549,0.03850030235839549,0.038701874622052004,0.038701874622052004,0.03890344688570853,0.03890344688570853,0.039105019149365046,0.039105019149365046,0.03930659141302157,0.03930659141302157,0.03950816367667809,0.03950816367667809,0.03991130820399113,0.03991130820399113,0.04011288046764765,0.04011288046764765,0.04031445273130417,0.04031445273130417,0.040516024994960695,0.040516024994960695,0.040919169522273736,0.040919169522273736,0.041120741785930254,0.041120741785930254,0.04132231404958678,0.04132231404958678,0.041523886313243295,0.041523886313243295,0.04172545857689982,0.04172545857689982,0.04192703084055634,0.04192703084055634,0.04212860310421286,0.04212860310421286,0.04233017536786938,0.04233017536786938,0.0425317476315259,0.0425317476315259,0.04273331989518242,0.04273331989518242,0.042934892158838944,0.042934892158838944,0.04313646442249546,0.04313646442249546,0.043338036686151986,0.043338036686151986,0.04374118121346503,0.04374118121346503,0.043942753477121545,0.043942753477121545,0.04414432574077807,0.04414432574077807,0.04434589800443459,0.04434589800443459,0.044749042531747635,0.044749042531747635,0.04495061479540415,0.04495061479540415,0.04495061479540415,0.04495061479540415,0.045152187059060676,0.045152187059060676,0.04595847611368676,0.04595847611368676,0.04616004837734328,0.04616004837734328,0.0463616206409998,0.0463616206409998,0.04656319290465632,0.04656319290465632,0.04676476516831284,0.04676476516831284,0.04696633743196936,0.04696633743196936,0.0473694819592824,0.0473694819592824,0.047571054222938926,0.047571054222938926,0.04777262648659544,0.04777262648659544,0.048175771013908485,0.048175771013908485,0.04837734327756501,0.04837734327756501,0.048578915541221526,0.048578915541221526,0.048578915541221526,0.048578915541221526,0.04878048780487805,0.04878048780487805,0.04898206006853457,0.04898206006853457,0.04918363233219109,0.04918363233219109,0.04938520459584761,0.04938520459584761,0.049586776859504134,0.049586776859504134,0.04978834912316065,0.04978834912316065,0.049989921386817175,0.049989921386817175,0.05039306591413022,0.05039306591413022,0.050594638177786734,0.050594638177786734,0.05079621044144326,0.05079621044144326,0.050997782705099776,0.050997782705099776,0.05160249949606934,0.05160249949606934,0.05180407175972586,0.05180407175972586,0.05200564402338238,0.05200564402338238,0.0522072162870389,0.0522072162870389,0.05261036081435194,0.05261036081435194,0.052811933078008466,0.052811933078008466,0.05301350534166498,0.05301350534166498,0.05321507760532151,0.05321507760532151,0.05341664986897803,0.05341664986897803,0.05361822213263455,0.05361822213263455,0.053819794396291074,0.053819794396291074,0.05402136665994759,0.05402136665994759,0.054222938923604115,0.054222938923604115,0.05442451118726063,0.05442451118726063,0.0550292279782302,0.0550292279782302,0.055230800241886716,0.055230800241886716,0.05543237250554324,0.05543237250554324,0.05563394476919976,0.05563394476919976,0.05623866156016932,0.05623866156016932,0.05644023382382584,0.05644023382382584,0.056641806087482365,0.056641806087482365,0.057044950614795406,0.05724652287845192,0.05724652287845192,0.05744809514210845,0.05744809514210845,0.057649667405764965,0.057649667405764965,0.058052811933078007,0.058052811933078007,0.05825438419673453,0.05825438419673453,0.05845595646039105,0.05845595646039105,0.05865752872404757,0.05865752872404757,0.05926224551501713,0.05926224551501713,0.05966539004233017,0.05966539004233017,0.0598669623059867,0.0598669623059867,0.060068534569643214,0.060068534569643214,0.06027010683329974,0.06027010683329974,0.060471679096956256,0.060471679096956256,0.06067325136061278,0.06067325136061278,0.0608748236242693,0.0608748236242693,0.06107639588792582,0.06107639588792582,0.06127796815158234,0.06127796815158234,0.06147954041523886,0.06147954041523886,0.06168111267889538,0.06168111267889538,0.061882684942551905,0.061882684942551905,0.06208425720620843,0.06208425720620843,0.062285829469864946,0.062285829469864946,0.06248740173352147,0.06248740173352147,0.06268897399717799,0.06268897399717799,0.06289054626083451,0.06289054626083451,0.06309211852449104,0.06309211852449104,0.06329369078814755,0.06329369078814755,0.06349526305180407,0.06349526305180407,0.0636968353154606,0.0636968353154606,0.06389840757911712,0.06389840757911712,0.06409997984277363,0.06409997984277363,0.06430155210643015,0.06430155210643015,0.06490626889739971,0.06490626889739971,0.06510784116105624,0.06510784116105624,0.06530941342471276,0.06530941342471276,0.06551098568836929,0.06551098568836929,0.06611570247933884,0.06611570247933884,0.06631727474299537,0.06631727474299537,0.06651884700665188,0.06651884700665188,0.06692199153396493,0.06692199153396493,0.06712356379762145,0.06712356379762145,0.06732513606127796,0.06732513606127796,0.06772828058859101,0.06772828058859101,0.06792985285224754,0.06792985285224754,0.06813142511590405,0.06813142511590405,0.06833299737956057,0.06833299737956057,0.0685345696432171,0.0685345696432171,0.06873614190687362,0.06873614190687362,0.06913928643418665,0.06913928643418665,0.06934085869784318,0.06934085869784318,0.06974400322515621,0.06974400322515621,0.06994557548881274,0.06994557548881274,0.07034872001612578,0.07034872001612578,0.0705502922797823,0.0705502922797823,0.07075186454343882,0.07075186454343882,0.07115500907075187,0.07115500907075187,0.07135658133440839,0.07135658133440839,0.0715581535980649,0.0715581535980649,0.07175972586172143,0.07175972586172143,0.07196129812537795,0.07196129812537795,0.07236444265269099,0.07236444265269099,0.07276758718000403,0.07276758718000403,0.07296915944366056,0.07296915944366056,0.07317073170731707,0.07317073170731707,0.07337230397097359,0.07337230397097359,0.07357387623463012,0.07397702076194315,0.07417859302559968,0.07417859302559968,0.0743801652892562,0.0743801652892562,0.07458173755291272,0.07458173755291272,0.07478330981656924,0.07478330981656924,0.07498488208022576,0.07498488208022576,0.07518645434388228,0.07518645434388228,0.07579117113485184,0.07579117113485184,0.07599274339850837,0.07599274339850837,0.07619431566216489,0.07619431566216489,0.0763958879258214,0.0763958879258214,0.07679903245313445,0.07679903245313445,0.07700060471679097,0.07700060471679097,0.07720217698044748,0.07720217698044748,0.07760532150776053,0.07760532150776053,0.07800846603507357,0.07800846603507357,0.07821003829873009,0.07821003829873009,0.07841161056238662,0.07841161056238662,0.07861318282604314,0.07861318282604314,0.0792178996170127,0.0792178996170127,0.07962104414432573,0.07962104414432573,0.07982261640798226,0.07982261640798226,0.08002418867163878,0.08002418867163878,0.0802257609352953,0.0802257609352953,0.08062890546260834,0.08062890546260834,0.08083047772626487,0.08083047772626487,0.08103204998992139,0.08103204998992139,0.08123362225357791,0.08123362225357791,0.08163676678089095,0.08163676678089095,0.08183833904454747,0.08183833904454747,0.082039911308204,0.082039911308204,0.08224148357186051,0.08224148357186051,0.08264462809917356,0.08264462809917356,0.08284620036283008,0.08284620036283008,0.08324934489014311,0.08324934489014311,0.08345091715379964,0.08345091715379964,0.08365248941745616,0.08365248941745616,0.08385406168111267,0.08385406168111267,0.08425720620842572,0.08425720620842572,0.08445877847208225,0.08445877847208225,0.08466035073573876,0.08466035073573876,0.08546663979036484,0.08546663979036484,0.08566821205402136,0.08566821205402136,0.08586978431767789,0.08586978431767789,0.08607135658133441,0.08607135658133441,0.08647450110864745,0.08647450110864745,0.08667607337230397,0.08667607337230397,0.087079217899617,0.087079217899617,0.08728079016327353,0.08728079016327353,0.08748236242693005,0.08748236242693005,0.08788550695424309,0.08788550695424309,0.08828865148155614,0.08828865148155614,0.08849022374521266,0.08849022374521266,0.08869179600886919,0.08869179600886919,0.08909494053618222,0.08909494053618222,0.08929651279983875,0.08929651279983875,0.0899012295908083,0.0899012295908083,0.09030437411812135,0.09030437411812135,0.09050594638177786,0.09050594638177786,0.09070751864543439,0.09070751864543439,0.09090909090909091,0.09090909090909091,0.09111066317274744,0.09111066317274744,0.09131223543640395,0.09131223543640395,0.091715379963717,0.091715379963717,0.09211852449103003,0.09211852449103003,0.09232009675468655,0.09232009675468655,0.09252166901834308,0.09252166901834308,0.0927232412819996,0.0927232412819996,0.09312638580931264,0.09312638580931264,0.09332795807296916,0.09332795807296916,0.0937311026002822,0.0937311026002822,0.09393267486393872,0.09393267486393872,0.09413424712759524,0.09413424712759524,0.09433581939125177,0.09433581939125177,0.09453739165490828,0.09453739165490828,0.0947389639185648,0.0947389639185648,0.09574682523684741,0.09574682523684741,0.09594839750050393,0.09594839750050393,0.09635154202781697,0.09635154202781697,0.09675468655513002,0.09675468655513002,0.09715783108244305,0.09715783108244305,0.09735940334609958,0.09735940334609958,0.0975609756097561,0.0975609756097561,0.09816569240072566,0.09816569240072566,0.09836726466438218,0.09836726466438218,0.09897198145535174,0.09897198145535174,0.09937512598266479,0.09937512598266479,0.09977827050997783,0.09977827050997783,0.09997984277363435,0.09997984277363435,0.10018141503729087,0.10018141503729087,0.10038298730094738,0.10038298730094738,0.10078613182826043,0.10078613182826043,0.10098770409191696,0.10098770409191696,0.10139084861922999,0.10139084861922999,0.10159242088288652,0.10159242088288652,0.10199556541019955,0.10199556541019955,0.10219713767385608,0.10219713767385608,0.1023987099375126,0.1023987099375126,0.10260028220116912,0.10260028220116912,0.10300342672848216,0.10300342672848216,0.10320499899213868,0.10320499899213868,0.10340657125579521,0.10340657125579521,0.10380971578310824,0.10380971578310824,0.1044144325740778,0.1044144325740778,0.10501914936504737,0.10501914936504737,0.10522072162870388,0.10522072162870388,0.10542229389236041,0.10542229389236041,0.10582543841967346,0.10582543841967346,0.10643015521064302,0.10643015521064302,0.10683329973795606,0.10683329973795606,0.10763958879258215,0.10763958879258215,0.10804273331989518,0.10804273331989518,0.10844587784720823,0.10844587784720823,0.10905059463817779,0.10905059463817779,0.1100584559564604,0.1100584559564604,0.1102600282201169,0.1102600282201169,0.11046160048377343,0.11046160048377343,0.11126788953839951,0.11126788953839951,0.11146946180205604,0.11146946180205604,0.11167103406571256,0.11167103406571256,0.11187260632936907,0.11187260632936907,0.11227575085668212,0.11227575085668212,0.11247732312033865,0.11247732312033865,0.11267889538399516,0.11267889538399516,0.11288046764765168,0.11288046764765168,0.1130820399113082,0.1130820399113082,0.11328361217496473,0.11328361217496473,0.11368675670227776,0.11368675670227776,0.11388832896593429,0.11388832896593429,0.11408990122959081,0.11408990122959081,0.11449304575690385,0.11449304575690385,0.11469461802056037,0.11469461802056037,0.11570247933884298,0.11570247933884298,0.11630719612981254,0.11630719612981254,0.11650876839346906,0.11650876839346906,0.11731505744809514,0.11731505744809514,0.11751662971175167,0.11751662971175167,0.11832291876637775,0.11832291876637775,0.11872606329369079,0.11872606329369079,0.11892763555734731,0.11892763555734731,0.11912920782100384,0.11912920782100384,0.11933078008466035,0.11933078008466035,0.11953235234831687,0.11953235234831687,0.1197339246119734,0.1197339246119734,0.11993549687562992,0.11993549687562992,0.12013706913928643,0.12013706913928643,0.12054021366659948,0.12054021366659948,0.120741785930256,0.120741785930256,0.12094335819391251,0.12094335819391251,0.12114493045756904,0.12114493045756904,0.12235436403950817,0.12235436403950817,0.12255593630316468,0.12255593630316468,0.12316065309413425,0.12316065309413425,0.12356379762144729,0.12356379762144729,0.12376536988510381,0.12376536988510381,0.12396694214876033,0.12396694214876033,0.12416851441241686,0.12416851441241686,0.12437008667607337,0.12437008667607337,0.12477323120338642,0.12477323120338642,0.12517637573069945,0.12517637573069945,0.12537794799435598,0.12537794799435598,0.1255795202580125,0.1255795202580125,0.12699052610360814,0.12699052610360814,0.1273936706309212,0.1273936706309212,0.12779681515823424,0.12779681515823424,0.12799838742189074,0.12799838742189074,0.12900624874017336,0.12900624874017336,0.12920782100382988,0.12920782100382988,0.1296109655311429,0.1296109655311429,0.13001411005845595,0.13001411005845595,0.130417254585769,0.130417254585769,0.13122354364039507,0.13122354364039507,0.13182826043136464,0.13182826043136464,0.13202983269502117,0.13202983269502117,0.1322314049586777,0.1322314049586777,0.1324329772223342,0.1324329772223342,0.13263454948599074,0.13263454948599074,0.13283612174964726,0.13283612174964726,0.13323926627696028,0.13323926627696028,0.1334408385406168,0.1334408385406168,0.13444869985889943,0.13444869985889943,0.13485184438621245,0.13485184438621245,0.1352549889135255,0.1352549889135255,0.13545656117718202,0.13545656117718202,0.13565813344083855,0.13565813344083855,0.13585970570449507,0.13585970570449507,0.13646442249546462,0.13646442249546462,0.13666599475912114,0.13666599475912114,0.13747228381374724,0.13747228381374724,0.13767385607740376,0.13767385607740376,0.13787542834106026,0.13787542834106026,0.1382785728683733,0.1382785728683733,0.13848014513202983,0.13848014513202983,0.13868171739568635,0.13868171739568635,0.13888328965934288,0.13888328965934288,0.13928643418665593,0.13928643418665593,0.13989115097762547,0.13989115097762547,0.140092723241282,0.140092723241282,0.14029429550493852,0.14029429550493852,0.14049586776859505,0.14049586776859505,0.14069744003225157,0.14069744003225157,0.1411005845595646,0.1411005845595646,0.14150372908687764,0.14150372908687764,0.1419068736141907,0.1419068736141907,0.14251159040516026,0.14251159040516026,0.1439225962507559,0.1439225962507559,0.14412416851441243,0.14412416851441243,0.14432574077806895,0.14432574077806895,0.14533360209635154,0.14533360209635154,0.14553517436000807,0.14553517436000807,0.14593831888732112,0.14593831888732112,0.1461398911509776,0.1461398911509776,0.14654303567829066,0.14654303567829066,0.14674460794194719,0.14674460794194719,0.14734932473291676,0.14734932473291676,0.14755089699657328,0.14755089699657328,0.1479540415238863,0.1479540415238863,0.14835718605119935,0.14835718605119935,0.14936504736948195,0.14936504736948195,0.149768191896795,0.149768191896795,0.14996976416045152,0.14996976416045152,0.15037290868776457,0.15037290868776457,0.1505744809514211,0.1505744809514211,0.15158234226970368,0.15158234226970368,0.15198548679701673,0.15198548679701673,0.15218705906067326,0.15218705906067326,0.15238863132432978,0.15238863132432978,0.1527917758516428,0.1527917758516428,0.15339649264261238,0.15339649264261238,0.1535980649062689,0.1535980649062689,0.15400120943358195,0.15400120943358195,0.15420278169723847,0.15420278169723847,0.15500907075186454,0.15500907075186454,0.15642007659746018,0.15642007659746018,0.1566216488611167,0.1566216488611167,0.15682322112477323,0.15682322112477323,0.15702479338842976,0.15702479338842976,0.15783108244305583,0.15783108244305583,0.15863737149768192,0.15863737149768192,0.15904051602499497,0.15904051602499497,0.15924208828865147,0.15924208828865147,0.15964523281596452,0.15964523281596452,0.15984680507962104,0.15984680507962104,0.16004837734327756,0.16004837734327756,0.1602499496069341,0.1602499496069341,0.16065309413424714,0.16065309413424714,0.16085466639790366,0.16085466639790366,0.16125781092521668,0.16125781092521668,0.16166095545252973,0.16166095545252973,0.16186252771618626,0.16186252771618626,0.1622656722434993,0.1622656722434993,0.16246724450715583,0.16246724450715583,0.16266881677081232,0.16266881677081232,0.16287038903446885,0.16287038903446885,0.1632735335617819,0.1632735335617819,0.16367667808909495,0.16367667808909495,0.16448296714372102,0.16448296714372102,0.16488611167103406,0.16488611167103406,0.1652892561983471,0.1652892561983471,0.16649868978028623,0.16649868978028623,0.16670026204394275,0.16670026204394275,0.16690183430759928,0.16690183430759928,0.16730497883491233,0.16730497883491233,0.16790969562588187,0.16790969562588187,0.16871598468050797,0.16871598468050797,0.16911912920782102,0.16911912920782102,0.16972384599879056,0.16972384599879056,0.1701269905261036,0.1701269905261036,0.17073170731707318,0.17073170731707318,0.17093327958072968,0.17093327958072968,0.1711348518443862,0.1711348518443862,0.17173956863535578,0.17173956863535578,0.1719411408990123,0.1719411408990123,0.17234428542632535,0.17234428542632535,0.17254585768998185,0.17254585768998185,0.1729490022172949,0.1729490022172949,0.17355371900826447,0.17355371900826447,0.17436000806289054,0.17436000806289054,0.17456158032654706,0.17456158032654706,0.17536786938117316,0.17536786938117316,0.1759725861721427,0.1759725861721427,0.17637573069945575,0.17637573069945575,0.17698044749042532,0.17698044749042532,0.17758516428139487,0.17758516428139487,0.17818988107236444,0.17818988107236444,0.17839145333602097,0.17839145333602097,0.1785930255996775,0.1785930255996775,0.17899617012699054,0.17899617012699054,0.17919774239064704,0.17919774239064704,0.17939931465430356,0.17939931465430356,0.18000403144527313,0.18000403144527313,0.18020560370892966,0.18020560370892966,0.18141503729086877,0.18141503729086877,0.1826244708728079,0.1826244708728079,0.18322918766377747,0.18322918766377747,0.183430759927434,0.183430759927434,0.18423704898206006,0.18423704898206006,0.1846401935093731,0.1846401935093731,0.18504333803668616,0.18504333803668616,0.18625277161862527,0.18625277161862527,0.1864543438822818,0.1864543438822818,0.1872606329369079,0.1872606329369079,0.18806692199153396,0.18806692199153396,0.1882684942551905,0.1882684942551905,0.188470066518847,0.188470066518847,0.18907478330981656,0.18907478330981656,0.18927635557347308,0.18927635557347308,0.1894779278371296,0.1894779278371296,0.19048578915541223,0.19048578915541223,0.19169522273735135,0.19169522273735135,0.19189679500100787,0.19189679500100787,0.19250151179197741,0.19250151179197741,0.19290465631929046,0.19290465631929046,0.193106228582947,0.193106228582947,0.1933078008466035,0.1933078008466035,0.19371094537391656,0.19371094537391656,0.19451723442854263,0.19451723442854263,0.19492037895585568,0.19492037895585568,0.19532352348316873,0.19532352348316873,0.19633138480145132,0.19633138480145132,0.1969361015924209,0.1969361015924209,0.19713767385607742,0.19713767385607742,0.19875025196532958,0.19875025196532958,0.19935496875629913,0.19935496875629913,0.19955654101995565,0.19955654101995565,0.19975811328361218,0.19975811328361218,0.20036283007458175,0.20036283007458175,0.20056440233823825,0.20056440233823825,0.20076597460189477,0.20076597460189477,0.2009675468655513,0.2009675468655513,0.20116911912920782,0.20116911912920782,0.20137069139286434,0.20137069139286434,0.20197540818383392,0.20197540818383392,0.20258012497480346,0.20258012497480346,0.2029832695021165,0.2029832695021165,0.20318484176577303,0.20318484176577303,0.20499899213868172,0.20499899213868172,0.20600685345696432,0.20600685345696432,0.20741785930255996,0.20741785930255996,0.2086272928844991,0.2086272928844991,0.2088288651481556,0.2088288651481556,0.20903043741181213,0.20903043741181213,0.20983672646643822,0.20983672646643822,0.21003829873009475,0.21003829873009475,0.21023987099375127,0.21023987099375127,0.21044144325740777,0.21044144325740777,0.21084458778472082,0.21084458778472082,0.21104616004837734,0.21104616004837734,0.21286031042128603,0.21286031042128603,0.21326345494859908,0.21326345494859908,0.21386817173956862,0.21386817173956862,0.21406974400322515,0.21406974400322515,0.21588389437613384,0.21588389437613384,0.21729490022172948,0.21729490022172948,0.2203184841765773,0.2203184841765773,0.2211247732312034,0.2211247732312034,0.2213263454948599,0.2213263454948599,0.22193106228582948,0.22193106228582948,0.2223342068131425,0.2223342068131425,0.22253577907679903,0.22253577907679903,0.22354364039508165,0.22354364039508165,0.22374521265873815,0.22374521265873815,0.2241483571860512,0.2241483571860512,0.2249546462406773,0.2249546462406773,0.22515621850433382,0.22515621850433382,0.2253577907679903,0.2253577907679903,0.22555936303164684,0.22555936303164684,0.2261640798226164,0.2261640798226164,0.22737351340455553,0.22737351340455553,0.2279782301955251,0.2279782301955251,0.22858294698649465,0.22858294698649465,0.22878451925015117,0.22878451925015117,0.22938923604112074,0.22938923604112074,0.23059866962305986,0.23059866962305986,0.23120338641402943,0.23120338641402943,0.23140495867768596,0.23140495867768596,0.23160653094134248,0.23160653094134248,0.23261439225962507,0.23261439225962507,0.23301753678693812,0.23301753678693812,0.23321910905059465,0.23321910905059465,0.23342068131425117,0.23342068131425117,0.23402539810522072,0.23402539810522072,0.23442854263253377,0.23442854263253377,0.23503325942350334,0.23503325942350334,0.23543640395081636,0.23543640395081636,0.23604112074178593,0.23604112074178593,0.236847409796412,0.236847409796412,0.23805684337835115,0.23805684337835115,0.23825841564200767,0.23825841564200767,0.2386615601693207,0.2386615601693207,0.2406772828058859,0.2406772828058859,0.24128199959685548,0.24128199959685548,0.24208828865148155,0.24208828865148155,0.24269300544245112,0.24269300544245112,0.2443055835517033,0.2443055835517033,0.24470872807901634,0.24470872807901634,0.24491030034267286,0.24491030034267286,0.24511187260632936,0.24511187260632936,0.24672445071558152,0.24672445071558152,0.24712759524289457,0.24712759524289457,0.24753073977020762,0.24753073977020762,0.24833702882483372,0.24833702882483372,0.24954646240677283,0.24954646240677283,0.24974803467042936,0.24974803467042936,0.24994960693408588,0.24994960693408588,0.2503527514613989,0.2503527514613989,0.25075589598871195,0.25075589598871195,0.251159040516025,0.251159040516025,0.2517637573069946,0.2517637573069946,0.2519653295706511,0.2519653295706511,0.25236847409796415,0.25236847409796415,0.2525700463616206,0.2525700463616206,0.25377947994355976,0.25377947994355976,0.2549889135254989,0.2549889135254989,0.2555936303164685,0.2555936303164685,0.25660149163475104,0.25660149163475104,0.25680306389840757,0.25680306389840757,0.25760935295303367,0.25760935295303367,0.25821406974400324,0.25821406974400324,0.25942350332594233,0.25942350332594233,0.25962507558959885,0.25962507558959885,0.26143922596250757,0.26143922596250757,0.2616407982261641,0.2616407982261641,0.26224551501713367,0.26224551501713367,0.26264865954444666,0.26264865954444666,0.2630518040717597,0.2630518040717597,0.26325337633541623,0.26325337633541623,0.2636565208627293,0.2636565208627293,0.26405966539004233,0.26405966539004233,0.2644628099173554,0.2644628099173554,0.2646643821810119,0.2646643821810119,0.2666801048175771,0.2666801048175771,0.2668816770812336,0.2668816770812336,0.26708324934489014,0.26708324934489014,0.26728482160854666,0.26728482160854666,0.26788953839951624,0.26788953839951624,0.2684942551904858,0.2684942551904858,0.2695021165087684,0.2695021165087684,0.2697036887724249,0.2697036887724249,0.27030840556339447,0.27030840556339447,0.2707115500907075,0.2707115500907075,0.27192098367264667,0.27192098367264667,0.2725257004636162,0.2725257004636162,0.2727272727272727,0.2727272727272727,0.27313041725458576,0.27313041725458576,0.275146139891151,0.275146139891151,0.27595242894577704,0.27595242894577704,0.27615400120943356,0.27615400120943356,0.27696029026405966,0.27696029026405966,0.28058859100987704,0.28058859100987704,0.2822011691191292,0.2822011691191292,0.28280588591009875,0.28280588591009875,0.28562789760129004,0.28562789760129004,0.28582946986494656,0.28582946986494656,0.2860310421286031,0.2860310421286031,0.28663575891957266,0.28663575891957266,0.2876436202378553,0.2876436202378553,0.2878451925015118,0.2878451925015118,0.2892561983471074,0.2892561983471074,0.2900624874017335,0.2900624874017335,0.2906672041927031,0.2906672041927031,0.29248135456561175,0.29248135456561175,0.2926829268292683,0.2926829268292683,0.2938923604112074,0.2938923604112074,0.29510179399314657,0.29510179399314657,0.29550493852045956,0.29550493852045956,0.2957065107841161,0.2957065107841161,0.2959080830477726,0.2959080830477726,0.29610965531142913,0.29610965531142913,0.29913323926627694,0.29953638379359,0.3005442451118726,0.3005442451118726,0.30094738963918566,0.30094738963918566,0.3025599677484378,0.3025599677484378,0.3033662568030639,0.3033662568030639,0.30376940133037694,0.30376940133037694,0.30477726264865956,0.30477726264865956,0.3051804071759726,0.3051804071759726,0.30578512396694213,0.30578512396694213,0.3069945575488813,0.3069945575488813,0.30840556339447694,0.30840556339447694,0.309211852449103,0.309211852449103,0.30961499697641603,0.30961499697641603,0.31122757508566823,0.31122757508566823,0.31142914734932475,0.31142914734932475,0.31203386414029427,0.31203386414029427,0.3146543035678291,0.3146543035678291,0.3148558758314856,0.3148558758314856,0.3152590203587986,0.3152590203587986,0.31566216488611165,0.31566216488611165,0.3158637371497682,0.3158637371497682,0.3162668816770812,0.3162668816770812,0.3168715984680508,0.3168715984680508,0.3176778875226769,0.3176778875226769,0.31868574884095946,0.31868574884095946,0.3215077605321508,0.3215077605321508,0.3221124773231203,0.3221124773231203,0.32251562185043336,0.32251562185043336,0.323523483168716,0.323523483168716,0.32533763354162465,0.32533763354162465,0.3259423503325942,0.3259423503325942,0.32634549485990727,0.32634549485990727,0.328159645232816,0.328159645232816,0.328562789760129,0.328562789760129,0.3305785123966942,0.3305785123966942,0.33219109050594636,0.33219109050594636,0.33299737956057246,0.33299737956057246,0.3334005240878855,0.3334005240878855,0.33360209635154203,0.33360209635154203,0.3370288248337029,0.3370288248337029,0.337835113888329,0.337835113888329,0.3392461197339246,0.3392461197339246,0.3398508365248942,0.3398508365248942,0.3408586978431768,0.3408586978431768,0.34146341463414637,0.34146341463414637,0.3420681314251159,0.3420681314251159,0.34428542632533765,0.34428542632533765,0.34489014311630717,0.34489014311630717,0.3452932876436202,0.3452932876436202,0.3458980044345898,0.3458980044345898,0.3460995766982463,0.3460995766982463,0.3469058657528724,0.3469058657528724,0.348316871598468,0.348316871598468,0.3489215883894376,0.3489215883894376,0.3505341664986898,0.3505341664986898,0.35093731102600284,0.35093731102600284,0.35113888328965936,0.35113888328965936,0.35154202781697236,0.35154202781697236,0.35234831687159845,0.35234831687159845,0.3549687562991332,0.3549687562991332,0.35537190082644626,0.35537190082644626,0.3555734730901028,0.3555734730901028,0.3563797621447289,0.35678290667204193,0.35698447893569846,0.35698447893569846,0.36000806289054627,0.36000806289054627,0.36061277968151584,0.36061277968151584,0.3612174964724854,0.3612174964724854,0.3660552308002419,0.3660552308002419,0.3662568030638984,0.3662568030638984,0.366861519854868,0.366861519854868,0.3670630921185245,0.3670630921185245,0.36746623664583755,0.36746623664583755,0.36968353154605926,0.36968353154605926,0.37169925418262445,0.37169925418262445,0.371900826446281,0.371900826446281,0.372303970973594,0.372303970973594,0.37532755492844183,0.37532755492844183,0.37855271114694616,0.37855271114694616,0.3789558556742592,0.3789558556742592,0.38238258415642007,0.38238258415642007,0.3874218907478331,0.3874218907478331,0.390848619229994,0.39125176375730697,0.3938722031848418,0.3938722031848418,0.39427534771215483,0.39427534771215483,0.3946784922394678,0.3946784922394678,0.39488006450312435,0.39488006450312435,0.3981052207216287,0.3981052207216287,0.3983067929852852,0.3983067929852852,0.3991130820399113,0.3991130820399113,0.400524087885507,0.400524087885507,0.4035476718403548,0.4035476718403548,0.40636968353154607,0.40636968353154607,0.40697440032251564,0.40697440032251564,0.40838540616811125,0.40838540616811125,0.41201370691392863,0.41201370691392863,0.41382785728683735,0.41382785728683735,0.415642007659746,0.415642007659746,0.4162467244507156,0.4162467244507156,0.4164482967143721,0.4164482967143721,0.4170530135053417,0.4170530135053417,0.41806087482362425,0.41806087482362425,0.41886716387825035,0.41886716387825035,0.4190687361419069,0.4190687361419069,0.4194718806692199,0.4194718806692199,0.420278169723846,0.420278169723846,0.42269703688772425,0.42269703688772425,0.4231001814150373,0.4231001814150373,0.4237048982060069,0.4237048982060069,0.4267284821608547,0.4267284821608547,0.4269300544245112,0.4269300544245112,0.4289457770610764,0.4289457770610764,0.4291473493247329,0.4291473493247329,0.4305583551703286,0.4305583551703286,0.4317677887522677,0.4317677887522677,0.4319693610159242,0.4319693610159242,0.4337835113888329,0.4337835113888329,0.43398508365248945,0.43398508365248945,0.43519451723442854,0.4355976617617416,0.4380165289256198,0.4380165289256198,0.4394275347712155,0.4394275347712155,0.4402338238258416,0.4402338238258416,0.4424511187260633,0.4424511187260633,0.44305583551703287,0.44305583551703287,0.44970772021769806,0.44970772021769806,0.4541423100181415,0.4541423100181415,0.4561580326547067,0.4561580326547067,0.4565611771820198,0.4565611771820198,0.4567627494456763,0.4571658939729893,0.45756903850030234,0.45756903850030234,0.4597863334005241,0.4597863334005241,0.45998790566418063,0.45998790566418063,0.4603910501914937,0.4603910501914937,0.464019350937311,0.464019350937311,0.4722838137472284,0.4722838137472284,0.47510582543841967,0.47510582543841967,0.47671840354767187,0.47671840354767187,0.47772626486595443,0.47772626486595443,0.4827655714573675,0.4827655714573675,0.4843781495666196,0.4843781495666196,0.48478129409393267,0.48478129409393267,0.4867970167304979,0.4867970167304979,0.4878048780487805,0.4878048780487805,0.49002217294900224,0.49002217294900224,0.4910300342672848,0.4910300342672848,0.4924410401128805,0.4924410401128805,0.492642612376537,0.492642612376537,0.4986897802862326,0.4986897802862326,0.49969764160451524,0.49969764160451524,0.5025196532957065,0.5025196532957065,0.5083652489417456,0.5083652489417456,0.5125982664785326,0.5125982664785326,0.5184438621245716,0.5184438621245716,0.5190485789155412,0.5190485789155412,0.5242894577706108,0.5242894577706108,0.5246926022979238,0.5246926022979238,0.525902035879863,0.525902035879863,0.5271114694618021,0.5271114694618021,0.5275146139891151,0.5275146139891151,0.5307397702076194,0.5307397702076194,0.5359806490626889,0.5359806490626889,0.5412215279177586,0.5412215279177586,0.5468655513001411,0.5468655513001411,0.5525095746825237,0.5525095746825237,0.5615803265470671,0.5615803265470671,0.5621850433380366,0.5621850433380366,0.5625881878653497,0.5625881878653497,0.5680306389840758,0.5680306389840758,0.5684337835113888,0.5684337835113888,0.5758919572666801,0.5758919572666801,0.579721830276154,0.579721830276154,0.580124974803467,0.580124974803467,0.5819391251763757,0.5819391251763757,0.5835517032856279,0.5835517032856279,0.5861721427131626,0.5861721427131626,0.5912114493045757,0.5912114493045757,0.5960491836323322,0.5960491836323322,0.5984680507962105,0.5984680507962105,0.6045152187059061,0.6045152187059061,0.6139891150977626,0.6139891150977626,0.6149969764160451,0.6149969764160451,0.6162064099979843,0.6162064099979843,0.6268897399717799,0.6268897399717799,0.6289054626083451,0.6289054626083451,0.6321306188268494,0.6325337633541624,0.6341463414634146,0.6341463414634146,0.6414029429550494,0.6414029429550494,0.6555130014110059,0.6555130014110059,0.6561177182019754,0.6561177182019754,0.656722434992945,0.656722434992945,0.6603507357387624,0.6607538802660754,0.6643821810118927,0.6643821810118927,0.6764765168312841,0.6764765168312841,0.6855472686958275,0.6859504132231405,0.6928038701874623,0.6928038701874623,0.6946180205603709,0.6946180205603709,0.6992541826244709,0.6992541826244709,0.7010683329973796,0.7010683329973796,0.7020761943156621,0.7020761943156621,0.7087280790163274,0.7087280790163274,0.7099375125982664,0.7099375125982664,0.7175972586172142,0.7175972586172142,0.7250554323725056,0.7250554323725056,0.7359403346099577,0.7363434791372707,0.7643620237855271,0.7647651683128401,0.782100382987301,0.782100382987301,0.807296915944366,0.807296915944366,0.8363233219109051,0.8363233219109051,0.8379359000201573,0.8383390445474702,0.8480145132029833,0.8484176577302963,0.8574884095948397,0.8574884095948397,0.8711953235234832,0.8715984680507962,0.9183632332191091,0.9187663777464221,1.0],\"y\":[0.0,0.00019845207382417147,0.03651518158364755,0.03691208573129589,0.04286564794602104,0.04326255209366938,0.050605278825163726,0.050605278825163726,0.07025203413375669,0.07104584242905339,0.0855328438182179,0.0855328438182179,0.09605080373089898,0.09605080373089898,0.09624925580472316,0.09624925580472316,0.12800158761659058,0.12800158761659058,0.12978765628100813,0.12978765628100813,0.13256598531454653,0.13256598531454653,0.13296288946219487,0.13593967056955744,0.13633657471720578,0.14209168485810678,0.14209168485810678,0.14685453462988687,0.14685453462988687,0.14983131573724945,0.1502282198848978,0.15737249454256796,0.15737249454256796,0.15975391942845804,0.15975391942845804,0.1676920023814249,0.1676920023814249,0.1766223457035126,0.1766223457035126,0.20996229410597342,0.20996229410597342,0.21948799364953364,0.21948799364953364,0.23079976185751142,0.23079976185751142,0.23734868029370906,0.23734868029370906,0.23834094066282993,0.23834094066282993,0.24230998213931335,0.24230998213931335,0.24290533836078587,0.24290533836078587,0.2468743798372693,0.2468743798372693,0.24786664020639015,0.24786664020639015,0.26116292915260964,0.26116292915260964,0.262750545743203,0.262750545743203,0.2657273268505656,0.2657273268505656,0.26592577892438973,0.26592577892438973,0.26830720381027984,0.26830720381027984,0.274260766025005,0.274260766025005,0.2746576701726533,0.2746576701726533,0.28140504068267513,0.28140504068267513,0.2818019448303235,0.2818019448303235,0.2857709863068069,0.2857709863068069,0.290533836078587,0.290533836078587,0.3024409605080373,0.3024409605080373,0.317126413971026,0.317126413971026,0.32169081166898195,0.32169081166898195,0.3246675927763445,0.3246675927763445,0.32645366144076204,0.3268505655884104,0.3296288946219488,0.3296288946219488,0.3332010319507839,0.3332010319507839,0.33359793609843225,0.33359793609843225,0.3407422107561024,0.3407422107561024,0.34232982734669576,0.34232982734669576,0.3435205397896408,0.3435205397896408,0.34669577297082754,0.34669577297082754,0.3478864854137726,0.3478864854137726,0.3484818416352451,0.3484818416352451,0.3492756499305418,0.3492756499305418,0.3520539789640802,0.3520539789640802,0.3524508831117285,0.3524508831117285,0.35483230799761856,0.35483230799761856,0.35899980154792616,0.35899980154792616,0.37070847390355227,0.37070847390355227,0.38321095455447507,0.38321095455447507,0.38400476284977175,0.38400476284977175,0.3857908315141893,0.3857908315141893,0.38757690017860685,0.38757690017860685,0.393530462393332,0.393530462393332,0.39551498313157374,0.39551498313157374,0.39611033935304624,0.39611033935304624,0.3978964080174638,0.3978964080174638,0.4014685453462989,0.4014685453462989,0.40325461401071644,0.40325461401071644,0.4046437785274856,0.4046437785274856,0.40762055963484817,0.40762055963484817,0.40801746378249654,0.40801746378249654,0.4094066282992657,0.4094066282992657,0.4145663822186942,0.4145663822186942,0.41575709466163924,0.41575709466163924,0.42051994443341933,0.42051994443341933,0.42091684858106765,0.42091684858106765,0.4268704107957928,0.4268704107957928,0.4300456439769796,0.4300456439769796,0.43302242508434213,0.43302242508434213,0.43341932923199045,0.43341932923199045,0.43560230204405637,0.43560230204405637,0.4379837269299464,0.4379837269299464,0.4385790831514189,0.4385790831514189,0.4443341932923199,0.4443341932923199,0.4457233578090891,0.4457233578090891,0.4463187140305616,0.4463187140305616,0.4485016868426275,0.4485016868426275,0.45028775550704503,0.45028775550704503,0.4508831117285176,0.4508831117285176,0.4552490573526493,0.4552490573526493,0.4588211946814844,0.4588211946814844,0.4594165509029569,0.4594165509029569,0.46080571541972615,0.46080571541972615,0.46219487993649533,0.46219487993649533,0.46636237348680293,0.46636237348680293,0.46933915459416553,0.46933915459416553,0.47191903155387976,0.47191903155387976,0.4770787854733082,0.4770787854733082,0.47727723754713236,0.47727723754713236,0.4798571145068466,0.4798571145068466,0.48084937487596746,0.48084937487596746,0.48283389561420914,0.48283389561420914,0.48382615598333,0.48382615598333,0.48581067672157174,0.48581067672157174,0.48640603294304424,0.48640603294304424,0.4868029370906926,0.4868029370906926,0.4889859099027585,0.4889859099027585,0.4911688827148244,0.4911688827148244,0.4923595951577694,0.49275649930541776,0.4937487596745386,0.4937487596745386,0.4945425679698353,0.4945425679698353,0.495336376265132,0.495336376265132,0.4967255407819012,0.4967255407819012,0.5018852947013296,0.5018852947013296,0.5024806509228021,0.5024806509228021,0.5030760071442747,0.5030760071442747,0.5131970629093074,0.5131970629093074,0.5137924191307799,0.5137924191307799,0.5145862274260766,0.5145862274260766,0.51617384401667,0.51617384401667,0.5163722960904942,0.5163722960904942,0.5187537209763842,0.5187537209763842,0.5229212145266918,0.5229212145266918,0.5266918039293511,0.5266918039293511,0.5290732288152411,0.5290732288152411,0.5296685850367137,0.5296685850367137,0.531256201627307,0.531256201627307,0.5334391744393729,0.5334391744393729,0.5338360785870212,0.5338360785870212,0.5376066679896805,0.5376066679896805,0.5380035721373289,0.5380035721373289,0.5413772573923398,0.5413772573923398,0.5419726136138122,0.5419726136138122,0.5429648739829331,0.5429648739829331,0.5431633260567573,0.5431633260567573,0.5443540384997023,0.5443540384997023,0.5499106965667792,0.5499106965667792,0.5505060527882516,0.5505060527882516,0.5516967652311967,0.5516967652311967,0.552093669378845,0.552093669378845,0.5524905735264933,0.5524905735264933,0.5526890256003175,0.5526890256003175,0.5600317523318119,0.5600317523318119,0.5606271085532843,0.5606271085532843,0.5651915062512404,0.5651915062512404,0.5661837666203612,0.5661837666203612,0.5673744790633062,0.5673744790633062,0.5677713832109545,0.5677713832109545,0.5685651915062513,0.5685651915062513,0.5705497122444929,0.5705497122444929,0.5709466163921413,0.5709466163921413,0.5711450684659655,0.5711450684659655,0.5723357809089105,0.5723357809089105,0.572931137130383,0.572931137130383,0.5735264933518556,0.5735264933518556,0.5739233974995038,0.5739233974995038,0.5745187537209764,0.5745187537209764,0.5759079182377456,0.5759079182377456,0.5765032744592181,0.5765032744592181,0.5780908910498115,0.5780908910498115,0.5814645763048224,0.5814645763048224,0.5828537408215916,0.5828537408215916,0.5850367136336575,0.5850367136336575,0.5856320698551299,0.5856320698551299,0.5858305219289541,0.5858305219289541,0.5870212343718992,0.5870212343718992,0.5872196864457233,0.5872196864457233,0.5874181385195475,0.5874181385195475,0.5903949196269102,0.5903949196269102,0.5905933717007342,0.5905933717007342,0.5923794403651518,0.5923794403651518,0.5929747965866243,0.5929747965866243,0.5941655090295693,0.5941655090295693,0.5963484818416352,0.5963484818416352,0.5967453859892836,0.5967453859892836,0.5977376463584044,0.5977376463584044,0.5993252629489978,0.5993252629489978,0.6003175233181187,0.6003175233181187,0.6025004961301845,0.6025004961301845,0.6044850168684263,0.6044850168684263,0.605278825163723,0.605278825163723,0.6068664417543164,0.6068664417543164,0.6070648938281406,0.6070648938281406,0.6078587021234372,0.6078587021234372,0.6084540583449097,0.6084540583449097,0.612224647747569,0.612224647747569,0.6126215518952173,0.6126215518952173,0.6148045247072832,0.6148045247072832,0.6155983330025798,0.6155983330025798,0.6225441555864258,0.6225441555864258,0.623734868029371,0.623734868029371,0.6267116491367335,0.6267116491367335,0.6273070053582059,0.6273070053582059,0.6298868823179202,0.6298868823179202,0.630879142687041,0.630879142687041,0.6312760468346894,0.6312760468346894,0.6314744989085136,0.6314744989085136,0.633062115499107,0.633062115499107,0.6334590196467553,0.6334590196467553,0.6336574717205795,0.6336574717205795,0.6376265131970629,0.6376265131970629,0.6390156777138322,0.6390156777138322,0.6392141297876562,0.6392141297876562,0.6396110339353046,0.6396110339353046,0.6410001984520738,0.6410001984520738,0.6445723357809089,0.6445723357809089,0.6451676920023814,0.6451676920023814,0.6459615002976781,0.6463584044453264,0.646953760666799,0.646953760666799,0.6479460210359198,0.6479460210359198,0.649335185552689,0.649335185552689,0.6499305417741615,0.6499305417741615,0.6540980353244692,0.6540980353244692,0.6558841039888866,0.6558841039888866,0.656281008136535,0.656281008136535,0.6598531454653701,0.6598531454653701,0.6612423099821393,0.6612423099821393,0.6648144473109744,0.6648144473109744,0.6664020639015678,0.6664020639015678,0.6691803929351061,0.6691803929351061,0.6709664615995237,0.6709664615995237,0.674737051002183,0.6751339551498313,0.6781107362571939,0.6781107362571939,0.6798968049216114,0.6798968049216114,0.6806906132169082,0.6806906132169082,0.6812859694383806,0.6812859694383806,0.6822782298075015,0.6822782298075015,0.6840642984719191,0.6840642984719191,0.6846596546933915,0.6846596546933915,0.6870410795792816,0.6870410795792816,0.68743798372693,0.68743798372693,0.6890256003175234,0.6890256003175234,0.6900178606866442,0.6900178606866442,0.6906132169081167,0.6906132169081167,0.6914070252034134,0.6914070252034134,0.6929946417940067,0.6929946417940067,0.6933915459416551,0.6933915459416551,0.6953760666798968,0.6953760666798968,0.6965667791228418,0.6965667791228418,0.6977574915657868,0.6977574915657868,0.6983528477872594,0.6983528477872594,0.6989482040087319,0.6989482040087319,0.7003373685255011,0.7003373685255011,0.7005358205993253,0.7005358205993253,0.7013296288946219,0.7013296288946219,0.7015280809684461,0.7015280809684461,0.7031156975590395,0.7031156975590395,0.7033141496328636,0.7033141496328636,0.7039095058543362,0.7039095058543362,0.7041079579281604,0.7041079579281604,0.7054971224449296,0.7054971224449296,0.7058940265925779,0.7058940265925779,0.706092478666402,0.706092478666402,0.7072831911093471,0.7072831911093471,0.7074816431831713,0.7074816431831713,0.7074816431831713,0.7080769994046437,0.7080769994046437,0.7082754514784679,0.7082754514784679,0.7108553284381822,0.7108553284381822,0.711847588807303,0.711847588807303,0.7122444929549514,0.7122444929549514,0.7128398491764238,0.7128398491764238,0.713038301250248,0.713038301250248,0.7134352053978964,0.7134352053978964,0.7160150823576107,0.7160150823576107,0.7170073427267315,0.7170073427267315,0.7172057948005557,0.7172057948005557,0.7174042468743799,0.7174042468743799,0.717602698948204,0.717602698948204,0.7181980551696765,0.7181980551696765,0.7205794800555666,0.7205794800555666,0.7237547132367533,0.7237547132367533,0.7241516173844017,0.7241516173844017,0.7249454256796983,0.7249454256796983,0.7257392339749951,0.7257392339749951,0.7259376860488193,0.7259376860488193,0.7261361381226433,0.7261361381226433,0.7263345901964675,0.7263345901964675,0.7269299464179401,0.7269299464179401,0.7273268505655884,0.7273268505655884,0.7283191109347092,0.7283191109347092,0.7285175630085334,0.7285175630085334,0.7295098233776542,0.7295098233776542,0.7297082754514784,0.7297082754514784,0.7299067275253026,0.7299067275253026,0.731494344115896,0.731494344115896,0.7318912482635443,0.7318912482635443,0.7350664814447311,0.7350664814447311,0.7354633855923794,0.7354633855923794,0.7364556459615003,0.7364556459615003,0.7376463584044454,0.7376463584044454,0.7380432625520936,0.7380432625520936,0.7388370708473904,0.7388370708473904,0.7404246874379837,0.7404246874379837,0.7408215915856321,0.7408215915856321,0.7414169478071045,0.7414169478071045,0.7422107561024013,0.7422107561024013,0.7426076602500497,0.7426076602500497,0.7432030164715221,0.7432030164715221,0.745385989283588,0.745385989283588,0.7457828934312364,0.7457828934312364,0.7459813455050606,0.7459813455050606,0.7467751538003572,0.7467751538003572,0.7475689620956539,0.7475689620956539,0.7487596745385989,0.7487596745385989,0.7489581266124231,0.7489581266124231,0.7491565786862473,0.7491565786862473,0.7493550307600715,0.7493550307600715,0.7503472911291923,0.7503472911291923,0.7507441952768407,0.7507441952768407,0.751141099424489,0.751141099424489,0.7515380035721373,0.7515380035721373,0.7519349077197857,0.7519349077197857,0.7525302639412582,0.7525302639412582,0.7527287160150824,0.7527287160150824,0.7533240722365548,0.7533240722365548,0.7537209763842032,0.7537209763842032,0.7543163326056758,0.7543163326056758,0.755705497122445,0.755705497122445,0.7561024012700933,0.7561024012700933,0.7564993054177416,0.7564993054177416,0.7564993054177416,0.7564993054177416,0.7598729906727525,0.7598729906727525,0.7600714427465767,0.7600714427465767,0.7606667989680492,0.7606667989680492,0.7608652510418734,0.7608652510418734,0.7612621551895218,0.7612621551895218,0.76165905933717,0.76165905933717,0.7634451280015876,0.7634451280015876,0.7636435800754118,0.7636435800754118,0.7640404842230601,0.7640404842230601,0.7646358404445327,0.7646358404445327,0.765032744592181,0.765032744592181,0.7656281008136535,0.7656281008136535,0.7660250049613019,0.7660250049613019,0.7662234570351261,0.7662234570351261,0.7672157174042469,0.7672157174042469,0.7676126215518952,0.7676126215518952,0.7678110736257194,0.7678110736257194,0.7680095256995435,0.7680095256995435,0.7682079777733677,0.7682079777733677,0.7688033339948402,0.7688033339948402,0.7692002381424886,0.7692002381424886,0.7693986902163128,0.7693986902163128,0.7701924985116094,0.7701924985116094,0.7703909505854336,0.7703909505854336,0.7711847588807303,0.7711847588807303,0.7717801151022028,0.7717801151022028,0.7721770192498512,0.7721770192498512,0.7725739233974995,0.7725739233974995,0.7745584441357413,0.7745584441357413,0.7749553482833895,0.7749553482833895,0.7755507045048621,0.7755507045048621,0.7757491565786863,0.7757491565786863,0.7769398690216313,0.7769398690216313,0.7771383210954554,0.7771383210954554,0.7783290335384004,0.7783290335384004,0.7785274856122246,0.7785274856122246,0.7787259376860488,0.7787259376860488,0.7805120063504664,0.7805120063504664,0.7807104584242905,0.7807104584242905,0.7813058146457631,0.7813058146457631,0.7817027187934114,0.7817027187934114,0.7824965270887081,0.7824965270887081,0.7826949791625323,0.7826949791625323,0.7838856916054773,0.7838856916054773,0.7860686644175432,0.7860686644175432,0.7872593768604882,0.7872593768604882,0.7874578289343124,0.7874578289343124,0.7878547330819607,0.7878547330819607,0.7886485413772574,0.7886485413772574,0.7890454455249057,0.7890454455249057,0.7898392538202024,0.7898392538202024,0.7900377058940266,0.7900377058940266,0.7904346100416749,0.7904346100416749,0.7906330621154991,0.7906330621154991,0.7916253224846199,0.7916253224846199,0.7924191307799167,0.7924191307799167,0.7926175828537408,0.7926175828537408,0.7942051994443342,0.7942051994443342,0.7944036515181584,0.7944036515181584,0.7946021035919826,0.7946021035919826,0.7948005556658068,0.7948005556658068,0.7949990077396308,0.7949990077396308,0.795197459813455,0.795197459813455,0.7959912681087518,0.7959912681087518,0.7967850764040484,0.7967850764040484,0.7969835284778726,0.7969835284778726,0.7975788846993451,0.7975788846993451,0.7977773367731693,0.7977773367731693,0.7985711450684659,0.7985711450684659,0.7993649533637627,0.7993649533637627,0.7995634054375869,0.7995634054375869,0.799761857511411,0.799761857511411,0.7999603095852351,0.7999603095852351,0.8001587616590593,0.8001587616590593,0.8013494741020044,0.8013494741020044,0.8017463782496527,0.8017463782496527,0.8023417344711252,0.8023417344711252,0.8027386386187736,0.8027386386187736,0.8029370906925978,0.8029370906925978,0.8037308989878944,0.8037308989878944,0.8039293510617186,0.8039293510617186,0.8051200635046636,0.8051200635046636,0.8053185155784878,0.8053185155784878,0.8063107759476087,0.8063107759476087,0.8069061321690811,0.8069061321690811,0.8084937487596745,0.8084937487596745,0.8100813653502679,0.8100813653502679,0.8110736257193888,0.8110736257193888,0.8116689819408612,0.8116689819408612,0.8122643381623338,0.8122643381623338,0.812462790236158,0.812462790236158,0.8132565985314546,0.8132565985314546,0.8134550506052788,0.8134550506052788,0.8138519547529272,0.8138519547529272,0.8148442151220481,0.8148442151220481,0.8154395713435205,0.8154395713435205,0.8156380234173447,0.8156380234173447,0.8158364754911689,0.8158364754911689,0.8166302837864655,0.8166302837864655,0.8170271879341139,0.8170271879341139,0.8174240920817623,0.8174240920817623,0.8180194483032348,0.8180194483032348,0.8188132565985314,0.8188132565985314,0.8190117086723556,0.8190117086723556,0.819408612820004,0.819408612820004,0.8198055169676524,0.8198055169676524,0.8202024211153006,0.8202024211153006,0.821790037705894,0.821790037705894,0.8219884897797182,0.8219884897797182,0.8229807501488391,0.8229807501488391,0.8231792022226633,0.8231792022226633,0.8235761063703115,0.8235761063703115,0.8241714625917841,0.8241714625917841,0.8245683667394325,0.8245683667394325,0.8247668188132566,0.8247668188132566,0.8253621750347291,0.8253621750347291,0.8259575312562016,0.8259575312562016,0.82635443540385,0.82635443540385,0.8267513395514983,0.8267513395514983,0.8273466957729708,0.8273466957729708,0.8277435999206192,0.8277435999206192,0.8281405040682676,0.8281405040682676,0.8289343123635642,0.8289343123635642,0.8293312165112126,0.8293312165112126,0.8295296685850367,0.8295296685850367,0.8301250248065092,0.8301250248065092,0.8311172851756301,0.8311172851756301,0.8313157372494543,0.8313157372494543,0.8321095455447509,0.8321095455447509,0.8338956142091685,0.8338956142091685,0.834490970430641,0.834490970430641,0.8350863266521135,0.8350863266521135,0.8352847787259376,0.8352847787259376,0.8354832307997618,0.8354832307997618,0.8364754911688828,0.8364754911688828,0.8366739432427069,0.8366739432427069,0.836872395316531,0.836872395316531,0.8370708473903552,0.8370708473903552,0.8374677515380036,0.8374677515380036,0.8380631077594761,0.8380631077594761,0.8382615598333003,0.8382615598333003,0.8386584639809486,0.8386584639809486,0.8390553681285969,0.8390553681285969,0.8394522722762453,0.8394522722762453,0.8398491764238937,0.8398491764238937,0.8402460805715419,0.8402460805715419,0.8406429847191903,0.8406429847191903,0.8408414367930145,0.8408414367930145,0.8412383409406629,0.8412383409406629,0.8416352450883112,0.8416352450883112,0.8424290533836079,0.8424290533836079,0.8430244096050804,0.8430244096050804,0.8434213137527287,0.8434213137527287,0.8436197658265528,0.8436197658265528,0.843818217900377,0.843818217900377,0.8446120261956738,0.8446120261956738,0.8452073824171462,0.8452073824171462,0.8458027386386188,0.8458027386386188,0.846001190712443,0.846001190712443,0.8465965469339155,0.8465965469339155,0.8473903552292121,0.8473903552292121,0.8479857114506847,0.8479857114506847,0.8481841635245089,0.8481841635245089,0.8483826155983331,0.8483826155983331,0.8487795197459813,0.8487795197459813,0.8489779718198055,0.8489779718198055,0.8501686842627505,0.8501686842627505,0.850764040484223,0.850764040484223,0.851756300853344,0.851756300853344,0.8521532050009922,0.8521532050009922,0.8523516570748164,0.8523516570748164,0.8533439174439373,0.8533439174439373,0.8539392736654098,0.8539392736654098,0.8545346298868823,0.8545346298868823,0.855328438182179,0.855328438182179,0.8559237944036515,0.8559237944036515,0.8561222464774757,0.8561222464774757,0.8565191506251241,0.8565191506251241,0.8569160547727723,0.8569160547727723,0.8579083151418933,0.8579083151418933,0.8581067672157174,0.8581067672157174,0.8583052192895416,0.8583052192895416,0.8585036713633657,0.8585036713633657,0.8587021234371899,0.8587021234371899,0.8596943838063108,0.8596943838063108,0.859892835880135,0.859892835880135,0.8604881921016074,0.8604881921016074,0.8608850962492558,0.8608850962492558,0.8612820003969042,0.8612820003969042,0.8618773566183766,0.8618773566183766,0.862274260766025,0.862274260766025,0.8626711649136733,0.8626711649136733,0.8632665211351459,0.8632665211351459,0.8636634252827942,0.8636634252827942,0.8638618773566183,0.8638618773566183,0.8644572335780909,0.8644572335780909,0.8646556856519151,0.8646556856519151,0.8652510418733875,0.8652510418733875,0.8656479460210359,0.8656479460210359,0.8658463980948601,0.8658463980948601,0.8660448501686843,0.8660448501686843,0.8662433022425085,0.8662433022425085,0.8668386584639809,0.8668386584639809,0.8670371105378051,0.8670371105378051,0.8682278229807502,0.8682278229807502,0.8684262750545744,0.8684262750545744,0.8686247271283984,0.8686247271283984,0.8688231792022226,0.8688231792022226,0.8694185354236952,0.8694185354236952,0.8696169874975194,0.8696169874975194,0.8698154395713436,0.8698154395713436,0.8700138916451677,0.8700138916451677,0.8706092478666402,0.8706092478666402,0.8712046040881127,0.8712046040881127,0.8719984123834094,0.8719984123834094,0.8733875769001787,0.8733875769001787,0.8741813851954753,0.8741813851954753,0.8747767414169478,0.8747767414169478,0.8751736455645962,0.8751736455645962,0.8755705497122445,0.8755705497122445,0.8757690017860686,0.8757690017860686,0.8759674538598928,0.8759674538598928,0.876165905933717,0.876165905933717,0.8765628100813654,0.8765628100813654,0.877356618376662,0.877356618376662,0.8775550704504862,0.8775550704504862,0.8779519745981346,0.8779519745981346,0.8781504266719588,0.8781504266719588,0.8783488787457829,0.8783488787457829,0.8785473308196071,0.8785473308196071,0.8797380432625521,0.8797380432625521,0.8799364953363763,0.8799364953363763,0.8801349474102005,0.8801349474102005,0.8803333994840246,0.8803333994840246,0.8813256598531455,0.8813256598531455,0.8815241119269697,0.8815241119269697,0.8819210160746179,0.8819210160746179,0.8823179202222663,0.8823179202222663,0.8825163722960905,0.8825163722960905,0.8827148243699147,0.8827148243699147,0.8829132764437388,0.8829132764437388,0.8837070847390355,0.8837070847390355,0.8839055368128597,0.8839055368128597,0.8841039888866838,0.8841039888866838,0.884302440960508,0.884302440960508,0.8848977971819806,0.8848977971819806,0.8852947013296288,0.8852947013296288,0.885493153403453,0.885493153403453,0.8860885096249256,0.8860885096249256,0.8868823179202223,0.8868823179202223,0.8874776741416948,0.8874776741416948,0.8880730303631673,0.8880730303631673,0.8886683865846398,0.8886683865846398,0.8890652907322881,0.8890652907322881,0.8892637428061123,0.8892637428061123,0.8896606469537607,0.8896606469537607,0.8898590990275849,0.8898590990275849,0.8902560031752332,0.8902560031752332,0.8904544552490573,0.8904544552490573,0.8906529073228815,0.8906529073228815,0.8908513593967057,0.8908513593967057,0.891248263544354,0.891248263544354,0.8918436197658266,0.8918436197658266,0.8928358801349474,0.8928358801349474,0.8932327842825958,0.8932327842825958,0.8940265925778924,0.8940265925778924,0.8942250446517166,0.8942250446517166,0.8948204008731891,0.8948204008731891,0.8952173050208375,0.8952173050208375,0.8956142091684858,0.8956142091684858,0.8960111133161341,0.8960111133161341,0.8962095653899583,0.8962095653899583,0.8964080174637825,0.8964080174637825,0.8966064695376067,0.8966064695376067,0.8968049216114309,0.8968049216114309,0.897003373685255,0.897003373685255,0.8974002778329033,0.8974002778329033,0.8981940861282001,0.8981940861282001,0.8983925382020242,0.8983925382020242,0.8985909902758484,0.8985909902758484,0.8987894423496725,0.8987894423496725,0.8993847985711451,0.8993847985711451,0.8995832506449692,0.8995832506449692,0.8999801547926176,0.8999801547926176,0.9007739630879142,0.9007739630879142,0.9009724151617384,0.9009724151617384,0.9011708672355626,0.9011708672355626,0.9013693193093868,0.9013693193093868,0.901567771383211,0.901567771383211,0.9023615796785076,0.9023615796785076,0.9031553879738043,0.9031553879738043,0.9033538400476285,0.9033538400476285,0.9035522921214527,0.9035522921214527,0.9043461004167493,0.9043461004167493,0.9045445524905735,0.9045445524905735,0.9047430045643977,0.9047430045643977,0.9049414566382219,0.9049414566382219,0.9053383607858703,0.9053383607858703,0.9057352649335185,0.9057352649335185,0.9065290732288153,0.9065290732288153,0.9067275253026394,0.9067275253026394,0.9069259773764636,0.9069259773764636,0.9071244294502877,0.9071244294502877,0.9075213335979361,0.9075213335979361,0.9077197856717603,0.9077197856717603,0.9093074022623536,0.9093074022623536,0.909704306410002,0.909704306410002,0.9104981147052986,0.9104981147052986,0.9106965667791228,0.9106965667791228,0.9112919230005954,0.9112919230005954,0.9114903750744195,0.9114903750744195,0.9116888271482437,0.9116888271482437,0.912085731295892,0.912085731295892,0.9124826354435404,0.9124826354435404,0.9128795395911887,0.9128795395911887,0.9134748958126613,0.9134748958126613,0.9136733478864855,0.9136733478864855,0.9138717999603095,0.9138717999603095,0.9144671561817821,0.9144671561817821,0.9150625124032546,0.9150625124032546,0.9160547727723755,0.9160547727723755,0.9162532248461996,0.9162532248461996,0.916650128993848,0.916650128993848,0.9170470331414964,0.9170470331414964,0.9172454852153205,0.9172454852153205,0.9174439372891446,0.9174439372891446,0.9176423893629688,0.9176423893629688,0.9180392935106172,0.9180392935106172,0.9184361976582656,0.9184361976582656,0.9188331018059138,0.9188331018059138,0.919031553879738,0.919031553879738,0.9194284580273864,0.9194284580273864,0.9198253621750347,0.9198253621750347,0.9200238142488589,0.9200238142488589,0.9202222663226831,0.9202222663226831,0.9204207183965073,0.9204207183965073,0.9206191704703314,0.9206191704703314,0.9208176225441556,0.9208176225441556,0.9210160746179797,0.9210160746179797,0.9212145266918039,0.9212145266918039,0.9218098829132765,0.9218098829132765,0.9220083349871007,0.9220083349871007,0.9222067870609247,0.9222067870609247,0.9224052391347489,0.9224052391347489,0.9226036912085731,0.9226036912085731,0.9228021432823973,0.9228021432823973,0.9230005953562215,0.9230005953562215,0.9237944036515181,0.9237944036515181,0.9239928557253423,0.9239928557253423,0.9241913077991665,0.9241913077991665,0.9243897598729907,0.9243897598729907,0.924786664020639,0.924786664020639,0.9249851160944632,0.9249851160944632,0.9253820202421116,0.9253820202421116,0.9257789243897598,0.9257789243897598,0.9261758285374082,0.9261758285374082,0.9265727326850566,0.9265727326850566,0.9273665409803532,0.9273665409803532,0.9277634451280016,0.9277634451280016,0.9279618972018258,0.9279618972018258,0.9283588013494741,0.9283588013494741,0.9285572534232983,0.9285572534232983,0.9289541575709466,0.9289541575709466,0.9293510617185949,0.9293510617185949,0.9297479658662433,0.9297479658662433,0.9299464179400675,0.9299464179400675,0.9301448700138917,0.9301448700138917,0.9303433220877159,0.9303433220877159,0.9305417741615399,0.9305417741615399,0.9307402262353641,0.9307402262353641,0.9309386783091883,0.9309386783091883,0.9311371303830125,0.9311371303830125,0.9315340345306609,0.9315340345306609,0.931732486604485,0.931732486604485,0.9319309386783092,0.9319309386783092,0.9321293907521334,0.9321293907521334,0.9327247469736059,0.9327247469736059,0.93292319904743,0.93292319904743,0.9339154594165509,0.9339154594165509,0.934113911490375,0.934113911490375,0.9343123635641992,0.9343123635641992,0.9347092677118476,0.9347092677118476,0.9349077197856718,0.9349077197856718,0.9353046239333201,0.9353046239333201,0.9357015280809684,0.9357015280809684,0.9360984322286168,0.9360984322286168,0.9364953363762651,0.9364953363762651,0.9370906925977377,0.9370906925977377,0.9372891446715618,0.9372891446715618,0.937487596745386,0.937487596745386,0.9376860488192101,0.9376860488192101,0.9380829529668585,0.9380829529668585,0.9382814050406827,0.9382814050406827,0.9384798571145069,0.9384798571145069,0.9388767612621551,0.9388767612621551,0.9390752133359793,0.9390752133359793,0.9392736654098035,0.9392736654098035,0.9396705695574519,0.9396705695574519,0.9398690216312761,0.9398690216312761,0.9400674737051002,0.9400674737051002,0.9402659257789244,0.9402659257789244,0.9406628299265727,0.9406628299265727,0.9408612820003969,0.9408612820003969,0.941059734074221,0.941059734074221,0.9414566382218694,0.9414566382218694,0.9416550902956936,0.9416550902956936,0.942051994443342,0.942051994443342,0.942250446517166,0.942250446517166,0.9424488985909902,0.9424488985909902,0.9430442548124628,0.9430442548124628,0.943242706886287,0.943242706886287,0.9434411589601112,0.9434411589601112,0.9436396110339353,0.9436396110339353,0.9440365151815836,0.9440365151815836,0.9442349672554078,0.9442349672554078,0.9446318714030562,0.9446318714030562,0.9448303234768803,0.9448303234768803,0.9450287755507045,0.9450287755507045,0.9452272276245287,0.9452272276245287,0.9454256796983529,0.9454256796983529,0.945624131772177,0.945624131772177,0.9458225838460012,0.9458225838460012,0.9460210359198253,0.9460210359198253,0.9462194879936495,0.9462194879936495,0.9464179400674737,0.9464179400674737,0.9466163921412979,0.9466163921412979,0.9468148442151221,0.9468148442151221,0.9470132962889463,0.9470132962889463,0.9472117483627704,0.9472117483627704,0.9474102004365945,0.9474102004365945,0.9476086525104187,0.9476086525104187,0.9478071045842429,0.9478071045842429,0.9480055566580671,0.9480055566580671,0.9484024608057154,0.9484024608057154,0.9489978170271879,0.9489978170271879,0.9491962691010121,0.9491962691010121,0.9493947211748363,0.9493947211748363,0.9495931732486604,0.9495931732486604,0.9497916253224846,0.9497916253224846,0.9499900773963088,0.9499900773963088,0.950188529470133,0.950188529470133,0.9505854336177814,0.9505854336177814,0.9507838856916054,0.9507838856916054,0.9509823377654296,0.9509823377654296,0.9511807898392538,0.9511807898392538,0.9515776939869022,0.9515776939869022,0.9517761460607264,0.9517761460607264,0.9519745981345505,0.9519745981345505,0.9521730502083747,0.9521730502083747,0.9523715022821988,0.9523715022821988,0.952569954356023,0.952569954356023,0.9527684064298472,0.9527684064298472,0.9529668585036714,0.9529668585036714,0.9535622147251439,0.9535622147251439,0.9537606667989681,0.9537606667989681,0.9539591188727922,0.9539591188727922,0.9541575709466164,0.9541575709466164,0.9543560230204405,0.9543560230204405,0.9547529271680889,0.9547529271680889,0.9549513792419131,0.9549513792419131,0.9551498313157373,0.9551498313157373,0.9553482833895615,0.9553482833895615,0.9555467354633856,0.9555467354633856,0.9557451875372097,0.9557451875372097,0.9559436396110339,0.9559436396110339,0.9561420916848581,0.9561420916848581,0.9563405437586823,0.9563405437586823,0.9565389958325065,0.9565389958325065,0.9565389958325065,0.9565389958325065,0.9567374479063306,0.9567374479063306,0.9575312562016273,0.9575312562016273,0.9577297082754515,0.9577297082754515,0.9579281603492756,0.9579281603492756,0.9581266124230998,0.9581266124230998,0.958325064496924,0.958325064496924,0.9585235165707482,0.9585235165707482,0.9587219686445724,0.9587219686445724,0.9589204207183966,0.9589204207183966,0.9591188727922206,0.9591188727922206,0.9593173248660448,0.9593173248660448,0.9597142290136932,0.9597142290136932,0.9599126810875174,0.9599126810875174,0.9601111331613416,0.9601111331613416,0.9603095852351657,0.9603095852351657,0.9605080373089899,0.9605080373089899,0.960706489382814,0.960706489382814,0.9609049414566382,0.9609049414566382,0.9611033935304624,0.9611033935304624,0.9613018456042866,0.9613018456042866,0.9615002976781107,0.9615002976781107,0.9616987497519349,0.9616987497519349,0.9620956538995833,0.9620956538995833,0.9622941059734075,0.9622941059734075,0.9624925580472316,0.9624925580472316,0.9626910101210557,0.9626910101210557,0.9628894621948799,0.9628894621948799,0.9632863663425283,0.9632863663425283,0.9634848184163525,0.9634848184163525,0.9636832704901767,0.9636832704901767,0.9638817225640008,0.9638817225640008,0.9640801746378249,0.9640801746378249,0.9642786267116491,0.9642786267116491,0.9644770787854733,0.9644770787854733,0.9646755308592975,0.9646755308592975,0.9648739829331217,0.9648739829331217,0.9650724350069458,0.9650724350069458,0.96527088708077,0.96527088708077,0.9654693391545942,0.9654693391545942,0.9656677912284183,0.9656677912284183,0.9658662433022425,0.9658662433022425,0.9660646953760667,0.9660646953760667,0.9666600515975392,0.9666600515975392,0.9668585036713634,0.9668585036713634,0.9672554078190118,0.9672554078190118,0.9674538598928358,0.9674538598928358,0.96765231196666,0.96765231196666,0.9678507640404842,0.9678507640404842,0.9680492161143084,0.9680492161143084,0.9682476681881326,0.9682476681881326,0.9684461202619568,0.9684461202619568,0.9686445723357809,0.9686445723357809,0.9688430244096051,0.9688430244096051,0.9690414764834292,0.9690414764834292,0.9692399285572534,0.9692399285572534,0.9694383806310776,0.9694383806310776,0.9696368327049018,0.9696368327049018,0.9698352847787259,0.9698352847787259,0.9700337368525501,0.9700337368525501,0.9704306410001985,0.9704306410001985,0.9708275451478467,0.9708275451478467,0.9708275451478467,0.9708275451478467,0.9710259972216709,0.9710259972216709,0.9712244492954951,0.9712244492954951,0.9714229013693193,0.9714229013693193,0.9716213534431435,0.9716213534431435,0.9718198055169677,0.9718198055169677,0.972216709664616,0.972216709664616,0.9724151617384401,0.9724151617384401,0.9726136138122643,0.9726136138122643,0.9728120658860885,0.9728120658860885,0.9730105179599127,0.9730105179599127,0.9732089700337369,0.9732089700337369,0.973407422107561,0.973407422107561,0.9736058741813852,0.9736058741813852,0.9738043262552094,0.9738043262552094,0.9740027783290336,0.9740027783290336,0.9742012304028577,0.9742012304028577,0.9743996824766818,0.9743996824766818,0.974598134550506,0.974598134550506,0.974598134550506,0.974598134550506,0.9747965866243302,0.9747965866243302,0.9749950386981544,0.9749950386981544,0.9751934907719786,0.9751934907719786,0.9753919428458028,0.9753919428458028,0.975590394919627,0.975590394919627,0.975788846993451,0.975788846993451,0.9759872990672752,0.9759872990672752,0.9761857511410994,0.9761857511410994,0.9763842032149236,0.9763842032149236,0.9765826552887478,0.9765826552887478,0.976781107362572,0.976781107362572,0.9769795594363961,0.9769795594363961,0.9771780115102203,0.9771780115102203,0.9773764635840445,0.9773764635840445,0.9775749156578686,0.9775749156578686,0.9777733677316928,0.9777733677316928,0.977971819805517,0.977971819805517,0.9781702718793411,0.9781702718793411,0.9783687239531653,0.9783687239531653,0.9785671760269895,0.9785671760269895,0.9789640801746379,0.9789640801746379,0.979162532248462,0.979162532248462,0.9793609843222861,0.9793609843222861,0.9797578884699345,0.9797578884699345,0.9799563405437587,0.9799563405437587,0.9801547926175829,0.9801547926175829,0.980353244691407,0.980353244691407,0.9805516967652312,0.9805516967652312,0.9807501488390553,0.9807501488390553,0.9809486009128795,0.9809486009128795,0.9811470529867037,0.9811470529867037,0.9813455050605279,0.9813455050605279,0.981543957134352,0.981543957134352,0.9817424092081762,0.9817424092081762,0.9819408612820004,0.9819408612820004,0.9819408612820004,0.9819408612820004,0.9821393133558246,0.9821393133558246,0.9823377654296488,0.9823377654296488,0.9825362175034729,0.9825362175034729,0.982734669577297,0.982734669577297,0.9829331216511212,0.9829331216511212,0.9831315737249454,0.9831315737249454,0.9833300257987696,0.9833300257987696,0.9835284778725938,0.9835284778725938,0.983726929946418,0.983726929946418,0.983726929946418,0.983726929946418,0.9839253820202422,0.9839253820202422,0.9843222861678904,0.9843222861678904,0.9845207382417146,0.9845207382417146,0.9847191903155388,0.9847191903155388,0.984917642389363,0.984917642389363,0.9853145465370113,0.9853145465370113,0.9855129986108355,0.9855129986108355,0.9857114506846597,0.9857114506846597,0.9859099027584838,0.9859099027584838,0.986108354832308,0.986108354832308,0.9863068069061321,0.9863068069061321,0.9865052589799563,0.9865052589799563,0.9867037110537805,0.9867037110537805,0.9869021631276047,0.9869021631276047,0.9871006152014289,0.9871006152014289,0.9872990672752531,0.9872990672752531,0.9874975193490771,0.9874975193490771,0.9876959714229013,0.9876959714229013,0.9880928755705497,0.9880928755705497,0.9882913276443739,0.9882913276443739,0.9884897797181981,0.9884897797181981,0.9886882317920223,0.9886882317920223,0.9888866838658464,0.9888866838658464,0.9890851359396706,0.9890851359396706,0.9894820400873189,0.9894820400873189,0.9896804921611431,0.9896804921611431,0.9900773963087914,0.9900773963087914,0.9902758483826156,0.9902758483826156,0.9904743004564398,0.9904743004564398,0.990672752530264,0.990672752530264,0.9908712046040881,0.9908712046040881,0.9910696566779122,0.9910696566779122,0.9912681087517364,0.9912681087517364,0.9914665608255606,0.9914665608255606,0.9916650128993848,0.9916650128993848,0.991863464973209,0.991863464973209,0.9920619170470332,0.9920619170470332,0.9922603691208574,0.9922603691208574,0.9924588211946815,0.9924588211946815,0.9928557253423298,0.9928557253423298,0.993054177416154,0.993054177416154,0.9932526294899782,0.9932526294899782,0.9934510815638024,0.9934510815638024,0.9936495336376265,0.9936495336376265,0.9938479857114507,0.9938479857114507,0.9940464377852749,0.9940464377852749,0.994244889859099,0.994244889859099,0.9944433419329232,0.9944433419329232,0.9946417940067473,0.9946417940067473,0.9948402460805715,0.9948402460805715,0.9950386981543957,0.9950386981543957,0.9952371502282199,0.9952371502282199,0.9954356023020441,0.9954356023020441,0.9956340543758683,0.9956340543758683,0.9958325064496923,0.9958325064496923,0.9958325064496923,0.9958325064496923,0.9960309585235165,0.9960309585235165,0.9962294105973407,0.9962294105973407,0.9964278626711649,0.9964278626711649,0.9966263147449891,0.9966263147449891,0.9968247668188133,0.9968247668188133,0.9968247668188133,0.9968247668188133,0.9970232188926375,0.9970232188926375,0.9972216709664616,0.9972216709664616,0.9972216709664616,0.9972216709664616,0.9974201230402858,0.9974201230402858,0.9976185751141099,0.9976185751141099,0.9978170271879341,0.9978170271879341,0.9980154792617583,0.9980154792617583,0.9984123834094066,0.9984123834094066,0.9986108354832308,0.9986108354832308,0.998809287557055,0.998809287557055,0.9990077396308792,0.9990077396308792,0.9992061917047033,0.9992061917047033,0.9992061917047033,0.9992061917047033,0.9992061917047033,0.9992061917047033,0.9994046437785274,0.9994046437785274,0.9996030958523516,0.9996030958523516,0.9998015479261758,0.9998015479261758,0.9998015479261758,0.9998015479261758,0.9998015479261758,0.9998015479261758,1.0,1.0,1.0,1.0,1.0,1.0],\"type\":\"scatter\"},{\"line\":{\"dash\":\"dash\"},\"mode\":\"lines\",\"name\":\"Random Guess\",\"x\":[0,1],\"y\":[0,1],\"type\":\"scatter\"}],                        {\"template\":{\"data\":{\"histogram2dcontour\":[{\"type\":\"histogram2dcontour\",\"colorbar\":{\"outlinewidth\":0,\"ticks\":\"\"},\"colorscale\":[[0.0,\"#0d0887\"],[0.1111111111111111,\"#46039f\"],[0.2222222222222222,\"#7201a8\"],[0.3333333333333333,\"#9c179e\"],[0.4444444444444444,\"#bd3786\"],[0.5555555555555556,\"#d8576b\"],[0.6666666666666666,\"#ed7953\"],[0.7777777777777778,\"#fb9f3a\"],[0.8888888888888888,\"#fdca26\"],[1.0,\"#f0f921\"]]}],\"choropleth\":[{\"type\":\"choropleth\",\"colorbar\":{\"outlinewidth\":0,\"ticks\":\"\"}}],\"histogram2d\":[{\"type\":\"histogram2d\",\"colorbar\":{\"outlinewidth\":0,\"ticks\":\"\"},\"colorscale\":[[0.0,\"#0d0887\"],[0.1111111111111111,\"#46039f\"],[0.2222222222222222,\"#7201a8\"],[0.3333333333333333,\"#9c179e\"],[0.4444444444444444,\"#bd3786\"],[0.5555555555555556,\"#d8576b\"],[0.6666666666666666,\"#ed7953\"],[0.7777777777777778,\"#fb9f3a\"],[0.8888888888888888,\"#fdca26\"],[1.0,\"#f0f921\"]]}],\"heatmap\":[{\"type\":\"heatmap\",\"colorbar\":{\"outlinewidth\":0,\"ticks\":\"\"},\"colorscale\":[[0.0,\"#0d0887\"],[0.1111111111111111,\"#46039f\"],[0.2222222222222222,\"#7201a8\"],[0.3333333333333333,\"#9c179e\"],[0.4444444444444444,\"#bd3786\"],[0.5555555555555556,\"#d8576b\"],[0.6666666666666666,\"#ed7953\"],[0.7777777777777778,\"#fb9f3a\"],[0.8888888888888888,\"#fdca26\"],[1.0,\"#f0f921\"]]}],\"heatmapgl\":[{\"type\":\"heatmapgl\",\"colorbar\":{\"outlinewidth\":0,\"ticks\":\"\"},\"colorscale\":[[0.0,\"#0d0887\"],[0.1111111111111111,\"#46039f\"],[0.2222222222222222,\"#7201a8\"],[0.3333333333333333,\"#9c179e\"],[0.4444444444444444,\"#bd3786\"],[0.5555555555555556,\"#d8576b\"],[0.6666666666666666,\"#ed7953\"],[0.7777777777777778,\"#fb9f3a\"],[0.8888888888888888,\"#fdca26\"],[1.0,\"#f0f921\"]]}],\"contourcarpet\":[{\"type\":\"contourcarpet\",\"colorbar\":{\"outlinewidth\":0,\"ticks\":\"\"}}],\"contour\":[{\"type\":\"contour\",\"colorbar\":{\"outlinewidth\":0,\"ticks\":\"\"},\"colorscale\":[[0.0,\"#0d0887\"],[0.1111111111111111,\"#46039f\"],[0.2222222222222222,\"#7201a8\"],[0.3333333333333333,\"#9c179e\"],[0.4444444444444444,\"#bd3786\"],[0.5555555555555556,\"#d8576b\"],[0.6666666666666666,\"#ed7953\"],[0.7777777777777778,\"#fb9f3a\"],[0.8888888888888888,\"#fdca26\"],[1.0,\"#f0f921\"]]}],\"surface\":[{\"type\":\"surface\",\"colorbar\":{\"outlinewidth\":0,\"ticks\":\"\"},\"colorscale\":[[0.0,\"#0d0887\"],[0.1111111111111111,\"#46039f\"],[0.2222222222222222,\"#7201a8\"],[0.3333333333333333,\"#9c179e\"],[0.4444444444444444,\"#bd3786\"],[0.5555555555555556,\"#d8576b\"],[0.6666666666666666,\"#ed7953\"],[0.7777777777777778,\"#fb9f3a\"],[0.8888888888888888,\"#fdca26\"],[1.0,\"#f0f921\"]]}],\"mesh3d\":[{\"type\":\"mesh3d\",\"colorbar\":{\"outlinewidth\":0,\"ticks\":\"\"}}],\"scatter\":[{\"fillpattern\":{\"fillmode\":\"overlay\",\"size\":10,\"solidity\":0.2},\"type\":\"scatter\"}],\"parcoords\":[{\"type\":\"parcoords\",\"line\":{\"colorbar\":{\"outlinewidth\":0,\"ticks\":\"\"}}}],\"scatterpolargl\":[{\"type\":\"scatterpolargl\",\"marker\":{\"colorbar\":{\"outlinewidth\":0,\"ticks\":\"\"}}}],\"bar\":[{\"error_x\":{\"color\":\"#2a3f5f\"},\"error_y\":{\"color\":\"#2a3f5f\"},\"marker\":{\"line\":{\"color\":\"#E5ECF6\",\"width\":0.5},\"pattern\":{\"fillmode\":\"overlay\",\"size\":10,\"solidity\":0.2}},\"type\":\"bar\"}],\"scattergeo\":[{\"type\":\"scattergeo\",\"marker\":{\"colorbar\":{\"outlinewidth\":0,\"ticks\":\"\"}}}],\"scatterpolar\":[{\"type\":\"scatterpolar\",\"marker\":{\"colorbar\":{\"outlinewidth\":0,\"ticks\":\"\"}}}],\"histogram\":[{\"marker\":{\"pattern\":{\"fillmode\":\"overlay\",\"size\":10,\"solidity\":0.2}},\"type\":\"histogram\"}],\"scattergl\":[{\"type\":\"scattergl\",\"marker\":{\"colorbar\":{\"outlinewidth\":0,\"ticks\":\"\"}}}],\"scatter3d\":[{\"type\":\"scatter3d\",\"line\":{\"colorbar\":{\"outlinewidth\":0,\"ticks\":\"\"}},\"marker\":{\"colorbar\":{\"outlinewidth\":0,\"ticks\":\"\"}}}],\"scattermapbox\":[{\"type\":\"scattermapbox\",\"marker\":{\"colorbar\":{\"outlinewidth\":0,\"ticks\":\"\"}}}],\"scatterternary\":[{\"type\":\"scatterternary\",\"marker\":{\"colorbar\":{\"outlinewidth\":0,\"ticks\":\"\"}}}],\"scattercarpet\":[{\"type\":\"scattercarpet\",\"marker\":{\"colorbar\":{\"outlinewidth\":0,\"ticks\":\"\"}}}],\"carpet\":[{\"aaxis\":{\"endlinecolor\":\"#2a3f5f\",\"gridcolor\":\"white\",\"linecolor\":\"white\",\"minorgridcolor\":\"white\",\"startlinecolor\":\"#2a3f5f\"},\"baxis\":{\"endlinecolor\":\"#2a3f5f\",\"gridcolor\":\"white\",\"linecolor\":\"white\",\"minorgridcolor\":\"white\",\"startlinecolor\":\"#2a3f5f\"},\"type\":\"carpet\"}],\"table\":[{\"cells\":{\"fill\":{\"color\":\"#EBF0F8\"},\"line\":{\"color\":\"white\"}},\"header\":{\"fill\":{\"color\":\"#C8D4E3\"},\"line\":{\"color\":\"white\"}},\"type\":\"table\"}],\"barpolar\":[{\"marker\":{\"line\":{\"color\":\"#E5ECF6\",\"width\":0.5},\"pattern\":{\"fillmode\":\"overlay\",\"size\":10,\"solidity\":0.2}},\"type\":\"barpolar\"}],\"pie\":[{\"automargin\":true,\"type\":\"pie\"}]},\"layout\":{\"autotypenumbers\":\"strict\",\"colorway\":[\"#636efa\",\"#EF553B\",\"#00cc96\",\"#ab63fa\",\"#FFA15A\",\"#19d3f3\",\"#FF6692\",\"#B6E880\",\"#FF97FF\",\"#FECB52\"],\"font\":{\"color\":\"#2a3f5f\"},\"hovermode\":\"closest\",\"hoverlabel\":{\"align\":\"left\"},\"paper_bgcolor\":\"white\",\"plot_bgcolor\":\"#E5ECF6\",\"polar\":{\"bgcolor\":\"#E5ECF6\",\"angularaxis\":{\"gridcolor\":\"white\",\"linecolor\":\"white\",\"ticks\":\"\"},\"radialaxis\":{\"gridcolor\":\"white\",\"linecolor\":\"white\",\"ticks\":\"\"}},\"ternary\":{\"bgcolor\":\"#E5ECF6\",\"aaxis\":{\"gridcolor\":\"white\",\"linecolor\":\"white\",\"ticks\":\"\"},\"baxis\":{\"gridcolor\":\"white\",\"linecolor\":\"white\",\"ticks\":\"\"},\"caxis\":{\"gridcolor\":\"white\",\"linecolor\":\"white\",\"ticks\":\"\"}},\"coloraxis\":{\"colorbar\":{\"outlinewidth\":0,\"ticks\":\"\"}},\"colorscale\":{\"sequential\":[[0.0,\"#0d0887\"],[0.1111111111111111,\"#46039f\"],[0.2222222222222222,\"#7201a8\"],[0.3333333333333333,\"#9c179e\"],[0.4444444444444444,\"#bd3786\"],[0.5555555555555556,\"#d8576b\"],[0.6666666666666666,\"#ed7953\"],[0.7777777777777778,\"#fb9f3a\"],[0.8888888888888888,\"#fdca26\"],[1.0,\"#f0f921\"]],\"sequentialminus\":[[0.0,\"#0d0887\"],[0.1111111111111111,\"#46039f\"],[0.2222222222222222,\"#7201a8\"],[0.3333333333333333,\"#9c179e\"],[0.4444444444444444,\"#bd3786\"],[0.5555555555555556,\"#d8576b\"],[0.6666666666666666,\"#ed7953\"],[0.7777777777777778,\"#fb9f3a\"],[0.8888888888888888,\"#fdca26\"],[1.0,\"#f0f921\"]],\"diverging\":[[0,\"#8e0152\"],[0.1,\"#c51b7d\"],[0.2,\"#de77ae\"],[0.3,\"#f1b6da\"],[0.4,\"#fde0ef\"],[0.5,\"#f7f7f7\"],[0.6,\"#e6f5d0\"],[0.7,\"#b8e186\"],[0.8,\"#7fbc41\"],[0.9,\"#4d9221\"],[1,\"#276419\"]]},\"xaxis\":{\"gridcolor\":\"white\",\"linecolor\":\"white\",\"ticks\":\"\",\"title\":{\"standoff\":15},\"zerolinecolor\":\"white\",\"automargin\":true,\"zerolinewidth\":2},\"yaxis\":{\"gridcolor\":\"white\",\"linecolor\":\"white\",\"ticks\":\"\",\"title\":{\"standoff\":15},\"zerolinecolor\":\"white\",\"automargin\":true,\"zerolinewidth\":2},\"scene\":{\"xaxis\":{\"backgroundcolor\":\"#E5ECF6\",\"gridcolor\":\"white\",\"linecolor\":\"white\",\"showbackground\":true,\"ticks\":\"\",\"zerolinecolor\":\"white\",\"gridwidth\":2},\"yaxis\":{\"backgroundcolor\":\"#E5ECF6\",\"gridcolor\":\"white\",\"linecolor\":\"white\",\"showbackground\":true,\"ticks\":\"\",\"zerolinecolor\":\"white\",\"gridwidth\":2},\"zaxis\":{\"backgroundcolor\":\"#E5ECF6\",\"gridcolor\":\"white\",\"linecolor\":\"white\",\"showbackground\":true,\"ticks\":\"\",\"zerolinecolor\":\"white\",\"gridwidth\":2}},\"shapedefaults\":{\"line\":{\"color\":\"#2a3f5f\"}},\"annotationdefaults\":{\"arrowcolor\":\"#2a3f5f\",\"arrowhead\":0,\"arrowwidth\":1},\"geo\":{\"bgcolor\":\"white\",\"landcolor\":\"#E5ECF6\",\"subunitcolor\":\"white\",\"showland\":true,\"showlakes\":true,\"lakecolor\":\"white\"},\"title\":{\"x\":0.05},\"mapbox\":{\"style\":\"light\"}}},\"legend\":{\"x\":0.05,\"y\":0.95},\"margin\":{\"l\":20,\"r\":20,\"t\":60,\"b\":20},\"title\":{\"text\":\"Receiver Operating Characteristic (ROC)\"},\"xaxis\":{\"title\":{\"text\":\"False Positive Rate\"}},\"yaxis\":{\"title\":{\"text\":\"True Positive Rate\"}},\"hovermode\":\"closest\"},                        {\"responsive\": true}                    ).then(function(){\n",
              "                            \n",
              "var gd = document.getElementById('358978ca-af6e-4a8f-822c-2c2d69f2f609');\n",
              "var x = new MutationObserver(function (mutations, observer) {{\n",
              "        var display = window.getComputedStyle(gd).display;\n",
              "        if (!display || display === 'none') {{\n",
              "            console.log([gd, 'removed!']);\n",
              "            Plotly.purge(gd);\n",
              "            observer.disconnect();\n",
              "        }}\n",
              "}});\n",
              "\n",
              "// Listen for the removal of the full notebook cells\n",
              "var notebookContainer = gd.closest('#notebook-container');\n",
              "if (notebookContainer) {{\n",
              "    x.observe(notebookContainer, {childList: true});\n",
              "}}\n",
              "\n",
              "// Listen for the clearing of the current output cell\n",
              "var outputEl = gd.closest('.output');\n",
              "if (outputEl) {{\n",
              "    x.observe(outputEl, {childList: true});\n",
              "}}\n",
              "\n",
              "                        })                };                            </script>        </div>\n",
              "</body>\n",
              "</html>"
            ]
          },
          "metadata": {}
        }
      ],
      "source": [
        "# ROC_AUC curve\n",
        "import plotly.graph_objects as go\n",
        "import matplotlib.pyplot as plt\n",
        "from sklearn.metrics import roc_curve, auc\n",
        "\n",
        "# Compute ROC curve and ROC area for each class\n",
        "fpr, tpr, _ = roc_curve(y_test, y_prob)\n",
        "roc_auc = auc(fpr, tpr)\n",
        "\n",
        "# Create ROC curve plotly figure\n",
        "fig = go.Figure()\n",
        "fig.add_trace(go.Scatter(x=fpr, y=tpr, mode='lines', name='ROC curve (area = %0.2f)' % roc_auc))\n",
        "fig.add_trace(go.Scatter(x=[0, 1], y=[0, 1], mode='lines', line=dict(dash='dash'), name='Random Guess'))\n",
        "\n",
        "# Update layout\n",
        "fig.update_layout(\n",
        "    title='Receiver Operating Characteristic (ROC)',\n",
        "    xaxis=dict(title='False Positive Rate'),\n",
        "    yaxis=dict(title='True Positive Rate'),\n",
        "    legend=dict(x=0.05, y=0.95),\n",
        "    margin=dict(l=20, r=20, t=60, b=20),\n",
        "    hovermode='closest'\n",
        ")\n",
        "\n",
        "# Show plot\n",
        "fig.show()"
      ]
    },
    {
      "cell_type": "code",
      "execution_count": null,
      "id": "o55F86HZM-Rd",
      "metadata": {
        "id": "o55F86HZM-Rd",
        "colab": {
          "base_uri": "https://localhost:8080/"
        },
        "outputId": "e2b49d9d-6508-4dd5-d50c-dc1b10c4ae8b"
      },
      "outputs": [
        {
          "output_type": "execute_result",
          "data": {
            "text/plain": [
              "array([[0],\n",
              "       [1],\n",
              "       [0],\n",
              "       ...,\n",
              "       [1],\n",
              "       [0],\n",
              "       [1]])"
            ]
          },
          "metadata": {},
          "execution_count": 49
        }
      ],
      "source": [
        "y_pred = np.where(y_prob>0.565,1,0)\n",
        "y_pred"
      ]
    },
    {
      "cell_type": "code",
      "execution_count": null,
      "id": "VgufF2hnO9o5",
      "metadata": {
        "id": "VgufF2hnO9o5",
        "colab": {
          "base_uri": "https://localhost:8080/"
        },
        "outputId": "5319e937-5459-436c-fee8-df0839a8729a"
      },
      "outputs": [
        {
          "output_type": "stream",
          "name": "stdout",
          "text": [
            "0.8627\n",
            "              precision    recall  f1-score   support\n",
            "\n",
            "           0       0.87      0.85      0.86      4961\n",
            "           1       0.86      0.87      0.87      5039\n",
            "\n",
            "    accuracy                           0.86     10000\n",
            "   macro avg       0.86      0.86      0.86     10000\n",
            "weighted avg       0.86      0.86      0.86     10000\n",
            "\n"
          ]
        }
      ],
      "source": [
        "from sklearn.metrics import accuracy_score,classification_report\n",
        "\n",
        "# Performance metrics\n",
        "\n",
        "print(accuracy_score(y_test,y_pred))\n",
        "print(classification_report(y_test,y_pred))"
      ]
    },
    {
      "cell_type": "code",
      "execution_count": null,
      "id": "UO4WPZh3PeMs",
      "metadata": {
        "id": "UO4WPZh3PeMs",
        "colab": {
          "base_uri": "https://localhost:8080/",
          "height": 472
        },
        "outputId": "81e830ad-b32f-4858-a6fb-8316e6ef079b"
      },
      "outputs": [
        {
          "output_type": "display_data",
          "data": {
            "text/plain": [
              "<Figure size 640x480 with 2 Axes>"
            ],
            "image/png": "[encoded data removed]"
          },
          "metadata": {}
        }
      ],
      "source": [
        "# from sklearn.metrics import confusion_matrix\n",
        "# print(confusion_matrix(y_test,y_pred))\n",
        "\n",
        "import seaborn as sns\n",
        "import matplotlib.pyplot as plt\n",
        "from sklearn.metrics import confusion_matrix\n",
        "\n",
        "# Compute the confusion matrix\n",
        "cm = confusion_matrix(y_test, y_pred)\n",
        "\n",
        "# Create a heatmap using seaborn\n",
        "sns.heatmap(cm, annot=True, fmt='d', cmap='Blues', xticklabels=['Predicted 0', 'Predicted 1'], yticklabels=['True 0', 'True 1'])\n",
        "plt.xlabel('Predicted Label')\n",
        "plt.ylabel('True Label')\n",
        "plt.title('Confusion Matrix')\n",
        "plt.show()\n"
      ]
    },
    {
      "cell_type": "code",
      "execution_count": null,
      "id": "0jMDfvHQ-vQr",
      "metadata": {
        "id": "0jMDfvHQ-vQr",
        "colab": {
          "base_uri": "https://localhost:8080/",
          "height": 472
        },
        "outputId": "f107590c-fa7c-46a2-8d46-c36415f1adc8"
      },
      "outputs": [
        {
          "output_type": "display_data",
          "data": {
            "text/plain": [
              "<Figure size 640x480 with 1 Axes>"
            ],
            "image/png": "[encoded data removed]"
          },
          "metadata": {}
        }
      ],
      "source": [
        "# summarize history for accuracy\n",
        "\n",
        "plt.plot(model_lstm.history['accuracy'])\n",
        "plt.plot(model_lstm.history['val_accuracy'])\n",
        "plt.title('model accuracy')\n",
        "plt.ylabel('accuracy')\n",
        "plt.xlabel('epoch')\n",
        "plt.legend(['train', 'test'], loc= 'upper left')\n",
        "plt.show()"
      ]
    },
    {
      "cell_type": "code",
      "execution_count": null,
      "id": "kmpW1p876As9",
      "metadata": {
        "id": "kmpW1p876As9",
        "colab": {
          "base_uri": "https://localhost:8080/",
          "height": 472
        },
        "outputId": "4ca3d965-c422-449f-a695-f4ccee3b3ca7"
      },
      "outputs": [
        {
          "output_type": "display_data",
          "data": {
            "text/plain": [
              "<Figure size 640x480 with 1 Axes>"
            ],
            "image/png": "[encoded data removed]"
          },
          "metadata": {}
        }
      ],
      "source": [
        "# Summarize history for loss\n",
        "\n",
        "plt.plot(model_lstm.history['loss'])\n",
        "plt.plot(model_lstm.history['val_loss'])\n",
        "plt.title('model loss')\n",
        "plt.ylabel('loss')\n",
        "plt.xlabel('epoch')\n",
        "plt.legend(['train', 'test'], loc= 'upper left')\n",
        "plt.show()"
      ]
    },
    {
      "cell_type": "code",
      "execution_count": null,
      "id": "9etpFuEO6uV5",
      "metadata": {
        "id": "9etpFuEO6uV5"
      },
      "outputs": [],
      "source": []
    },
    {
      "cell_type": "code",
      "execution_count": null,
      "id": "nZF5TSiq4v_R",
      "metadata": {
        "id": "nZF5TSiq4v_R",
        "colab": {
          "base_uri": "https://localhost:8080/"
        },
        "outputId": "49c185e6-82b1-4761-b086-c2efcb725af1"
      },
      "outputs": [
        {
          "output_type": "stream",
          "name": "stderr",
          "text": [
            "WARNING:absl:You are saving your model as an HDF5 file via `model.save()` or `keras.saving.save_model(model)`. This file format is considered legacy. We recommend using instead the native Keras format, e.g. `model.save('my_model.keras')` or `keras.saving.save_model(model, 'my_model.keras')`. \n"
          ]
        }
      ],
      "source": [
        "model.save(\"lstm_w2v_model.h5\")"
      ]
    },
    {
      "cell_type": "code",
      "execution_count": null,
      "id": "5n6moIg-59Wl",
      "metadata": {
        "id": "5n6moIg-59Wl"
      },
      "outputs": [],
      "source": [
        "def load_model_and_predict(input_data):\n",
        "    from keras.models import load_model\n",
        "    model = load_model('lstm_w2v_model.h5')\n",
        "\n",
        "    # Preprocess input_data as done for training\n",
        "    input_data = pd.DataFrame(input_data, columns=[\"review\"])\n",
        "    input_data = data_prep(input_data)\n",
        "\n",
        "    prediction = model.predict(input_data)\n",
        "    return prediction"
      ]
    },
    {
      "cell_type": "code",
      "execution_count": null,
      "id": "QsLeKs8-Gx0L",
      "metadata": {
        "id": "QsLeKs8-Gx0L"
      },
      "outputs": [],
      "source": [
        "d =[\"I loved this series so much. Then came season 8 episode 3 and 4. Such a disgraceful ending.Seasons 1-4 10/10 Seasons 5-7 9/10 Season 8 (Ep 1-4) 3/10\",\n",
        "    \"I was a big fan of Game of Thrones ever since it first aired on HBO. However, after waiting for two years, I (as probably also a lot of others) felt that the season didn't rise up the rest of the show. I believe the writers and producers didn't do the show justice and rushed the story. In these 6 episodes and pretty much destroyed most of the major character lines. It took 7 seasons for these complex story lines to evolve, just to be shattered in 2 episodes. That being said, taking in consideration that season 8 is a part of GOT, I don't believe anymore that the show deserves the 9.5 stars.\"]"
      ]
    },
    {
      "cell_type": "code",
      "execution_count": null,
      "id": "J27HdTTpGQlG",
      "metadata": {
        "id": "J27HdTTpGQlG",
        "colab": {
          "base_uri": "https://localhost:8080/"
        },
        "outputId": "c02c58f2-2965-4900-ff6a-56ea296108a8"
      },
      "outputs": [
        {
          "output_type": "stream",
          "name": "stderr",
          "text": [
            "WARNING:absl:Compiled the loaded model, but the compiled metrics have yet to be built. `model.compile_metrics` will be empty until you train or evaluate the model.\n",
            "100%|██████████| 2/2 [00:00<00:00, 352.40it/s]\n"
          ]
        },
        {
          "output_type": "stream",
          "name": "stdout",
          "text": [
            "\u001b[1m1/1\u001b[0m \u001b[32m━━━━━━━━━━━━━━━━━━━━\u001b[0m\u001b[37m\u001b[0m \u001b[1m0s\u001b[0m 222ms/step\n",
            "[[0.9855979 ]\n",
            " [0.71890515]]\n"
          ]
        }
      ],
      "source": [
        "prediction = load_model_and_predict(d)\n",
        "print(prediction)"
      ]
    },
    {
      "cell_type": "code",
      "execution_count": null,
      "id": "0Khz_1OKKmSr",
      "metadata": {
        "id": "0Khz_1OKKmSr"
      },
      "outputs": [],
      "source": []
    }
  ],
  "metadata": {
    "accelerator": "GPU",
    "colab": {
      "gpuType": "T4",
      "provenance": [],
      "toc_visible": true,
      "include_colab_link": true
    },
    "kernelspec": {
      "display_name": "Python 3",
      "name": "python3"
    },
    "language_info": {
      "codemirror_mode": {
        "name": "ipython",
        "version": 3
      },
      "file_extension": ".py",
      "mimetype": "text/x-python",
      "name": "python",
      "nbconvert_exporter": "python",
      "pygments_lexer": "ipython3",
      "version": "3.10.0"
    }
  },
  "nbformat": 4,
  "nbformat_minor": 5
}